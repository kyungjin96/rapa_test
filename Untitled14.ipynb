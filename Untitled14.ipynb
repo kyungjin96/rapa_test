{
 "cells": [
  {
   "cell_type": "code",
   "execution_count": 8,
   "id": "0015a952",
   "metadata": {},
   "outputs": [
    {
     "name": "stdout",
     "output_type": "stream",
     "text": [
      "년월일을 입력하세요 (YYYYMMDD형식):20211115\n",
      "------------------------------\n",
      "2021//1//1 ~ 2021//11//15 : 318\n"
     ]
    }
   ],
   "source": [
    "ymd = input('년월일을 입력하세요 (YYYYMMDD형식):')\n",
    "year = int(ymd[:4])\n",
    "month = int(ymd[4:6])\n",
    "day = int(ymd[6:])\n",
    "dates =[31,28,31,30,31,30,31,31,30,31,30,31]\n",
    "if year%400 ==0 or(year%100 !=0 and year%4 ==0):\n",
    "    dates[1]=29\n",
    "print(\"-\"*30)\n",
    "days = 0\n",
    "for i in range(month -1):\n",
    "    days += dates[i]\n",
    "days += day-1\n",
    "print(f'{year}//1//1 ~ {year}//{month}//{day} : {days}')"
   ]
  },
  {
   "cell_type": "code",
   "execution_count": 5,
   "id": "0799cc52",
   "metadata": {},
   "outputs": [
    {
     "name": "stdout",
     "output_type": "stream",
     "text": [
      "YYYYMMDD : 20211115\n",
      "------------------------------\n",
      "2021//1//1 ~ 2021//11//15 : 315\n"
     ]
    }
   ],
   "source": []
  },
  {
   "cell_type": "code",
   "execution_count": 6,
   "id": "8e8f59f0",
   "metadata": {},
   "outputs": [
    {
     "name": "stdout",
     "output_type": "stream",
     "text": [
      "YYYYMMDD :20211115\n",
      "--------------------\n",
      "2021/1/1 ~ 2021/11/15 : 318\n"
     ]
    }
   ],
   "source": [
    "today = input('YYYYMMDD :')\n",
    "today_y = int(today[0:4]); today_m = int(today[4:6]) ; today_d = int(today[6:8])\n",
    "\n",
    "dates = [31,28,31,30,31,30,31,31,30,31,30,31]\n",
    "\n",
    "if today_y % 400 ==0 or (today_y %100 != 0 and today_y % 4 ==0):\n",
    "    \n",
    "    dates[1]=29\n",
    "    \n",
    "days = sum(dates[0:today_m-1])+today_d-1\n",
    "\n",
    "print('-'*20)\n",
    "\n",
    "print(f'{today_y}/1/1 ~ {today_y}/{today_m}/{today_d} : {days}')"
   ]
  },
  {
   "cell_type": "code",
   "execution_count": null,
   "id": "9057888c",
   "metadata": {},
   "outputs": [],
   "source": []
  }
 ],
 "metadata": {
  "kernelspec": {
   "display_name": "Python 3 (ipykernel)",
   "language": "python",
   "name": "python3"
  },
  "language_info": {
   "codemirror_mode": {
    "name": "ipython",
    "version": 3
   },
   "file_extension": ".py",
   "mimetype": "text/x-python",
   "name": "python",
   "nbconvert_exporter": "python",
   "pygments_lexer": "ipython3",
   "version": "3.8.10"
  }
 },
 "nbformat": 4,
 "nbformat_minor": 5
}
