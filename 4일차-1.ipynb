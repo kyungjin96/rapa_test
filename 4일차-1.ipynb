{
 "cells": [
  {
   "cell_type": "code",
   "execution_count": 12,
   "id": "43506006",
   "metadata": {},
   "outputs": [],
   "source": [
    "###튜플은 데이터 변형 불가능 () 생략 가능 항목이 하나인 튜플은 뒤에 ,"
   ]
  },
  {
   "cell_type": "code",
   "execution_count": 19,
   "id": "4390d879",
   "metadata": {},
   "outputs": [
    {
     "name": "stdout",
     "output_type": "stream",
     "text": [
      "<class 'tuple'>\n",
      "<class 'tuple'>\n"
     ]
    }
   ],
   "source": [
    "tup = 'a', 'b', 'c',1\n",
    "tp = 'a',\n",
    "print(type(tup))\n",
    "print(type(tp))"
   ]
  },
  {
   "cell_type": "code",
   "execution_count": 15,
   "id": "e6c948b7",
   "metadata": {},
   "outputs": [
    {
     "name": "stdout",
     "output_type": "stream",
     "text": [
      "('a', 'b', 'c', 1)\n"
     ]
    }
   ],
   "source": [
    "print(tup)"
   ]
  },
  {
   "cell_type": "code",
   "execution_count": 16,
   "id": "9da164a1",
   "metadata": {},
   "outputs": [
    {
     "name": "stdout",
     "output_type": "stream",
     "text": [
      "a\n"
     ]
    }
   ],
   "source": [
    "print(tup[0])"
   ]
  },
  {
   "cell_type": "code",
   "execution_count": 23,
   "id": "454fba7a",
   "metadata": {},
   "outputs": [
    {
     "name": "stdout",
     "output_type": "stream",
     "text": [
      "('a', 'b', 'c', 1, 'a')\n",
      "5\n"
     ]
    }
   ],
   "source": [
    "tu = tup + tp\n",
    "print(tu)\n",
    "print(len(tu))"
   ]
  },
  {
   "cell_type": "code",
   "execution_count": 1,
   "id": "e3adccbd",
   "metadata": {},
   "outputs": [
    {
     "name": "stdout",
     "output_type": "stream",
     "text": [
      "10.5 ns ± 0.0755 ns per loop (mean ± std. dev. of 7 runs, 100000000 loops each)\n",
      "45.8 ns ± 0.0789 ns per loop (mean ± std. dev. of 7 runs, 10000000 loops each)\n"
     ]
    },
    {
     "ename": "NameError",
     "evalue": "name 'tup' is not defined",
     "output_type": "error",
     "traceback": [
      "\u001b[1;31m---------------------------------------------------------------------------\u001b[0m",
      "\u001b[1;31mNameError\u001b[0m                                 Traceback (most recent call last)",
      "\u001b[1;32m~\\AppData\\Local\\Temp/ipykernel_5180/1995843965.py\u001b[0m in \u001b[0;36m<module>\u001b[1;34m\u001b[0m\n\u001b[0;32m      3\u001b[0m \u001b[1;33m\u001b[0m\u001b[0m\n\u001b[0;32m      4\u001b[0m \u001b[1;32mimport\u001b[0m \u001b[0msys\u001b[0m\u001b[1;33m\u001b[0m\u001b[1;33m\u001b[0m\u001b[0m\n\u001b[1;32m----> 5\u001b[1;33m \u001b[0mprint\u001b[0m\u001b[1;33m(\u001b[0m\u001b[0msys\u001b[0m\u001b[1;33m.\u001b[0m\u001b[0mgetsizeof\u001b[0m\u001b[1;33m(\u001b[0m\u001b[0mtup\u001b[0m\u001b[1;33m)\u001b[0m\u001b[1;33m)\u001b[0m\u001b[1;33m\u001b[0m\u001b[1;33m\u001b[0m\u001b[0m\n\u001b[0m\u001b[0;32m      6\u001b[0m \u001b[0mprint\u001b[0m\u001b[1;33m(\u001b[0m\u001b[0msys\u001b[0m\u001b[1;33m.\u001b[0m\u001b[0mgetsizeof\u001b[0m\u001b[1;33m(\u001b[0m\u001b[0mtup_\u001b[0m\u001b[1;33m)\u001b[0m\u001b[1;33m)\u001b[0m\u001b[1;33m\u001b[0m\u001b[1;33m\u001b[0m\u001b[0m\n",
      "\u001b[1;31mNameError\u001b[0m: name 'tup' is not defined"
     ]
    }
   ],
   "source": [
    "%timeit tup = 'a', 'b', 'c',1,100000,'AAAAAAA'\n",
    "%timeit tup_ = ['a', 'b', 'c',1,100000,'AAAAAAA']\n",
    "\n",
    "import sys\n",
    "print(sys.getsizeof(tup))\n",
    "print(sys.getsizeof(tup_))\n"
   ]
  },
  {
   "cell_type": "code",
   "execution_count": 24,
   "id": "4dcc0f3b",
   "metadata": {},
   "outputs": [
    {
     "name": "stdout",
     "output_type": "stream",
     "text": [
      "{'name': '전', 'age': 29}\n",
      "{'name': '전', 'age': 29, '하이': 100}\n",
      "{'name': '전', 'age': 100, '하이': 100}\n",
      "전\n",
      "2\n",
      "{'name': '전', '하이': 100}\n"
     ]
    }
   ],
   "source": [
    "#키 값이 같을때는 마지막 값이 나옴\n",
    "\n",
    "numbers = {'name' : '진', 'name' : '전','age' : 29}\n",
    "\n",
    "print(numbers)\n",
    "numbers['하이'] = 100 #요소 추가\n",
    "print(numbers)\n",
    "numbers['age'] = 100 #요소 수정\n",
    "print(numbers)\n",
    "del numbers['age'] #요소 삭제\n",
    "\n",
    "\n",
    "print(numbers['name'])\n",
    "print(len(numbers))\n",
    "print(numbers)"
   ]
  },
  {
   "cell_type": "code",
   "execution_count": 19,
   "id": "796b4fb2",
   "metadata": {},
   "outputs": [
    {
     "name": "stdout",
     "output_type": "stream",
     "text": [
      "{'name': 'pey'}\n"
     ]
    }
   ],
   "source": [
    "a = dict(name ='pey') #바로 정의할때는 =을 사용\n",
    "print(a)"
   ]
  },
  {
   "cell_type": "code",
   "execution_count": 9,
   "id": "900d3e06",
   "metadata": {},
   "outputs": [
    {
     "name": "stdout",
     "output_type": "stream",
     "text": [
      "Help on class dict in module builtins:\n",
      "\n",
      "class dict(object)\n",
      " |  dict() -> new empty dictionary\n",
      " |  dict(mapping) -> new dictionary initialized from a mapping object's\n",
      " |      (key, value) pairs\n",
      " |  dict(iterable) -> new dictionary initialized as if via:\n",
      " |      d = {}\n",
      " |      for k, v in iterable:\n",
      " |          d[k] = v\n",
      " |  dict(**kwargs) -> new dictionary initialized with the name=value pairs\n",
      " |      in the keyword argument list.  For example:  dict(one=1, two=2)\n",
      " |  \n",
      " |  Built-in subclasses:\n",
      " |      StgDict\n",
      " |  \n",
      " |  Methods defined here:\n",
      " |  \n",
      " |  __contains__(self, key, /)\n",
      " |      True if the dictionary has the specified key, else False.\n",
      " |  \n",
      " |  __delitem__(self, key, /)\n",
      " |      Delete self[key].\n",
      " |  \n",
      " |  __eq__(self, value, /)\n",
      " |      Return self==value.\n",
      " |  \n",
      " |  __ge__(self, value, /)\n",
      " |      Return self>=value.\n",
      " |  \n",
      " |  __getattribute__(self, name, /)\n",
      " |      Return getattr(self, name).\n",
      " |  \n",
      " |  __getitem__(...)\n",
      " |      x.__getitem__(y) <==> x[y]\n",
      " |  \n",
      " |  __gt__(self, value, /)\n",
      " |      Return self>value.\n",
      " |  \n",
      " |  __init__(self, /, *args, **kwargs)\n",
      " |      Initialize self.  See help(type(self)) for accurate signature.\n",
      " |  \n",
      " |  __iter__(self, /)\n",
      " |      Implement iter(self).\n",
      " |  \n",
      " |  __le__(self, value, /)\n",
      " |      Return self<=value.\n",
      " |  \n",
      " |  __len__(self, /)\n",
      " |      Return len(self).\n",
      " |  \n",
      " |  __lt__(self, value, /)\n",
      " |      Return self<value.\n",
      " |  \n",
      " |  __ne__(self, value, /)\n",
      " |      Return self!=value.\n",
      " |  \n",
      " |  __repr__(self, /)\n",
      " |      Return repr(self).\n",
      " |  \n",
      " |  __reversed__(self, /)\n",
      " |      Return a reverse iterator over the dict keys.\n",
      " |  \n",
      " |  __setitem__(self, key, value, /)\n",
      " |      Set self[key] to value.\n",
      " |  \n",
      " |  __sizeof__(...)\n",
      " |      D.__sizeof__() -> size of D in memory, in bytes\n",
      " |  \n",
      " |  clear(...)\n",
      " |      D.clear() -> None.  Remove all items from D.\n",
      " |  \n",
      " |  copy(...)\n",
      " |      D.copy() -> a shallow copy of D\n",
      " |  \n",
      " |  get(self, key, default=None, /)\n",
      " |      Return the value for key if key is in the dictionary, else default.\n",
      " |  \n",
      " |  items(...)\n",
      " |      D.items() -> a set-like object providing a view on D's items\n",
      " |  \n",
      " |  keys(...)\n",
      " |      D.keys() -> a set-like object providing a view on D's keys\n",
      " |  \n",
      " |  pop(...)\n",
      " |      D.pop(k[,d]) -> v, remove specified key and return the corresponding value.\n",
      " |      If key is not found, d is returned if given, otherwise KeyError is raised\n",
      " |  \n",
      " |  popitem(self, /)\n",
      " |      Remove and return a (key, value) pair as a 2-tuple.\n",
      " |      \n",
      " |      Pairs are returned in LIFO (last-in, first-out) order.\n",
      " |      Raises KeyError if the dict is empty.\n",
      " |  \n",
      " |  setdefault(self, key, default=None, /)\n",
      " |      Insert key with a value of default if key is not in the dictionary.\n",
      " |      \n",
      " |      Return the value for key if key is in the dictionary, else default.\n",
      " |  \n",
      " |  update(...)\n",
      " |      D.update([E, ]**F) -> None.  Update D from dict/iterable E and F.\n",
      " |      If E is present and has a .keys() method, then does:  for k in E: D[k] = E[k]\n",
      " |      If E is present and lacks a .keys() method, then does:  for k, v in E: D[k] = v\n",
      " |      In either case, this is followed by: for k in F:  D[k] = F[k]\n",
      " |  \n",
      " |  values(...)\n",
      " |      D.values() -> an object providing a view on D's values\n",
      " |  \n",
      " |  ----------------------------------------------------------------------\n",
      " |  Class methods defined here:\n",
      " |  \n",
      " |  fromkeys(iterable, value=None, /) from builtins.type\n",
      " |      Create a new dictionary with keys from iterable and values set to value.\n",
      " |  \n",
      " |  ----------------------------------------------------------------------\n",
      " |  Static methods defined here:\n",
      " |  \n",
      " |  __new__(*args, **kwargs) from builtins.type\n",
      " |      Create and return a new object.  See help(type) for accurate signature.\n",
      " |  \n",
      " |  ----------------------------------------------------------------------\n",
      " |  Data and other attributes defined here:\n",
      " |  \n",
      " |  __hash__ = None\n",
      "\n"
     ]
    }
   ],
   "source": [
    "help(dict) #help"
   ]
  },
  {
   "cell_type": "code",
   "execution_count": 26,
   "id": "b8968040",
   "metadata": {},
   "outputs": [
    {
     "name": "stdout",
     "output_type": "stream",
     "text": [
      "key[kor],value[95]\n",
      "key[eng],value[95]\n",
      "key[math],value[95]\n"
     ]
    }
   ],
   "source": [
    "scores = {'kor': 70, 'eng':80, 'math' : 95}\n",
    "\n",
    "for i in scores :\n",
    "    print(f'key[{i}],value[{scores[key]}]')"
   ]
  },
  {
   "cell_type": "code",
   "execution_count": 27,
   "id": "bd0ee1a3",
   "metadata": {},
   "outputs": [
    {
     "name": "stdout",
     "output_type": "stream",
     "text": [
      "dict_keys(['kor', 'eng', 'math'])\n"
     ]
    }
   ],
   "source": [
    "print(scores.keys())"
   ]
  },
  {
   "cell_type": "code",
   "execution_count": 28,
   "id": "4a3b15b7",
   "metadata": {},
   "outputs": [
    {
     "name": "stdout",
     "output_type": "stream",
     "text": [
      "kor\n",
      "eng\n",
      "math\n"
     ]
    }
   ],
   "source": [
    "for k in (scores.keys()) :\n",
    "    print(k)"
   ]
  },
  {
   "cell_type": "code",
   "execution_count": 29,
   "id": "31f8808d",
   "metadata": {},
   "outputs": [
    {
     "name": "stdout",
     "output_type": "stream",
     "text": [
      "dict_values([70, 80, 95])\n"
     ]
    }
   ],
   "source": [
    "print(scores.values())"
   ]
  },
  {
   "cell_type": "code",
   "execution_count": 32,
   "id": "d3634255",
   "metadata": {},
   "outputs": [
    {
     "name": "stdout",
     "output_type": "stream",
     "text": [
      "70 80 95 "
     ]
    }
   ],
   "source": [
    "for i in (scores.values()) : \n",
    "    print(i, end =' ')\n"
   ]
  },
  {
   "cell_type": "code",
   "execution_count": 43,
   "id": "835d3c3d",
   "metadata": {},
   "outputs": [
    {
     "name": "stdout",
     "output_type": "stream",
     "text": [
      "kor 70\n",
      "eng 80\n",
      "math 95\n"
     ]
    }
   ],
   "source": [
    "scores.items()\n",
    "for k,i in scores.items() : \n",
    "    print(k, i )"
   ]
  },
  {
   "cell_type": "code",
   "execution_count": 51,
   "id": "ce8bdd43",
   "metadata": {},
   "outputs": [
    {
     "name": "stdout",
     "output_type": "stream",
     "text": [
      "BTS의 성적은 : 100\n",
      "트와이스의 성적은 : 50\n",
      "블랙핑크의 성적은 : 100\n",
      "뉴이스트의 성적은 : 50\n",
      "{'BTS': 100, '트와이스': 50, '블랙핑크': 100, '뉴이스트': 50}\n",
      "합계 :300,평균 : 75.00\n"
     ]
    }
   ],
   "source": [
    "names = ['BTS', '트와이스', '블랙핑크', '뉴이스트']\n",
    "idols = {}\n",
    "\n",
    "for k in names :\n",
    "    idols[k] = int(input(f'{k}의 성적은 : '))\n",
    "\n",
    "i = 0\n",
    "for key in idols : \n",
    "    i+=idols[key]\n",
    "    \n",
    "avg = i/(len(idols))\n",
    "print (idols)\n",
    "print ('합계 :%d,평균 : %.2f' % (i, avg))"
   ]
  },
  {
   "cell_type": "code",
   "execution_count": 54,
   "id": "528f835a",
   "metadata": {},
   "outputs": [
    {
     "name": "stdout",
     "output_type": "stream",
     "text": [
      "BTS의 성적은 : 100\n",
      "트와이스의 성적은 : 50\n",
      "블랙핑크의 성적은 : 100\n",
      "뉴이스트의 성적은 : 50\n",
      "아이돌 성적 합계300, 평균75.0\n"
     ]
    }
   ],
   "source": [
    "names = ['BTS', '트와이스', '블랙핑크', '뉴이스트']\n",
    "idols = {}\n",
    "\n",
    "for k in names :\n",
    "    idols[k] = int(input(f'{k}의 성적은 : '))\n",
    "\n",
    "a = sum(idols.values()) / len(idols)\n",
    "\n",
    "print(f'아이돌 성적 합계{sum(idols.values())}, 평균{a}')\n"
   ]
  },
  {
   "cell_type": "code",
   "execution_count": 1,
   "id": "15de5c44",
   "metadata": {},
   "outputs": [
    {
     "name": "stdout",
     "output_type": "stream",
     "text": [
      "---선택메뉴---\n",
      "1. 단어 등록\n",
      "2. 단어 검색\n",
      "3. 모든 단어 보기\n",
      "4. 퀴즈 풀기\n",
      "0. 종료하기\n",
      "-----------------------------선택 : apple\n",
      "잘못 입력했습니다\n",
      "---선택메뉴---\n",
      "1. 단어 등록\n",
      "2. 단어 검색\n",
      "3. 모든 단어 보기\n",
      "4. 퀴즈 풀기\n",
      "0. 종료하기\n",
      "-----------------------------선택 : 1\n",
      "새 단어 : apple\n",
      "apple단어의 뜻 : 사과\n",
      "---선택메뉴---\n",
      "1. 단어 등록\n",
      "2. 단어 검색\n",
      "3. 모든 단어 보기\n",
      "4. 퀴즈 풀기\n",
      "0. 종료하기\n",
      "-----------------------------선택 : 1\n",
      "새 단어 : black\n",
      "black단어의 뜻 : 검정\n",
      "---선택메뉴---\n",
      "1. 단어 등록\n",
      "2. 단어 검색\n",
      "3. 모든 단어 보기\n",
      "4. 퀴즈 풀기\n",
      "0. 종료하기\n",
      "-----------------------------선택 : blue\n",
      "잘못 입력했습니다\n",
      "---선택메뉴---\n",
      "1. 단어 등록\n",
      "2. 단어 검색\n",
      "3. 모든 단어 보기\n",
      "4. 퀴즈 풀기\n",
      "0. 종료하기\n",
      "-----------------------------선택 : 1\n",
      "새 단어 : blue\n",
      "blue단어의 뜻 : 파랑\n",
      "---선택메뉴---\n",
      "1. 단어 등록\n",
      "2. 단어 검색\n",
      "3. 모든 단어 보기\n",
      "4. 퀴즈 풀기\n",
      "0. 종료하기\n",
      "-----------------------------선택 : 2\n",
      "검색할 단어 : blue\n",
      "blue의 뜻은 파랑입니다\n",
      "---선택메뉴---\n",
      "1. 단어 등록\n",
      "2. 단어 검색\n",
      "3. 모든 단어 보기\n",
      "4. 퀴즈 풀기\n",
      "0. 종료하기\n",
      "-----------------------------선택 : 3\n",
      "apple : 사과\n",
      "black : 검정\n",
      "blue : 파랑\n",
      "---선택메뉴---\n",
      "1. 단어 등록\n",
      "2. 단어 검색\n",
      "3. 모든 단어 보기\n",
      "4. 퀴즈 풀기\n",
      "0. 종료하기\n",
      "-----------------------------선택 : 4\n",
      "사과의 영어단어는? apple\n",
      "정답입니다\n",
      "---선택메뉴---\n",
      "1. 단어 등록\n",
      "2. 단어 검색\n",
      "3. 모든 단어 보기\n",
      "4. 퀴즈 풀기\n",
      "0. 종료하기\n",
      "-----------------------------선택 : 4\n",
      "파랑의 영어단어는? blue\n",
      "정답입니다\n",
      "---선택메뉴---\n",
      "1. 단어 등록\n",
      "2. 단어 검색\n",
      "3. 모든 단어 보기\n",
      "4. 퀴즈 풀기\n",
      "0. 종료하기\n",
      "-----------------------------선택 : 1\n",
      "새 단어 : banana\n",
      "banana단어의 뜻 : 바나나\n",
      "---선택메뉴---\n",
      "1. 단어 등록\n",
      "2. 단어 검색\n",
      "3. 모든 단어 보기\n",
      "4. 퀴즈 풀기\n",
      "0. 종료하기\n",
      "-----------------------------선택 : 4\n",
      "파랑의 영어단어는? blue\n",
      "정답입니다\n",
      "---선택메뉴---\n",
      "1. 단어 등록\n",
      "2. 단어 검색\n",
      "3. 모든 단어 보기\n",
      "4. 퀴즈 풀기\n",
      "0. 종료하기\n",
      "-----------------------------선택 : 4\n",
      "파랑의 영어단어는? blue\n",
      "정답입니다\n",
      "---선택메뉴---\n",
      "1. 단어 등록\n",
      "2. 단어 검색\n",
      "3. 모든 단어 보기\n",
      "4. 퀴즈 풀기\n",
      "0. 종료하기\n",
      "-----------------------------선택 : 4\n",
      "파랑의 영어단어는? blue\n",
      "정답입니다\n",
      "---선택메뉴---\n",
      "1. 단어 등록\n",
      "2. 단어 검색\n",
      "3. 모든 단어 보기\n",
      "4. 퀴즈 풀기\n",
      "0. 종료하기\n",
      "-----------------------------선택 : 4\n",
      "사과의 영어단어는? apple\n",
      "정답입니다\n",
      "---선택메뉴---\n",
      "1. 단어 등록\n",
      "2. 단어 검색\n",
      "3. 모든 단어 보기\n",
      "4. 퀴즈 풀기\n",
      "0. 종료하기\n",
      "-----------------------------선택 : 4\n",
      "파랑의 영어단어는? bbb\n",
      "오답입니다\n",
      "---선택메뉴---\n",
      "1. 단어 등록\n",
      "2. 단어 검색\n",
      "3. 모든 단어 보기\n",
      "4. 퀴즈 풀기\n",
      "0. 종료하기\n",
      "-----------------------------선택 : 0\n",
      "프로그램을 종료 합니다.\n"
     ]
    }
   ],
   "source": [
    "import random\n",
    "mmm = '''---선택메뉴---\n",
    "1. 단어 등록\n",
    "2. 단어 검색\n",
    "3. 모든 단어 보기\n",
    "4. 퀴즈 풀기\n",
    "0. 종료하기\n",
    "-----------------------------'''\n",
    "a = {}\n",
    "\n",
    "while True : \n",
    "    s = input(mmm + '선택 : ')   \n",
    "    if s == '0' :\n",
    "        print('프로그램을 종료 합니다.')\n",
    "        break\n",
    "    elif s == '1' :\n",
    "        k = input('새 단어 : ')\n",
    "        v = input(f'{k}단어의 뜻 : ')\n",
    "        a[k] = v\n",
    "    elif s == '2' :\n",
    "        ss = input('검색할 단어 : ')\n",
    "        if ss in a : \n",
    "            print(f'{ss}의 뜻은 {a[ss]}입니다' )\n",
    "        \n",
    "        else : \n",
    "            print('미등록 단어입니다 ')\n",
    "    elif s == '3' :\n",
    "        for k,v in a.items() : \n",
    "            print(f'{k} : {v}')\n",
    "    elif s == '4' :\n",
    "            k,v = random.choice(tuple(a.items()))\n",
    "            an = input(f'{v}의 영어단어는? ')\n",
    "            if an == k : \n",
    "                print('정답입니다')\n",
    "            else : \n",
    "                print('오답입니다')\n",
    "                \n",
    "            \n",
    "\n",
    "    \n",
    "    \n",
    "    \n",
    "    \n",
    "    \n",
    "    else : \n",
    "        print('잘못 입력했습니다')"
   ]
  },
  {
   "cell_type": "code",
   "execution_count": 16,
   "id": "c50ab7fb",
   "metadata": {},
   "outputs": [
    {
     "name": "stdout",
     "output_type": "stream",
     "text": [
      "<class 'set'>\n",
      "{'o', 'h', '1', 'l', 'e', '2', '3'}\n",
      "{'o', 's', 'h', '1', 'l', 'e', '2', '3'}\n",
      "{'o', 's', 'h', 'l', 'e', '2', '3'}\n"
     ]
    },
    {
     "ename": "TypeError",
     "evalue": "'set' object is not subscriptable",
     "output_type": "error",
     "traceback": [
      "\u001b[1;31m---------------------------------------------------------------------------\u001b[0m",
      "\u001b[1;31mTypeError\u001b[0m                                 Traceback (most recent call last)",
      "\u001b[1;32m~\\AppData\\Local\\Temp/ipykernel_9100/1616664288.py\u001b[0m in \u001b[0;36m<module>\u001b[1;34m\u001b[0m\n\u001b[0;32m      9\u001b[0m \u001b[0mprint\u001b[0m\u001b[1;33m(\u001b[0m\u001b[0ma\u001b[0m\u001b[1;33m)\u001b[0m\u001b[1;33m\u001b[0m\u001b[1;33m\u001b[0m\u001b[0m\n\u001b[0;32m     10\u001b[0m \u001b[1;33m\u001b[0m\u001b[0m\n\u001b[1;32m---> 11\u001b[1;33m \u001b[0mprint\u001b[0m\u001b[1;33m(\u001b[0m\u001b[0mlist\u001b[0m\u001b[1;33m(\u001b[0m\u001b[0ma\u001b[0m\u001b[1;33m[\u001b[0m\u001b[1;36m1\u001b[0m\u001b[1;33m]\u001b[0m\u001b[1;33m)\u001b[0m\u001b[1;33m)\u001b[0m\u001b[1;33m\u001b[0m\u001b[1;33m\u001b[0m\u001b[0m\n\u001b[0m\u001b[0;32m     12\u001b[0m \u001b[1;33m\u001b[0m\u001b[0m\n\u001b[0;32m     13\u001b[0m \u001b[0mt\u001b[0m \u001b[1;33m=\u001b[0m \u001b[0mtuple\u001b[0m\u001b[1;33m(\u001b[0m\u001b[0ma\u001b[0m\u001b[1;33m)\u001b[0m\u001b[1;33m\u001b[0m\u001b[1;33m\u001b[0m\u001b[0m\n",
      "\u001b[1;31mTypeError\u001b[0m: 'set' object is not subscriptable"
     ]
    }
   ],
   "source": [
    "a = set('hello123')\n",
    "print(type(a))\n",
    "print(a)\n",
    "\n",
    "a.add('s')\n",
    "print(a)\n",
    "\n",
    "a.remove('1')\n",
    "print(a)\n",
    "\n",
    "t = tuple(a)\n",
    "print(t[1])\n"
   ]
  },
  {
   "cell_type": "code",
   "execution_count": 29,
   "id": "6793dd5f",
   "metadata": {},
   "outputs": [
    {
     "name": "stdout",
     "output_type": "stream",
     "text": [
      "{2, 4}\n",
      "{1, 2, 3, 4, 5, 6, 8, 10}\n",
      "{8, 10, 6}\n"
     ]
    }
   ],
   "source": [
    "s1 = {2, 4, 6, 8, 10}\n",
    "s2 = {1, 2, 3, 4, 5}\n",
    "\n",
    "s = s1 & s2\n",
    "print(s)\n",
    "t = s1 | s2\n",
    "print(t)\n",
    "z = s1.difference(s2)\n",
    "print(z)"
   ]
  },
  {
   "cell_type": "code",
   "execution_count": 35,
   "id": "ad3a2646",
   "metadata": {},
   "outputs": [
    {
     "name": "stdout",
     "output_type": "stream",
     "text": [
      "[10, 20, 30, 40, 50]\n"
     ]
    }
   ],
   "source": [
    "L = [n*10for n in range(1,6) ]\n",
    "\n",
    "print(L)"
   ]
  },
  {
   "cell_type": "code",
   "execution_count": 36,
   "id": "40b18f6c",
   "metadata": {},
   "outputs": [
    {
     "name": "stdout",
     "output_type": "stream",
     "text": [
      "[(1, 1), (1, 2), (2, 1), (2, 2), (3, 1), (3, 2)]\n"
     ]
    }
   ],
   "source": [
    "rows = range(1,4)\n",
    "cols = range(1,3)\n",
    "\n",
    "cells = [(row, col) for row in rows for col in cols]\n",
    "print(cells)"
   ]
  },
  {
   "cell_type": "code",
   "execution_count": 39,
   "id": "9c7b043a",
   "metadata": {},
   "outputs": [
    {
     "name": "stdout",
     "output_type": "stream",
     "text": [
      "{'떡볶이': '오뎅', '짜장면': '김치'}\n"
     ]
    }
   ],
   "source": [
    "foods = ['떡볶이','짜장면','라면','피자']\n",
    "sides = ['오뎅','김치']\n",
    "dic =dict(zip(foods,sides))\n",
    "print(dic)\n",
    "\n"
   ]
  },
  {
   "cell_type": "code",
   "execution_count": 40,
   "id": "915810d4",
   "metadata": {},
   "outputs": [
    {
     "data": {
      "text/plain": [
       "5.5"
      ]
     },
     "execution_count": 40,
     "metadata": {},
     "output_type": "execute_result"
    }
   ],
   "source": [
    "def avg(a,b) :\n",
    "    c = (a+b)/2\n",
    "    return c\n",
    "avg(5,6)"
   ]
  },
  {
   "cell_type": "code",
   "execution_count": null,
   "id": "c171956c",
   "metadata": {},
   "outputs": [],
   "source": []
  }
 ],
 "metadata": {
  "kernelspec": {
   "display_name": "Python 3 (ipykernel)",
   "language": "python",
   "name": "python3"
  },
  "language_info": {
   "codemirror_mode": {
    "name": "ipython",
    "version": 3
   },
   "file_extension": ".py",
   "mimetype": "text/x-python",
   "name": "python",
   "nbconvert_exporter": "python",
   "pygments_lexer": "ipython3",
   "version": "3.8.10"
  }
 },
 "nbformat": 4,
 "nbformat_minor": 5
}
