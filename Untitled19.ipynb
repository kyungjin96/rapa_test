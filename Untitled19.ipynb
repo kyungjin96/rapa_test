{
 "cells": [
  {
   "cell_type": "code",
   "execution_count": null,
   "id": "746837f2",
   "metadata": {},
   "outputs": [],
   "source": [
    "import turtle as t # 재귀 호출을 이용한 시에르핀스키(sierpinski)의 삼각형 그리기\n",
    "\n",
    "\n",
    "\n",
    "def tri(tri_len):\n",
    "    if tri_len <= 12:\n",
    "        for i in range(0, 3):\n",
    "            t.forward(tri_len)\n",
    "            t.left(120)\n",
    "        return\n",
    "    new_len = tri_len / 2\n",
    "    tri(new_len)\n",
    "    t.forward(new_len)\n",
    "    tri(new_len)\n",
    "    t.backward(new_len)\n",
    "    t.left(60)\n",
    "    t.forward(new_len)\n",
    "    t.right(60)\n",
    "    tri(new_len)\n",
    "    t.left(60)\n",
    "    t.backward(new_len)\n",
    "    t.right(60)\n",
    "\n",
    "t.speed(0)\n",
    "tri(160)\n",
    "t.hideturtle()\n",
    "t.done()"
   ]
  },
  {
   "cell_type": "code",
   "execution_count": 1,
   "id": "4a57a703",
   "metadata": {},
   "outputs": [
    {
     "name": "stdout",
     "output_type": "stream",
     "text": [
      "<bound method car.getColor of <__main__.car object at 0x00000245C0FE8BE0>> <bound method car.getName of <__main__.car object at 0x00000245C0FE8BE0>>의 속도는 <bound method car.getSpeed of <__main__.car object at 0x00000245C0FE8BE0>>\n"
     ]
    }
   ],
   "source": [
    "class car:\n",
    "    color = \"\"\n",
    "    name = \"\"\n",
    "    speed = 0\n",
    "    \n",
    "    def __init__(s,v1,v2,v3) :\n",
    "        s.color = v1\n",
    "        s.name = v2\n",
    "        s.speed = v3\n",
    "        \n",
    "    def getColor(self):\n",
    "        return self.color\n",
    "        \n",
    "    def getName(self):\n",
    "        return self.name\n",
    "        \n",
    "        \n",
    "    def getSpeed(self):\n",
    "        return self.speed\n",
    "        \n",
    "    \n",
    "car1 = None\n",
    "\n",
    "\n",
    "car1 = car(\"흰색\", \"아우디\",0)\n",
    "\n",
    "print(f'{car1.getColor} {car1.getName}의 속도는 {car1.getSpeed}')\n",
    "\n",
    "    \n"
   ]
  },
  {
   "cell_type": "code",
   "execution_count": 3,
   "id": "8fc13448",
   "metadata": {},
   "outputs": [
    {
     "name": "stdout",
     "output_type": "stream",
     "text": [
      "Note: you may need to restart the kernel to use updated packages.\n"
     ]
    },
    {
     "name": "stderr",
     "output_type": "stream",
     "text": [
      "파일 이름, 디렉터리 이름 또는 볼륨 레이블 구문이 잘못되었습니다.\n"
     ]
    }
   ],
   "source": [
    "!pip install numpy"
   ]
  },
  {
   "cell_type": "code",
   "execution_count": null,
   "id": "69635dfb",
   "metadata": {},
   "outputs": [],
   "source": []
  }
 ],
 "metadata": {
  "kernelspec": {
   "display_name": "Python 3 (ipykernel)",
   "language": "python",
   "name": "python3"
  },
  "language_info": {
   "codemirror_mode": {
    "name": "ipython",
    "version": 3
   },
   "file_extension": ".py",
   "mimetype": "text/x-python",
   "name": "python",
   "nbconvert_exporter": "python",
   "pygments_lexer": "ipython3",
   "version": "3.8.10"
  }
 },
 "nbformat": 4,
 "nbformat_minor": 5
}
