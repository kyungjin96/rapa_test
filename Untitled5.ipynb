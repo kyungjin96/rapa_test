{
 "cells": [
  {
   "cell_type": "code",
   "execution_count": 2,
   "id": "cb9e0bc0",
   "metadata": {},
   "outputs": [
    {
     "name": "stdout",
     "output_type": "stream",
     "text": [
      "제 이름은 홍길동 이고 , 나이는 10, 키는 110.4 입니다\n"
     ]
    }
   ],
   "source": [
    "name = '홍길동'\n",
    "age = 10\n",
    "i = 110.4\n",
    "\n",
    "f_s1 = f'제 이름은 {name} 이고 , 나이는 {age}, 키는 {i} 입니다'\n",
    "print(f_s1)"
   ]
  },
  {
   "cell_type": "code",
   "execution_count": 4,
   "id": "5dcf5ba1",
   "metadata": {},
   "outputs": [
    {
     "data": {
      "text/plain": [
       "'사'"
      ]
     },
     "execution_count": 4,
     "metadata": {},
     "output_type": "execute_result"
    }
   ],
   "source": [
    "a= \"사랑해요, 파이썬!\"\n",
    "a[0]"
   ]
  },
  {
   "cell_type": "code",
   "execution_count": null,
   "id": "6db96164",
   "metadata": {},
   "outputs": [],
   "source": []
  }
 ],
 "metadata": {
  "kernelspec": {
   "display_name": "Python 3 (ipykernel)",
   "language": "python",
   "name": "python3"
  },
  "language_info": {
   "codemirror_mode": {
    "name": "ipython",
    "version": 3
   },
   "file_extension": ".py",
   "mimetype": "text/x-python",
   "name": "python",
   "nbconvert_exporter": "python",
   "pygments_lexer": "ipython3",
   "version": "3.8.10"
  }
 },
 "nbformat": 4,
 "nbformat_minor": 5
}
