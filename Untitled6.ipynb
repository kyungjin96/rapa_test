{
 "cells": [
  {
   "cell_type": "code",
   "execution_count": 27,
   "id": "f127c7a0",
   "metadata": {},
   "outputs": [
    {
     "name": "stdout",
     "output_type": "stream",
     "text": [
      "2021-08-24 11:05:56.514371\n",
      "지금 시각은 2021 년 08 월 24 일 11 시 05 분 56 초 입니다\n"
     ]
    }
   ],
   "source": [
    "#라이브러리 실습문제\n",
    "\n",
    "import datetime\n",
    "a = str(datetime.datetime.now())\n",
    "print(a)\n",
    "\n",
    "b = a[0:4]\n",
    "c = a[5:7]\n",
    "e = a[8:10]\n",
    "f = a[11:13]\n",
    "g = a[14:16]\n",
    "h = a[17:19]\n",
    "print('지금 시각은', b, \"년\",c, \"월\", e, \"일\", f,\"시\", g,\"분\", h,\"초 입니다\" )\n",
    "\n",
    "\n",
    "\n"
   ]
  },
  {
   "cell_type": "code",
   "execution_count": 29,
   "id": "0fc3a1ef",
   "metadata": {},
   "outputs": [
    {
     "name": "stdout",
     "output_type": "stream",
     "text": [
      "2021-08-24 11:07:54.767178\n",
      "지금 시간은 2021년08월24일 11시07분54초입니다.\n"
     ]
    }
   ],
   "source": [
    "import datetime\n",
    "datetime.datetime.now()\n",
    "now = str(datetime.datetime.now())\n",
    "print(now)\n",
    "year = now[0:4]\n",
    "month = now[5:7]\n",
    "day = now[8:10]\n",
    "hour = now[11:13]\n",
    "min = now[14:16]\n",
    "sec = now[17:19]\n",
    "print(f'지금 시간은 {year}년{month}월{day}일 {hour}시{min}분{sec}초입니다.')"
   ]
  },
  {
   "cell_type": "code",
   "execution_count": 33,
   "id": "581cdaad",
   "metadata": {},
   "outputs": [
    {
     "name": "stdout",
     "output_type": "stream",
     "text": [
      "List is too long (26 elements, expected <= 10)\n"
     ]
    }
   ],
   "source": [
    "import datetime\n",
    "if (n := len(a)) > 10:\n",
    "    print(f\"List is too long ({n} elements, expected <= 10)\")"
   ]
  },
  {
   "cell_type": "code",
   "execution_count": 35,
   "id": "082708fe",
   "metadata": {},
   "outputs": [
    {
     "name": "stdout",
     "output_type": "stream",
     "text": [
      "지금 시각은 2021년 08월 24일 11시 16분 05초 입니다.\n"
     ]
    }
   ],
   "source": [
    "\n",
    "import datetime\n",
    "a = str(datetime.datetime.now())\n",
    "a = a.split()\n",
    "\n",
    "yy,mm,dd=str(a[0]).split('-')\n",
    "hh,min,sec=str(a[1]).split(':')\n",
    "sec = sec[:2]\n",
    "print(f\"지금 시각은 {yy}년 {mm}월 {dd}일 {hh}시 {min}분 {sec}초 입니다.\")"
   ]
  },
  {
   "cell_type": "code",
   "execution_count": null,
   "id": "52219dea",
   "metadata": {},
   "outputs": [],
   "source": []
  }
 ],
 "metadata": {
  "kernelspec": {
   "display_name": "Python 3 (ipykernel)",
   "language": "python",
   "name": "python3"
  },
  "language_info": {
   "codemirror_mode": {
    "name": "ipython",
    "version": 3
   },
   "file_extension": ".py",
   "mimetype": "text/x-python",
   "name": "python",
   "nbconvert_exporter": "python",
   "pygments_lexer": "ipython3",
   "version": "3.8.10"
  }
 },
 "nbformat": 4,
 "nbformat_minor": 5
}
