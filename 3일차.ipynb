{
 "cells": [
  {
   "cell_type": "code",
   "execution_count": 1,
   "id": "2fbdd179",
   "metadata": {},
   "outputs": [
    {
     "name": "stdout",
     "output_type": "stream",
     "text": [
      " 1  2  3  4 \n",
      " 5  6  7  8 \n",
      " 9 10 11 12 \n"
     ]
    }
   ],
   "source": [
    "for i in range(1,10,4):\n",
    "    for j in range(i,i+4):\n",
    "        print(f'{j:>2d}',end=' ')\n",
    "    print()"
   ]
  },
  {
   "cell_type": "code",
   "execution_count": 2,
   "id": "e2939a36",
   "metadata": {},
   "outputs": [
    {
     "name": "stdout",
     "output_type": "stream",
     "text": [
      "1 4 7 10 \n",
      "2 5 8 11 \n",
      "3 6 9 12 \n"
     ]
    }
   ],
   "source": [
    "for i in range(1,4,1):\n",
    "    for j in range(1,13,1):\n",
    "        if j%3 == i%3:\n",
    "            print(j, end =\" \")\n",
    "    print()\n",
    "    "
   ]
  },
  {
   "cell_type": "code",
   "execution_count": 8,
   "id": "b447f7ab",
   "metadata": {},
   "outputs": [
    {
     "ename": "SyntaxError",
     "evalue": "unexpected EOF while parsing (Temp/ipykernel_3040/3618930507.py, line 5)",
     "output_type": "error",
     "traceback": [
      "\u001b[1;36m  File \u001b[1;32m\"C:\\Users\\PC021\\AppData\\Local\\Temp/ipykernel_3040/3618930507.py\"\u001b[1;36m, line \u001b[1;32m5\u001b[0m\n\u001b[1;33m    for i in range(1,100) :\u001b[0m\n\u001b[1;37m                           ^\u001b[0m\n\u001b[1;31mSyntaxError\u001b[0m\u001b[1;31m:\u001b[0m unexpected EOF while parsing\n"
     ]
    }
   ],
   "source": [
    "import random\n",
    "\n",
    "D1, D2, D3, D4, D5, D6 \n",
    "i = random.randint(1,6)\n",
    "for i in range(1,100) :\n"
   ]
  },
  {
   "cell_type": "code",
   "execution_count": 4,
   "id": "c689e7ba",
   "metadata": {},
   "outputs": [
    {
     "name": "stdout",
     "output_type": "stream",
     "text": [
      "# 2 단      # 3 단      # 4 단      # 5 단      # 6 단      # 7 단      # 8 단      # 9 단      \n",
      "2 x 1 =  2  3 x 1 =  3  4 x 1 =  4  5 x 1 =  5  6 x 1 =  6  7 x 1 =  7  8 x 1 =  8  9 x 1 =  9  2 x 2 =  4  3 x 2 =  6  4 x 2 =  8  5 x 2 = 10  6 x 2 = 12  7 x 2 = 14  8 x 2 = 16  9 x 2 = 18  2 x 3 =  6  3 x 3 =  9  4 x 3 = 12  5 x 3 = 15  6 x 3 = 18  7 x 3 = 21  8 x 3 = 24  9 x 3 = 27  2 x 4 =  8  3 x 4 = 12  4 x 4 = 16  5 x 4 = 20  6 x 4 = 24  7 x 4 = 28  8 x 4 = 32  9 x 4 = 36  2 x 5 = 10  3 x 5 = 15  4 x 5 = 20  5 x 5 = 25  6 x 5 = 30  7 x 5 = 35  8 x 5 = 40  9 x 5 = 45  2 x 6 = 12  3 x 6 = 18  4 x 6 = 24  5 x 6 = 30  6 x 6 = 36  7 x 6 = 42  8 x 6 = 48  9 x 6 = 54  2 x 7 = 14  3 x 7 = 21  4 x 7 = 28  5 x 7 = 35  6 x 7 = 42  7 x 7 = 49  8 x 7 = 56  9 x 7 = 63  2 x 8 = 16  3 x 8 = 24  4 x 8 = 32  5 x 8 = 40  6 x 8 = 48  7 x 8 = 56  8 x 8 = 64  9 x 8 = 72  2 x 9 = 18  3 x 9 = 27  4 x 9 = 36  5 x 9 = 45  6 x 9 = 54  7 x 9 = 63  8 x 9 = 72  9 x 9 = 81  "
     ]
    }
   ],
   "source": []
  },
  {
   "cell_type": "code",
   "execution_count": 5,
   "id": "8034be5a",
   "metadata": {},
   "outputs": [
    {
     "name": "stdout",
     "output_type": "stream",
     "text": [
      "알고싶은 구구단이 몇단인가?:5\n",
      "5 x 1 =  5      6 x 1 =  6      7 x 1 =  7      8 x 1 =  8      9 x 1 =  9      10 x 1 = 10      11 x 1 = 11      12 x 1 = 12      \n",
      "5 x 2 = 10      6 x 2 = 12      7 x 2 = 14      8 x 2 = 16      9 x 2 = 18      10 x 2 = 20      11 x 2 = 22      12 x 2 = 24      \n",
      "5 x 3 = 15      6 x 3 = 18      7 x 3 = 21      8 x 3 = 24      9 x 3 = 27      10 x 3 = 30      11 x 3 = 33      12 x 3 = 36      \n",
      "5 x 4 = 20      6 x 4 = 24      7 x 4 = 28      8 x 4 = 32      9 x 4 = 36      10 x 4 = 40      11 x 4 = 44      12 x 4 = 48      \n",
      "5 x 5 = 25      6 x 5 = 30      7 x 5 = 35      8 x 5 = 40      9 x 5 = 45      10 x 5 = 50      11 x 5 = 55      12 x 5 = 60      \n",
      "5 x 6 = 30      6 x 6 = 36      7 x 6 = 42      8 x 6 = 48      9 x 6 = 54      10 x 6 = 60      11 x 6 = 66      12 x 6 = 72      \n",
      "5 x 7 = 35      6 x 7 = 42      7 x 7 = 49      8 x 7 = 56      9 x 7 = 63      10 x 7 = 70      11 x 7 = 77      12 x 7 = 84      \n",
      "5 x 8 = 40      6 x 8 = 48      7 x 8 = 56      8 x 8 = 64      9 x 8 = 72      10 x 8 = 80      11 x 8 = 88      12 x 8 = 96      \n",
      "5 x 9 = 45      6 x 9 = 54      7 x 9 = 63      8 x 9 = 72      9 x 9 = 81      10 x 9 = 90      11 x 9 = 99      12 x 9 = 108      \n"
     ]
    }
   ],
   "source": [
    "n = int(input('알고싶은 구구단이 몇단인가?:'))\n",
    "for j in range(1,10):\n",
    "    for i in range(n,n+8):\n",
    "        print(\"%d x %d = %2d    \" % (i,j,j*i), end='  ')\n",
    "    print()"
   ]
  },
  {
   "cell_type": "code",
   "execution_count": 12,
   "id": "cda2748b",
   "metadata": {},
   "outputs": [
    {
     "ename": "IndentationError",
     "evalue": "expected an indented block (Temp/ipykernel_3040/1769218631.py, line 23)",
     "output_type": "error",
     "traceback": [
      "\u001b[1;36m  File \u001b[1;32m\"C:\\Users\\PC021\\AppData\\Local\\Temp/ipykernel_3040/1769218631.py\"\u001b[1;36m, line \u001b[1;32m23\u001b[0m\n\u001b[1;33m    max_D= 3\u001b[0m\n\u001b[1;37m    ^\u001b[0m\n\u001b[1;31mIndentationError\u001b[0m\u001b[1;31m:\u001b[0m expected an indented block\n"
     ]
    }
   ],
   "source": [
    "import random\n",
    "\n",
    "D1 = 0 ;D2 = 0;D3 = 0;D4 = 0;D5 = 0;D6 = 0\n",
    "\n",
    "try_num = 100\n",
    "\n",
    "for i in range(try_num):\n",
    "    num = random.randint(1,6)\n",
    "    if num ==0:D1+=1\n",
    "    elif num ==1:D2+=1\n",
    "    elif num ==2:D3+=1\n",
    "    elif num ==3:D4+=1\n",
    "    elif num ==4:D5+=1\n",
    "    elif num ==5:D6+=1\n",
    "        \n",
    "print(f'주사위 숫자별 개수 : ')\n",
    "\n",
    "max_v=D1\n",
    "max_d=list()\n",
    "\n",
    "\n",
    "if max_v <= D2 :\n",
    "    max_D.append(2)\n",
    "    max_v = D2\n",
    "    \n",
    "    if max_v < D3 :\n",
    "    max_D= 3\n",
    "    max_v = D3\n",
    "    if max_v < D4 :\n",
    "    max_D= 4\n",
    "    max_v = D4\n",
    "    if max_v < D5 :\n",
    "    max_D= 5\n",
    "    max_v = D5\n",
    "    if max_v < D6 :\n",
    "    max_D= 6\n",
    "    max_v = D6\n",
    "\n"
   ]
  },
  {
   "cell_type": "code",
   "execution_count": 13,
   "id": "e387e66a",
   "metadata": {},
   "outputs": [
    {
     "name": "stdout",
     "output_type": "stream",
     "text": [
      "1부터 35까지 출력\n",
      "\n",
      "  1   6  11  16  21  26  31 \n",
      "  2   7  12  17  22  27  32 \n",
      "  3   8  13  18  23  28  33 \n",
      "  4   9  14  19  24  29  34 \n",
      "  5  10  15  20  25  30  35 \n"
     ]
    }
   ],
   "source": [
    "row = 5\n",
    "col = 7\n",
    "print(f\"1부터 {row*col}까지 출력\\n\")\n",
    "for i in range(1,row+1):\n",
    "    for j in range(col):\n",
    "        print(f\"{i+row*j:3}\", end=\" \")\n",
    "    print()"
   ]
  },
  {
   "cell_type": "code",
   "execution_count": 15,
   "id": "9d4111be",
   "metadata": {},
   "outputs": [
    {
     "name": "stdout",
     "output_type": "stream",
     "text": [
      "주사위 숫자별 개수: D1[24],D2[10],D3[20],D4[17],D5[14],D6[15]\n",
      "\n",
      "가장 많이 나온 주사위 숫자: 1, 횟수24\n"
     ]
    }
   ],
   "source": [
    "#중복이 없다는 가정Z\n",
    "import random\n",
    "d1,d2,d3,d4,d5,d6=0,0,0,0,0,0\n",
    "for i in range(100):\n",
    "    x = random.randint(1,6)\n",
    "    if x == 1: d1 += 1\n",
    "    if x == 2: d2 += 1\n",
    "    if x == 3: d3 += 1\n",
    "    if x == 4: d4 += 1\n",
    "    if x == 5: d5 += 1\n",
    "    if x == 6: d6 += 1\n",
    "max_v, max_d = d1, 1\n",
    "if max_v < d2:\n",
    "    max_v = d2\n",
    "    max_d = 2\n",
    "if max_v < d3:\n",
    "    max_v = d3\n",
    "    max_d = 3\n",
    "if max_v < d4:\n",
    "    max_v = d4\n",
    "    max_d = 4\n",
    "if max_v < d5:\n",
    "    max_v = d5\n",
    "    max_d = 5\n",
    "if max_v < d6:\n",
    "    max_v = d6\n",
    "    max_d = 6\n",
    "print(f'주사위 숫자별 개수: D1[{d1}],D2[{d2}],D3[{d3}],D4[{d4}],D5[{d5}],D6[{d6}]')\n",
    "print(f'\\n가장 많이 나온 주사위 숫자: {max_d}, 횟수{max_v}')"
   ]
  },
  {
   "cell_type": "code",
   "execution_count": 18,
   "id": "9ef7e7f9",
   "metadata": {},
   "outputs": [
    {
     "name": "stdout",
     "output_type": "stream",
     "text": [
      "안녕\n",
      "안녕\n",
      "안녕\n",
      "안녕\n"
     ]
    }
   ],
   "source": [
    "i=0\n",
    "while i < 5 :\n",
    "    print('안녕')\n",
    "    i+=1\n",
    "    if i == 4 :\n",
    "        break\n",
    "    "
   ]
  },
  {
   "cell_type": "code",
   "execution_count": 22,
   "id": "baaffbc1",
   "metadata": {},
   "outputs": [
    {
     "name": "stdout",
     "output_type": "stream",
     "text": [
      "잉: 2500\n"
     ]
    }
   ],
   "source": [
    "sum = 0\n",
    "for i in range(1,101,1):\n",
    "    if i%2 ==0 :\n",
    "       continue\n",
    "    sum+=i\n",
    "print ('잉: %d' %sum)"
   ]
  },
  {
   "cell_type": "code",
   "execution_count": 23,
   "id": "bd76c102",
   "metadata": {},
   "outputs": [
    {
     "name": "stdout",
     "output_type": "stream",
     "text": [
      "5050\n"
     ]
    }
   ],
   "source": [
    "hap=0\n",
    "i = 1\n",
    "while i < 101:\n",
    "    hap = hap +i\n",
    "    i = i +1\n",
    "print(hap)"
   ]
  },
  {
   "cell_type": "code",
   "execution_count": 10,
   "id": "7b00a8dd",
   "metadata": {},
   "outputs": [
    {
     "name": "stdout",
     "output_type": "stream",
     "text": [
      "나무를 1번 찍었습니다.\n",
      "나무를 2번 찍었습니다.\n",
      "나무를 3번 찍었습니다.\n",
      "나무를 4번 찍었습니다.\n",
      "나무를 5번 찍었습니다.\n",
      "나무를 6번 찍었습니다.\n",
      "나무를 7번 찍었습니다.\n",
      "나무를 8번 찍었습니다.\n",
      "나무를 9번 찍었습니다.\n",
      "나무를 10번 찍었습니다.\n",
      "나무 넘어 갑니다~\n"
     ]
    }
   ],
   "source": [
    "th = 0\n",
    "i = 1\n",
    "while i < 11 :\n",
    "    th +=i\n",
    "    if th == 11 :\n",
    "        break\n",
    "    \n",
    "    print(f'나무를 {th}번 찍었습니다.')\n",
    "print('나무 넘어 갑니다~')"
   ]
  },
  {
   "cell_type": "code",
   "execution_count": 2,
   "id": "6c1a68e9",
   "metadata": {},
   "outputs": [
    {
     "name": "stdout",
     "output_type": "stream",
     "text": [
      "나무를 1번 찍었습니다.\n",
      "나무를 2번 찍었습니다.\n",
      "나무를 3번 찍었습니다.\n",
      "나무를 4번 찍었습니다.\n",
      "나무를 5번 찍었습니다.\n",
      "나무를 6번 찍었습니다.\n",
      "나무를 7번 찍었습니다.\n",
      "나무를 8번 찍었습니다.\n",
      "나무를 9번 찍었습니다.\n",
      "나무를 10번 찍었습니다.\n",
      "나무 넘어 갑니다~\n"
     ]
    }
   ],
   "source": [
    "treeHit,i = 1, 0\n",
    "while i < 10 :\n",
    "    print (f\"나무를 {treeHit}번 찍었습니다.\")\n",
    "    treeHit += 1ㄴ\n",
    "    i += 1ㄴ\n",
    "print (\"나무 넘어 갑니다~\")"
   ]
  },
  {
   "cell_type": "code",
   "execution_count": 3,
   "id": "e18db999",
   "metadata": {},
   "outputs": [
    {
     "name": "stdout",
     "output_type": "stream",
     "text": [
      "나무를 1번 찍었습니다.\n",
      "나무를 2번 찍었습니다.\n",
      "나무를 3번 찍었습니다.\n",
      "나무를 4번 찍었습니다.\n",
      "나무를 5번 찍었습니다.\n",
      "나무를 6번 찍었습니다.\n",
      "나무를 7번 찍었습니다.\n",
      "나무를 8번 찍었습니다.\n",
      "나무를 9번 찍었습니다.\n",
      "나무를 10번 찍었습니다.\n",
      "나무를 11번 찍었습니다.\n",
      "나무 넘어 갑니다\n"
     ]
    }
   ],
   "source": [
    "th = 0\n",
    "while th < 11 :\n",
    "    th += 1\n",
    "    print('나무를 %d번 찍었습니다.'% th )\n",
    "print('나무 넘어 갑니다')"
   ]
  },
  {
   "cell_type": "code",
   "execution_count": 3,
   "id": "73422564",
   "metadata": {},
   "outputs": [
    {
     "name": "stdout",
     "output_type": "stream",
     "text": [
      "\n",
      "    1.Add   2.Del   3.Modify   4.Quit\n",
      "\n",
      "    Enter number: 2\n",
      "입력한 숫자는 [2]\n",
      "\n",
      "    1.Add   2.Del   3.Modify   4.Quit\n",
      "\n",
      "    Enter number: 1\n",
      "입력한 숫자는 [1]\n",
      "\n",
      "    1.Add   2.Del   3.Modify   4.Quit\n",
      "\n",
      "    Enter number: 3\n",
      "입력한 숫자는 [3]\n",
      "\n",
      "    1.Add   2.Del   3.Modify   4.Quit\n",
      "\n",
      "    Enter number: 1\n",
      "입력한 숫자는 [1]\n",
      "\n",
      "    1.Add   2.Del   3.Modify   4.Quit\n",
      "\n",
      "    Enter number: 4\n",
      "입력한 숫자는 [4]\n",
      "프로그램을 종료 합니다\n"
     ]
    }
   ],
   "source": [
    "### 무한 반복 빠져나오기\n",
    "prompt = \"\"\"\n",
    "    1.Add   2.Del   3.Modify   4.Quit\n",
    "\n",
    "    Enter number: \"\"\"\n",
    "\n",
    "while True :\n",
    "    num = input(prompt)\n",
    "    print(f'입력한 숫자는 [{num}]')\n",
    "    \n",
    "    if num == '4' :\n",
    "        break\n",
    "print ('프로그램을 종료 합니다')"
   ]
  },
  {
   "cell_type": "code",
   "execution_count": 26,
   "id": "ca950aa3",
   "metadata": {},
   "outputs": [
    {
     "name": "stdout",
     "output_type": "stream",
     "text": [
      "숫자를 여러개 입력하세요 : 4\n",
      "★★★★★★★★\n"
     ]
    }
   ],
   "source": [
    "x = input('숫자를 여러개 입력하세요 : ')\n",
    "i = 0\n",
    "while i < len(x) :\n",
    "    print('\\u2605'*2*int(x[i]))\n",
    "    i+=1\n",
    "\n",
    "    \n",
    "\n",
    "\n"
   ]
  },
  {
   "cell_type": "code",
   "execution_count": 13,
   "id": "f947cebb",
   "metadata": {},
   "outputs": [
    {
     "name": "stdout",
     "output_type": "stream",
     "text": [
      "숫자를 여러개 입력하세요 :555\n",
      "★★★★★★★★★★\n",
      "★★★★★★★★★★\n",
      "★★★★★★★★★★\n"
     ]
    }
   ],
   "source": [
    "num = input('숫자를 여러개 입력하세요 :')\n",
    "num_len = len(num)\n",
    "i=0\n",
    "while i!=num_len:\n",
    "    print('\\u2605'*2*int(num[i]))\n",
    "    i+=1"
   ]
  },
  {
   "cell_type": "code",
   "execution_count": 18,
   "id": "8fc3b78c",
   "metadata": {},
   "outputs": [
    {
     "name": "stdout",
     "output_type": "stream",
     "text": [
      "숫자를 여러개 입력하세요 : 5\n",
      "★★★★★★★★★★\n"
     ]
    }
   ],
   "source": [
    "num = list(input(\"숫자를 여러개 입력하세요 : \"))\n",
    "length = len(num)\n",
    "i = 0\n",
    "while i < length:\n",
    "    print('\\u2605' * int(num[i]) * 2)\n",
    "    i += 1"
   ]
  },
  {
   "cell_type": "code",
   "execution_count": 15,
   "id": "840a2546",
   "metadata": {},
   "outputs": [
    {
     "name": "stdout",
     "output_type": "stream",
     "text": [
      "공의 높이를 입력하세요(mm) :30\n",
      "30미터 입니다.\n",
      "15.0미터 입니다.\n",
      "7.5미터 입니다.\n",
      "3.75미터 입니다.\n",
      "1.875미터 입니다.\n",
      "0.9375미터 입니다.\n",
      "0.46875미터 입니다.\n",
      "0.234375미터 입니다.\n",
      "0.1171875미터 입니다.\n",
      "0.05859375미터 입니다.\n",
      "0.029296875미터 입니다.\n",
      "0.0146484375미터 입니다.\n",
      "0.00732421875미터 입니다.\n",
      "0.003662109375미터 입니다.\n",
      "0.0018310546875미터 입니다.\n",
      "0.00091552734375미터 입니다.\n",
      "0.000457763671875미터 입니다.\n",
      "0.0002288818359375미터 입니다.\n",
      "0.00011444091796875미터 입니다.\n",
      "5.7220458984375e-05미터 입니다.\n",
      "2.86102294921875e-05미터 입니다.\n",
      "1.430511474609375e-05미터 입니다.\n",
      "30 위치에서 공의 튕긴 횟수는 총 22번 입니다\n"
     ]
    }
   ],
   "source": [
    "length = int(input('공의 높이를 입력하세요(mm) :'))\n",
    "m, cnt = length ,0\n",
    "\n",
    "while True :\n",
    "    print(f'{m}미터 입니다.')\n",
    "    m /= 2\n",
    "    cnt+= 1\n",
    "    if m < 0.00001 :\n",
    "        break\n",
    "\n",
    "print(f'{length} 위치에서 공의 튕긴 횟수는 총 {cnt}번 입니다')\n",
    "    \n",
    "    "
   ]
  },
  {
   "cell_type": "code",
   "execution_count": 21,
   "id": "c2746417",
   "metadata": {},
   "outputs": [
    {
     "name": "stdout",
     "output_type": "stream",
     "text": [
      "*비밀의 숫자가 지정 되었습니다.\n",
      "____________________________\n",
      "숫자를 입력 하세요50\n",
      "비밀의 수는 더 큰 수 입니다.\n",
      "숫자를 입력 하세요60\n",
      "비밀의 수는 더 큰 수 입니다.\n",
      "숫자를 입력 하세요70\n",
      "비밀의 수는 더 큰 수 입니다.\n",
      "숫자를 입력 하세요80\n",
      "비밀의 수는 더 큰 수 입니다.\n",
      "숫자를 입력 하세요90\n",
      "비밀의 수는 더 큰 수 입니다.\n",
      "숫자를 입력 하세요95\n",
      "비밀의 수는 더 작은 수 입니다.\n",
      "숫자를 입력 하세요94\n",
      "비밀의 수는 더 작은 수 입니다.\n",
      "숫자를 입력 하세요92\n",
      "정답입니다.\n",
      "____________________________\n",
      "비밀의 숫자 : 92\n",
      "당신의 입력 횟수 : 8\n"
     ]
    }
   ],
   "source": [
    "import random\n",
    "j = '''____________________________'''\n",
    "print(f'*비밀의 숫자가 지정 되었습니다.\\n{j}')\n",
    "\n",
    "x = random.randint(1,100)\n",
    "count = 0\n",
    "while True : \n",
    "    i = int(input('숫자를 입력 하세요'))\n",
    "    count+= 1\n",
    "    if x > i :\n",
    "        print('비밀의 수는 더 큰 수 입니다.')\n",
    "            \n",
    "    elif x < i :\n",
    "        print('비밀의 수는 더 작은 수 입니다.')\n",
    "      \n",
    "    else :\n",
    "        print(f'정답입니다.\\n{j}')\n",
    "        print(f'비밀의 숫자 : {x}\\n당신의 입력 횟수 : {count}')\n",
    "        break\n",
    "\n",
    "    \n",
    "\n"
   ]
  },
  {
   "cell_type": "code",
   "execution_count": 19,
   "id": "0312d536",
   "metadata": {},
   "outputs": [
    {
     "name": "stdout",
     "output_type": "stream",
     "text": [
      "\n",
      "-------------------------\n",
      "* 비밀 숫자가 지정되었습니다.\n",
      "-------------------------\n",
      "\n",
      "11\n",
      "숫자를 입력하세요: 50\n",
      "숫자를 입력하세요: 50\n",
      "비밀의 수는 더 작은 수 입니다.\n",
      "숫자를 입력하세요: 30\n",
      "숫자를 입력하세요: 30\n",
      "비밀의 수는 더 작은 수 입니다.\n",
      "숫자를 입력하세요: 40\n",
      "숫자를 입력하세요: 40\n",
      "비밀의 수는 더 작은 수 입니다.\n",
      "숫자를 입력하세요: 30\n",
      "숫자를 입력하세요: 30\n",
      "비밀의 수는 더 작은 수 입니다.\n",
      "숫자를 입력하세요: 10\n",
      "숫자를 입력하세요: 10\n",
      "비밀의 수는 더 큰 수 입니다.\n",
      "숫자를 입력하세요: 20\n",
      "숫자를 입력하세요: 20\n",
      "비밀의 수는 더 작은 수 입니다.\n",
      "숫자를 입력하세요: 10\n",
      "숫자를 입력하세요: 10\n",
      "비밀의 수는 더 큰 수 입니다.\n",
      "숫자를 입력하세요: 15\n",
      "숫자를 입력하세요: 15\n",
      "비밀의 수는 더 작은 수 입니다.\n",
      "숫자를 입력하세요: 16\n",
      "숫자를 입력하세요: 16\n",
      "비밀의 수는 더 작은 수 입니다.\n",
      "숫자를 입력하세요: 17\n",
      "숫자를 입력하세요: 17\n",
      "비밀의 수는 더 작은 수 입니다.\n",
      "숫자를 입력하세요: 18\n",
      "숫자를 입력하세요: 18\n",
      "비밀의 수는 더 작은 수 입니다.\n",
      "숫자를 입력하세요: 13\n",
      "숫자를 입력하세요: 13\n",
      "비밀의 수는 더 작은 수 입니다.\n",
      "숫자를 입력하세요: 12\n",
      "숫자를 입력하세요: 12\n",
      "비밀의 수는 더 작은 수 입니다.\n",
      "숫자를 입력하세요: 11\n",
      "숫자를 입력하세요: 11\n",
      "정답 입니다\n",
      "비밀의 숫자: 11\n",
      "당신의 입력 횟수: 14\n"
     ]
    }
   ],
   "source": [
    "import random\n",
    "sn = random.randint(1,100)\n",
    "prompt = '''\n",
    "-------------------------\n",
    "* 비밀 숫자가 지정되었습니다.\n",
    "-------------------------\n",
    "'''\n",
    "print(prompt)\n",
    "print(sn)\n",
    "count = 0\n",
    "while True:\n",
    "    ans = input(\"숫자를 입력하세요: \")\n",
    "    count += 1\n",
    "    if int(ans) > sn:\n",
    "        print(f'숫자를 입력하세요: {int(ans):>2d}')\n",
    "        print('비밀의 수는 더 작은 수 입니다.')\n",
    "    elif int(ans) < sn:\n",
    "        print(f'숫자를 입력하세요: {int(ans):>2d}')\n",
    "        print('비밀의 수는 더 큰 수 입니다.')\n",
    "    if int(ans) == sn:\n",
    "        print(f'숫자를 입력하세요: {int(ans):>2d}')\n",
    "        print('정답 입니다')\n",
    "        break\n",
    "print(f'비밀의 숫자: {sn}')\n",
    "print(f'당신의 입력 횟수: {count}')"
   ]
  },
  {
   "cell_type": "code",
   "execution_count": 22,
   "id": "76806f99",
   "metadata": {},
   "outputs": [
    {
     "name": "stdout",
     "output_type": "stream",
     "text": [
      "index:0 value: 2\n",
      "index:1 value: 7\n",
      "index:2 value: 10\n",
      "index:3 value: 13\n",
      "index:4 value: 15\n"
     ]
    }
   ],
   "source": [
    "#enumerate 순서가 있는 자료형을 index, value로 반환하는 함수\n",
    "mylist = [2,7,10,13,15]\n",
    "for i in range(len(mylist)):\n",
    "    print(f'index:{i} value: {mylist[i]}')"
   ]
  },
  {
   "cell_type": "code",
   "execution_count": 30,
   "id": "d4976986",
   "metadata": {},
   "outputs": [
    {
     "name": "stdout",
     "output_type": "stream",
     "text": [
      "index:7 value: 2\n",
      "index:8 value: 7\n",
      "index:9 value: 10\n",
      "index:10 value: 13\n",
      "index:11 value: 15\n"
     ]
    }
   ],
   "source": [
    "mylist = [2,7,10,13,15]\n",
    "for index,value in enumerate(mylist,7) :\n",
    "        print(f'index:{index} value: {value}')"
   ]
  },
  {
   "cell_type": "code",
   "execution_count": 31,
   "id": "9f61efb0",
   "metadata": {},
   "outputs": [
    {
     "name": "stdout",
     "output_type": "stream",
     "text": [
      "<class 'list'>\n"
     ]
    }
   ],
   "source": [
    "a = [1,2,3,4,5,]\n",
    "print(type(a))"
   ]
  },
  {
   "cell_type": "code",
   "execution_count": null,
   "id": "8ca1d5ac",
   "metadata": {},
   "outputs": [],
   "source": []
  }
 ],
 "metadata": {
  "kernelspec": {
   "display_name": "Python 3 (ipykernel)",
   "language": "python",
   "name": "python3"
  },
  "language_info": {
   "codemirror_mode": {
    "name": "ipython",
    "version": 3
   },
   "file_extension": ".py",
   "mimetype": "text/x-python",
   "name": "python",
   "nbconvert_exporter": "python",
   "pygments_lexer": "ipython3",
   "version": "3.8.10"
  }
 },
 "nbformat": 4,
 "nbformat_minor": 5
}
