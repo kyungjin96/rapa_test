{
 "cells": [
  {
   "cell_type": "code",
   "execution_count": 2,
   "id": "11e5ce64",
   "metadata": {},
   "outputs": [
    {
     "name": "stdout",
     "output_type": "stream",
     "text": [
      "YYYYMMDD :20211115\n",
      "------------------------------\n",
      "2021/1/1 ~ 2021/11/15 : 318\n"
     ]
    }
   ],
   "source": [
    "ymd = input('YYYYMMDD :')\n",
    "year = int(ymd[:4])\n",
    "month = int(ymd[4:6])\n",
    "day = int(ymd[6:])\n",
    "dates =[31,28,31,30,31,30,31,31,30,31,30,31]\n",
    "if year%400 ==0 or(year%100 !=0 and year%4 ==0):\n",
    "    dates[1]=29\n",
    "print(\"-\"*30)\n",
    "days = 0\n",
    "for i in range(month -1):\n",
    "    days += dates[i]\n",
    "days += day-1\n",
    "print(f'{year}/1/1 ~ {year}/{month}/{day} : {days}')"
   ]
  },
  {
   "cell_type": "code",
   "execution_count": 10,
   "id": "d09d70fe",
   "metadata": {},
   "outputs": [
    {
     "name": "stdout",
     "output_type": "stream",
     "text": [
      "시작일(YYYYMMDD): 20210815\n",
      "폭표일(YYYYMMDD): 20210915\n"
     ]
    },
    {
     "ename": "AttributeError",
     "evalue": "module 'datetime' has no attribute 'strptime'",
     "output_type": "error",
     "traceback": [
      "\u001b[1;31m---------------------------------------------------------------------------\u001b[0m",
      "\u001b[1;31mAttributeError\u001b[0m                            Traceback (most recent call last)",
      "\u001b[1;32m~\\AppData\\Local\\Temp/ipykernel_2192/2084203974.py\u001b[0m in \u001b[0;36m<module>\u001b[1;34m\u001b[0m\n\u001b[0;32m      8\u001b[0m \u001b[1;33m\u001b[0m\u001b[0m\n\u001b[0;32m      9\u001b[0m \u001b[1;33m\u001b[0m\u001b[0m\n\u001b[1;32m---> 10\u001b[1;33m \u001b[0msday\u001b[0m \u001b[1;33m=\u001b[0m \u001b[0mdatetime\u001b[0m\u001b[1;33m.\u001b[0m\u001b[0mstrptime\u001b[0m\u001b[1;33m(\u001b[0m\u001b[0mstart\u001b[0m\u001b[1;33m,\u001b[0m\u001b[1;34m'%Y%m%d'\u001b[0m\u001b[1;33m)\u001b[0m\u001b[1;33m\u001b[0m\u001b[1;33m\u001b[0m\u001b[0m\n\u001b[0m\u001b[0;32m     11\u001b[0m \u001b[1;33m\u001b[0m\u001b[0m\n\u001b[0;32m     12\u001b[0m \u001b[0meday\u001b[0m \u001b[1;33m=\u001b[0m \u001b[0mdatetime\u001b[0m\u001b[1;33m.\u001b[0m\u001b[0mstrptime\u001b[0m\u001b[1;33m(\u001b[0m\u001b[0mend\u001b[0m\u001b[1;33m,\u001b[0m\u001b[1;34m'%Y%m%d'\u001b[0m\u001b[1;33m)\u001b[0m\u001b[1;33m\u001b[0m\u001b[1;33m\u001b[0m\u001b[0m\n",
      "\u001b[1;31mAttributeError\u001b[0m: module 'datetime' has no attribute 'strptime'"
     ]
    }
   ],
   "source": [
    "import datetime\n",
    "\n",
    "\n",
    "\n",
    "\n",
    "start = input('시작일(YYYYMMDD): ')\n",
    "end = input('폭표일(YYYYMMDD): ')\n",
    "\n",
    "\n",
    "sday = datetime.strptime(start,'%Y%m%d')\n",
    "\n",
    "eday = datetime.strptime(end,'%Y%m%d')\n",
    "\n",
    "\n",
    "\n",
    "\n",
    "\n",
    "\n",
    "print(f'{start} ~ {end}까지의 소요일은 {(eday-sday).days} 입니다.')\n",
    "\n",
    "\n",
    "\n"
   ]
  },
  {
   "cell_type": "code",
   "execution_count": 5,
   "id": "47dcb3f5",
   "metadata": {},
   "outputs": [
    {
     "name": "stdout",
     "output_type": "stream",
     "text": [
      "YYYYMMDD : 20211115\n",
      "------------------------------\n",
      "2021//1//1 ~ 2021//11//15 : 315\n"
     ]
    }
   ],
   "source": []
  },
  {
   "cell_type": "code",
   "execution_count": 6,
   "id": "52be4582",
   "metadata": {},
   "outputs": [
    {
     "name": "stdout",
     "output_type": "stream",
     "text": [
      "YYYYMMDD :20211115\n",
      "--------------------\n",
      "2021/1/1 ~ 2021/11/15 : 318\n"
     ]
    }
   ],
   "source": [
    "today = input('YYYYMMDD :')\n",
    "today_y = int(today[0:4]); today_m = int(today[4:6]) ; today_d = int(today[6:8])\n",
    "\n",
    "dates = [31,28,31,30,31,30,31,31,30,31,30,31]\n",
    "\n",
    "if today_y % 400 ==0 or (today_y %100 != 0 and today_y % 4 ==0):\n",
    "    \n",
    "    dates[1]=29\n",
    "    \n",
    "days = sum(dates[0:today_m-1])+today_d-1\n",
    "\n",
    "print('-'*20)\n",
    "\n",
    "print(f'{today_y}/1/1 ~ {today_y}/{today_m}/{today_d} : {days}')"
   ]
  },
  {
   "cell_type": "code",
   "execution_count": null,
   "id": "41b2faef",
   "metadata": {},
   "outputs": [],
   "source": []
  },
  {
   "cell_type": "code",
   "execution_count": null,
   "id": "9d2f0b4d",
   "metadata": {},
   "outputs": [],
   "source": []
  }
 ],
 "metadata": {
  "kernelspec": {
   "display_name": "Python 3 (ipykernel)",
   "language": "python",
   "name": "python3"
  },
  "language_info": {
   "codemirror_mode": {
    "name": "ipython",
    "version": 3
   },
   "file_extension": ".py",
   "mimetype": "text/x-python",
   "name": "python",
   "nbconvert_exporter": "python",
   "pygments_lexer": "ipython3",
   "version": "3.8.10"
  }
 },
 "nbformat": 4,
 "nbformat_minor": 5
}
