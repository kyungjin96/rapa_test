{
 "cells": [
  {
   "cell_type": "code",
   "execution_count": 1,
   "id": "a465e8ec",
   "metadata": {},
   "outputs": [],
   "source": [
    "import os\n"
   ]
  },
  {
   "cell_type": "code",
   "execution_count": 2,
   "id": "08ac03a3",
   "metadata": {},
   "outputs": [
    {
     "name": "stdout",
     "output_type": "stream",
     "text": [
      "['.ipynb_checkpoints', '02-파이썬라이브러리-01-numpy.ipynb', '02-파이썬라이브러리-02-pandas.ipynb', '2일차-2.ipynb', '2일차-3.ipynb', '2일차.ipynb', '3일차 군집 자료형.ipynb', '3일차-2.ipynb', '3일차-3.ipynb', '3일차.ipynb', '4일차-1.ipynb', '4일차-2.ipynb', 'numpy배포', 'pp.ipynb', 'Untitled.ipynb', 'Untitled1.ipynb', 'Untitled10.ipynb', 'Untitled11.ipynb', 'Untitled12.ipynb', 'Untitled13.ipynb', 'Untitled14.ipynb', 'Untitled15.ipynb', 'Untitled16.ipynb', 'Untitled17.ipynb', 'Untitled18.ipynb', 'Untitled19.ipynb', 'Untitled2.ipynb', 'Untitled20.ipynb', 'Untitled21.ipynb', 'Untitled22.ipynb', 'Untitled3.ipynb', 'Untitled4.ipynb', 'Untitled5.ipynb', 'Untitled6.ipynb', 'Untitled7.ipynb', 'Untitled8.ipynb', 'Untitled9.ipynb', '함수 모듈 패키지 클래스.ipynb']\n"
     ]
    }
   ],
   "source": [
    "print(os.listdir(os.getcwd()))"
   ]
  },
  {
   "cell_type": "code",
   "execution_count": 4,
   "id": "4f62a8d0",
   "metadata": {},
   "outputs": [
    {
     "name": "stdout",
     "output_type": "stream",
     "text": [
      "\n"
     ]
    }
   ],
   "source": [
    "print(os.path.dirname('1.[실습배포]numpy -ndarray_slicing_indexing.ipynb'))"
   ]
  },
  {
   "cell_type": "code",
   "execution_count": 5,
   "id": "37b58b3b",
   "metadata": {},
   "outputs": [
    {
     "name": "stdout",
     "output_type": "stream",
     "text": [
      "C:\\python\\rapa\\1.[실습배포]numpy -ndarray_slicing_indexing.ipynb\n"
     ]
    }
   ],
   "source": [
    "print(os.path.realpath('1.[실습배포]numpy -ndarray_slicing_indexing.ipynb'))"
   ]
  },
  {
   "cell_type": "code",
   "execution_count": 6,
   "id": "0e95c761",
   "metadata": {},
   "outputs": [
    {
     "name": "stdout",
     "output_type": "stream",
     "text": [
      "C:\\python\\rapa\\1.[실습배포]numpy -ndarray_slicing_indexing.ipynb\n"
     ]
    }
   ],
   "source": [
    "print(os.path.abspath('1.[실습배포]numpy -ndarray_slicing_indexing.ipynb'))"
   ]
  },
  {
   "cell_type": "code",
   "execution_count": null,
   "id": "35ca76d0",
   "metadata": {
    "scrolled": false
   },
   "outputs": [],
   "source": []
  },
  {
   "cell_type": "code",
   "execution_count": 9,
   "id": "57c95a18",
   "metadata": {},
   "outputs": [
    {
     "name": "stdout",
     "output_type": "stream",
     "text": [
      "C:\\python\\rapa\n"
     ]
    }
   ],
   "source": [
    "print(os.getcwd())# 현재 디렉토리"
   ]
  },
  {
   "cell_type": "code",
   "execution_count": 14,
   "id": "c395859d",
   "metadata": {},
   "outputs": [
    {
     "ename": "SyntaxError",
     "evalue": "unexpected EOF while parsing (Temp/ipykernel_4200/4163309133.py, line 1)",
     "output_type": "error",
     "traceback": [
      "\u001b[1;36m  File \u001b[1;32m\"C:\\Users\\PC021\\AppData\\Local\\Temp/ipykernel_4200/4163309133.py\"\u001b[1;36m, line \u001b[1;32m1\u001b[0m\n\u001b[1;33m    print(os.path.dirname(os.path.realpath(os.path.realpath('1.[실습배포]numpy -ndarray_slicing_indexing.ipynb')))\u001b[0m\n\u001b[1;37m                                                                                                              ^\u001b[0m\n\u001b[1;31mSyntaxError\u001b[0m\u001b[1;31m:\u001b[0m unexpected EOF while parsing\n"
     ]
    }
   ],
   "source": [
    "print(os.path.dirname(os.path.realpath(os.path.realpath('1.[실습배포]numpy -ndarray_slicing_indexing.ipynb')))"
   ]
  },
  {
   "cell_type": "code",
   "execution_count": 12,
   "id": "b5e78519",
   "metadata": {},
   "outputs": [
    {
     "name": "stdout",
     "output_type": "stream",
     "text": [
      "['.ipynb_checkpoints', '02-파이썬라이브러리-01-numpy.ipynb', '02-파이썬라이브러리-02-pandas.ipynb', '2일차-2.ipynb', '2일차-3.ipynb', '2일차.ipynb', '3일차 군집 자료형.ipynb', '3일차-2.ipynb', '3일차-3.ipynb', '3일차.ipynb', '4일차-1.ipynb', '4일차-2.ipynb', 'numpy배포', 'pp.ipynb', 'Untitled.ipynb', 'Untitled1.ipynb', 'Untitled10.ipynb', 'Untitled11.ipynb', 'Untitled12.ipynb', 'Untitled13.ipynb', 'Untitled14.ipynb', 'Untitled15.ipynb', 'Untitled16.ipynb', 'Untitled17.ipynb', 'Untitled18.ipynb', 'Untitled19.ipynb', 'Untitled2.ipynb', 'Untitled20.ipynb', 'Untitled21.ipynb', 'Untitled22.ipynb', 'Untitled3.ipynb', 'Untitled4.ipynb', 'Untitled5.ipynb', 'Untitled6.ipynb', 'Untitled7.ipynb', 'Untitled8.ipynb', 'Untitled9.ipynb', '함수 모듈 패키지 클래스.ipynb']\n"
     ]
    }
   ],
   "source": [
    "print(os.listdir(os.getcwd()))"
   ]
  },
  {
   "cell_type": "code",
   "execution_count": 23,
   "id": "c3778580",
   "metadata": {},
   "outputs": [
    {
     "name": "stdout",
     "output_type": "stream",
     "text": [
      "C:\\\n"
     ]
    }
   ],
   "source": [
    "dir = '../'\n",
    "os.chdir(dir)\n",
    "path = os.getcwd()\n",
    "print(path)"
   ]
  },
  {
   "cell_type": "code",
   "execution_count": 24,
   "id": "d2669491",
   "metadata": {},
   "outputs": [
    {
     "data": {
      "text/plain": [
       "'c:\\\\python\\\\python38\\\\lib\\\\os.py'"
      ]
     },
     "execution_count": 24,
     "metadata": {},
     "output_type": "execute_result"
    }
   ],
   "source": [
    "os.__file__"
   ]
  },
  {
   "cell_type": "code",
   "execution_count": 25,
   "id": "033daa84",
   "metadata": {},
   "outputs": [
    {
     "name": "stdout",
     "output_type": "stream",
     "text": [
      "c:\\python\\python38\\lib\\random.py\n"
     ]
    }
   ],
   "source": [
    "import random\n",
    "print(random.__file__)"
   ]
  },
  {
   "cell_type": "code",
   "execution_count": 26,
   "id": "6ed516a0",
   "metadata": {},
   "outputs": [
    {
     "name": "stdout",
     "output_type": "stream",
     "text": [
      "C:\\\n"
     ]
    }
   ],
   "source": [
    "dir = '../'\n",
    "os.chdir(dir) #디렉토리 변경\n",
    "path = os.getcwd()\n",
    "print(path)"
   ]
  },
  {
   "cell_type": "code",
   "execution_count": 38,
   "id": "0bb2fe20",
   "metadata": {},
   "outputs": [
    {
     "name": "stdout",
     "output_type": "stream",
     "text": [
      "c:/aaa/rapa/date\n"
     ]
    }
   ],
   "source": [
    "def deleteFolder(directory) :\n",
    "    try :\n",
    "        if os.path.exists(directory):\n",
    "            os.rmdir(directory)\n",
    "    except OSError:\n",
    "        print('Error:deleting directory' + directory)\n",
    "\n",
    "dirname= 'c:/aaa/rapa/date'\n",
    "deleteFolder(dirname)\n",
    "print(dirname)"
   ]
  },
  {
   "cell_type": "code",
   "execution_count": 46,
   "id": "517e880d",
   "metadata": {},
   "outputs": [
    {
     "ename": "IndentationError",
     "evalue": "unexpected unindent (Temp/ipykernel_4200/874243200.py, line 7)",
     "output_type": "error",
     "traceback": [
      "\u001b[1;36m  File \u001b[1;32m\"C:\\Users\\PC021\\AppData\\Local\\Temp/ipykernel_4200/874243200.py\"\u001b[1;36m, line \u001b[1;32m7\u001b[0m\n\u001b[1;33m    dirname= 'c:/aaa/rapa/date'\u001b[0m\n\u001b[1;37m                               ^\u001b[0m\n\u001b[1;31mIndentationError\u001b[0m\u001b[1;31m:\u001b[0m unexpected unindent\n"
     ]
    }
   ],
   "source": [
    "def deleteFolder(directory) :\n",
    "  try :\n",
    "\n",
    "        os.makedirs(directory)\n",
    "  except OSError:\n",
    "    print('Error:deleting directory' + directory)\n",
    "\n",
    "dirname= 'c:/aaa/rapa/date'\n",
    "deleteFolder(dirname)\n",
    "dirname"
   ]
  },
  {
   "cell_type": "code",
   "execution_count": 52,
   "id": "4b2a4c5b",
   "metadata": {},
   "outputs": [
    {
     "name": "stdout",
     "output_type": "stream",
     "text": [
      "Done : Creating directroy. c:/rapa/data\n",
      "Done : Creating directroy. test1\n"
     ]
    }
   ],
   "source": [
    "def createFolder(directory):\n",
    "    try:\n",
    "        if not os.path.exists(directory):\n",
    "            os.makedirs(directory)\n",
    "            print ('Done : Creating directroy. ' + directory)\n",
    "        else : print ('Warning : The folder already exists. ' + directory)\n",
    "    except OSError:\n",
    "            print('Error : Creating directory. ' + directory)\n",
    "\n",
    "            \n",
    "dirname = 'c:/rapa/data'\n",
    "createFolder(dirname)\n",
    "createFolder('test1')\n"
   ]
  },
  {
   "cell_type": "code",
   "execution_count": 53,
   "id": "47f7536d",
   "metadata": {},
   "outputs": [
    {
     "name": "stdout",
     "output_type": "stream",
     "text": [
      "Done : Deleting directroy. c:/rapa/data\n",
      "Done : Deleting directroy. test1\n"
     ]
    }
   ],
   "source": [
    "def deleteFolder(directory):\n",
    "    try:\n",
    "        if os.path.exists(directory):\n",
    "            os.rmdir(directory)\n",
    "            print ('Done : Deleting directroy. ' + directory)\n",
    "        else : print ('Warning : The folder does not exist. ' + directory)\n",
    "    except OSError:\n",
    "            print ('Error : Deleting directroy. ' + directory)\n",
    "dirname = 'c:/rapa/data'\n",
    "deleteFolder(dirname)\n",
    "deleteFolder('test1')"
   ]
  },
  {
   "cell_type": "code",
   "execution_count": 54,
   "id": "b2305b8a",
   "metadata": {},
   "outputs": [
    {
     "name": "stdout",
     "output_type": "stream",
     "text": [
      "C:\\\n",
      "None\n"
     ]
    }
   ],
   "source": [
    "def getDirList(dirname, printOptiin=False):\n",
    "  if dirname == '../' : \n",
    "    print(os.getcwd())\n",
    "\n",
    "print(getDirList('../'))\n",
    "  "
   ]
  },
  {
   "cell_type": "code",
   "execution_count": 62,
   "id": "e0e939ef",
   "metadata": {},
   "outputs": [
    {
     "name": "stdout",
     "output_type": "stream",
     "text": [
      "['$Recycle.Bin', '$WinREAgent', \"'BDVGFR\", 'aaa', 'Documents and Settings', 'DumpStack.log.tmp', 'hiberfil.sys', 'MSOCache', 'pagefile.sys', 'PerfLogs', 'Program Files', 'Program Files (x86)', 'ProgramData', 'python', 'rapa', 'Recovery', 'swapfile.sys', 'System Volume Information', 'Temp', 'Users', 'Windows']\n",
      "None True\n"
     ]
    }
   ],
   "source": [
    "def getDirList(dirname, printOptiin=False):\n",
    "    if dirname == '../' : \n",
    "        print(os.listdir(os.getcwd()))\n",
    "\n",
    "print(getDirList('../') , True)\n",
    "  "
   ]
  },
  {
   "cell_type": "code",
   "execution_count": 59,
   "id": "9de3b027",
   "metadata": {},
   "outputs": [
    {
     "name": "stdout",
     "output_type": "stream",
     "text": [
      "['$Recycle.Bin', '$WinREAgent', \"'BDVGFR\", 'aaa', 'Documents and Settings', 'DumpStack.log.tmp', 'hiberfil.sys', 'MSOCache', 'pagefile.sys', 'PerfLogs', 'Program Files', 'Program Files (x86)', 'ProgramData', 'python', 'rapa', 'Recovery', 'swapfile.sys', 'System Volume Information', 'Temp', 'Users', 'Windows']\n"
     ]
    }
   ],
   "source": [
    "print(os.listdir(os.getcwd()))"
   ]
  },
  {
   "cell_type": "code",
   "execution_count": 63,
   "id": "f14eafa2",
   "metadata": {},
   "outputs": [
    {
     "name": "stdout",
     "output_type": "stream",
     "text": [
      "['$Recycle.Bin', '$WinREAgent', \"'BDVGFR\", 'aaa', 'Documents and Settings', 'DumpStack.log.tmp', 'hiberfil.sys', 'MSOCache', 'pagefile.sys', 'PerfLogs', 'Program Files', 'Program Files (x86)', 'ProgramData', 'python', 'rapa', 'Recovery', 'swapfile.sys', 'System Volume Information', 'Temp', 'Users', 'Windows']\n",
      "None\n",
      "<built-in function getcwd>\n",
      "None\n"
     ]
    }
   ],
   "source": [
    "def getDirList(dirname, printOptiin=False):\n",
    "  if dirname == '../' : \n",
    "    print(os.listdir(os.getcwd()))\n",
    "  elif dirname == './' : \n",
    "    print(os.getcwd)\n",
    "\n",
    "print(getDirList('../'))\n",
    "print(getDirList('./'))\n",
    "  "
   ]
  },
  {
   "cell_type": "code",
   "execution_count": 64,
   "id": "94c9b26a",
   "metadata": {},
   "outputs": [
    {
     "name": "stdout",
     "output_type": "stream",
     "text": [
      "Done\n",
      "None\n",
      "['$Recycle.Bin', '$WinREAgent', \"'BDVGFR\", 'aaa', 'Documents and Settings', 'DumpStack.log.tmp', 'hiberfil.sys', 'MSOCache', 'pagefile.sys', 'PerfLogs', 'Program Files', 'Program Files (x86)', 'ProgramData', 'python', 'rapa', 'Recovery', 'swapfile.sys', 'System Volume Information', 'Temp', 'Users', 'Windows']\n",
      "None\n",
      "Done\n",
      "None\n"
     ]
    }
   ],
   "source": [
    "def getDirList(dirname, printOptin = False):\n",
    "    dirs = os.listdir( path )\n",
    "    if printOptin == True :\n",
    "        return print(dirs)\n",
    "    else : return print(\"Done\")\n",
    "print (getDirList('./'))\n",
    "print (getDirList('c://python/rapa', True))\n",
    "print (getDirList('../', False))"
   ]
  },
  {
   "cell_type": "code",
   "execution_count": 65,
   "id": "c1b26f77",
   "metadata": {},
   "outputs": [
    {
     "name": "stdout",
     "output_type": "stream",
     "text": [
      "$Recycle.Bin\n",
      "$WinREAgent\n",
      "'BDVGFR\n",
      "aaa\n",
      "Documents and Settings\n",
      "DumpStack.log.tmp\n",
      "hiberfil.sys\n",
      "MSOCache\n",
      "pagefile.sys\n",
      "PerfLogs\n",
      "Program Files\n",
      "Program Files (x86)\n",
      "ProgramData\n",
      "python\n",
      "rapa\n",
      "Recovery\n",
      "swapfile.sys\n",
      "System Volume Information\n",
      "Temp\n",
      "Users\n",
      "Windows\n",
      "None\n"
     ]
    },
    {
     "ename": "FileNotFoundError",
     "evalue": "[WinError 3] 지정된 경로를 찾을 수 없습니다: 'c:/rapa/python'",
     "output_type": "error",
     "traceback": [
      "\u001b[1;31m---------------------------------------------------------------------------\u001b[0m",
      "\u001b[1;31mFileNotFoundError\u001b[0m                         Traceback (most recent call last)",
      "\u001b[1;32m~\\AppData\\Local\\Temp/ipykernel_4200/1232565900.py\u001b[0m in \u001b[0;36m<module>\u001b[1;34m\u001b[0m\n\u001b[0;32m      8\u001b[0m             \u001b[0mprint\u001b[0m\u001b[1;33m(\u001b[0m\u001b[0mfile\u001b[0m\u001b[1;33m)\u001b[0m\u001b[1;33m\u001b[0m\u001b[1;33m\u001b[0m\u001b[0m\n\u001b[0;32m      9\u001b[0m \u001b[0mprint\u001b[0m\u001b[1;33m(\u001b[0m\u001b[0mgetDirList\u001b[0m\u001b[1;33m(\u001b[0m\u001b[1;34m'./'\u001b[0m\u001b[1;33m)\u001b[0m\u001b[1;33m)\u001b[0m\u001b[1;33m\u001b[0m\u001b[1;33m\u001b[0m\u001b[0m\n\u001b[1;32m---> 10\u001b[1;33m \u001b[0mprint\u001b[0m\u001b[1;33m(\u001b[0m\u001b[0mgetDirList\u001b[0m\u001b[1;33m(\u001b[0m\u001b[1;34m'c:/rapa/python'\u001b[0m\u001b[1;33m,\u001b[0m\u001b[1;32mTrue\u001b[0m\u001b[1;33m)\u001b[0m\u001b[1;33m)\u001b[0m\u001b[1;33m\u001b[0m\u001b[1;33m\u001b[0m\u001b[0m\n\u001b[0m\u001b[0;32m     11\u001b[0m \u001b[0mprint\u001b[0m\u001b[1;33m(\u001b[0m\u001b[0mgetDirList\u001b[0m\u001b[1;33m(\u001b[0m\u001b[1;34m'../'\u001b[0m\u001b[1;33m,\u001b[0m\u001b[1;32mFalse\u001b[0m\u001b[1;33m)\u001b[0m\u001b[1;33m)\u001b[0m\u001b[1;33m\u001b[0m\u001b[1;33m\u001b[0m\u001b[0m\n",
      "\u001b[1;32m~\\AppData\\Local\\Temp/ipykernel_4200/1232565900.py\u001b[0m in \u001b[0;36mgetDirList\u001b[1;34m(dirname, printOption)\u001b[0m\n\u001b[0;32m      1\u001b[0m \u001b[1;32mimport\u001b[0m \u001b[0mos\u001b[0m\u001b[1;33m\u001b[0m\u001b[1;33m\u001b[0m\u001b[0m\n\u001b[0;32m      2\u001b[0m \u001b[1;32mdef\u001b[0m \u001b[0mgetDirList\u001b[0m\u001b[1;33m(\u001b[0m\u001b[0mdirname\u001b[0m\u001b[1;33m,\u001b[0m \u001b[0mprintOption\u001b[0m\u001b[1;33m=\u001b[0m\u001b[1;32mFalse\u001b[0m\u001b[1;33m)\u001b[0m\u001b[1;33m:\u001b[0m\u001b[1;33m\u001b[0m\u001b[1;33m\u001b[0m\u001b[0m\n\u001b[1;32m----> 3\u001b[1;33m     \u001b[0mlist_file\u001b[0m \u001b[1;33m=\u001b[0m \u001b[0mos\u001b[0m\u001b[1;33m.\u001b[0m\u001b[0mlistdir\u001b[0m\u001b[1;33m(\u001b[0m\u001b[0mdirname\u001b[0m\u001b[1;33m)\u001b[0m\u001b[1;33m\u001b[0m\u001b[1;33m\u001b[0m\u001b[0m\n\u001b[0m\u001b[0;32m      4\u001b[0m     \u001b[1;32mfor\u001b[0m \u001b[0mfile\u001b[0m \u001b[1;32min\u001b[0m \u001b[1;33m(\u001b[0m\u001b[0mlist_file\u001b[0m\u001b[1;33m)\u001b[0m\u001b[1;33m:\u001b[0m\u001b[1;33m\u001b[0m\u001b[1;33m\u001b[0m\u001b[0m\n\u001b[0;32m      5\u001b[0m         \u001b[1;32mif\u001b[0m \u001b[0mprintOption\u001b[0m \u001b[1;33m:\u001b[0m\u001b[1;33m\u001b[0m\u001b[1;33m\u001b[0m\u001b[0m\n",
      "\u001b[1;31mFileNotFoundError\u001b[0m: [WinError 3] 지정된 경로를 찾을 수 없습니다: 'c:/rapa/python'"
     ]
    }
   ],
   "source": [
    "import os\n",
    "def getDirList(dirname, printOption=False):\n",
    "    list_file = os.listdir(dirname)\n",
    "    for file in (list_file):\n",
    "        if printOption :\n",
    "            print(os.path.dirname(os.path.realpath(file)),file)\n",
    "        else :\n",
    "            print(file)\n",
    "print(getDirList('./'))\n",
    "print(getDirList('c:/rapa/python',True))\n",
    "print(getDirList('../',False))"
   ]
  },
  {
   "cell_type": "code",
   "execution_count": 66,
   "id": "d6262182",
   "metadata": {},
   "outputs": [
    {
     "name": "stdout",
     "output_type": "stream",
     "text": [
      "['$Recycle.Bin', '$WinREAgent', \"'BDVGFR\", 'aaa', 'Documents and Settings', 'DumpStack.log.tmp', 'hiberfil.sys', 'MSOCache', 'pagefile.sys', 'PerfLogs', 'Program Files', 'Program Files (x86)', 'ProgramData', 'python', 'rapa', 'Recovery', 'swapfile.sys', 'System Volume Information', 'Temp', 'Users', 'Windows']\n",
      "None True\n",
      "<built-in function getcwd>\n",
      "None\n"
     ]
    }
   ],
   "source": [
    "def getDirList(dirname, printOptiin=False):\n",
    "  if dirname == '../' : \n",
    "    print(os.listdir(os.getcwd()))\n",
    "  elif dirname == './' : \n",
    "    print(os.getcwd)\n",
    "\n",
    "print(getDirList('../'),True)\n",
    "print(getDirList('./'))\n",
    "  "
   ]
  },
  {
   "cell_type": "code",
   "execution_count": 68,
   "id": "dd69266c",
   "metadata": {},
   "outputs": [
    {
     "name": "stdout",
     "output_type": "stream",
     "text": [
      "['$Recycle.Bin', '$WinREAgent', \"'BDVGFR\", 'aaa', 'Documents and Settings', 'DumpStack.log.tmp', 'hiberfil.sys', 'MSOCache', 'pagefile.sys', 'PerfLogs', 'Program Files', 'Program Files (x86)', 'ProgramData', 'python', 'rapa', 'Recovery', 'swapfile.sys', 'System Volume Information', 'Temp', 'Users', 'Windows']\n",
      "None\n"
     ]
    }
   ],
   "source": [
    "def getDirList(dirname, printOptiin=False):\n",
    "  if dirname == '../' : \n",
    "    print(os.listdir(os.getcwd()))\n",
    "  elif dirname == './' : \n",
    "    print(os.getcwd)\n",
    "\n",
    "print(getDirList('../',True))\n",
    "  "
   ]
  },
  {
   "cell_type": "code",
   "execution_count": 69,
   "id": "9bc7dde2",
   "metadata": {},
   "outputs": [
    {
     "name": "stdout",
     "output_type": "stream",
     "text": [
      "현재디렉토리 :  C:\\\n",
      "------------------------------\n",
      "['$Recycle.Bin', '$WinREAgent', \"'BDVGFR\", 'aaa', 'Documents and Settings', 'DumpStack.log.tmp', 'hiberfil.sys', 'MSOCache', 'pagefile.sys', 'PerfLogs', 'Program Files', 'Program Files (x86)', 'ProgramData', 'python', 'rapa', 'Recovery', 'swapfile.sys', 'System Volume Information', 'Temp', 'Users', 'Windows']\n",
      "현재디렉토리 :  c:\\python\\rapa\n",
      "------------------------------\n",
      "['c:\\\\python\\\\rapa\\\\.ipynb_checkpoints', 'c:\\\\python\\\\rapa\\\\02-파이썬라이브러리-01-numpy.ipynb', 'c:\\\\python\\\\rapa\\\\02-파이썬라이브러리-02-pandas.ipynb', 'c:\\\\python\\\\rapa\\\\2일차-2.ipynb', 'c:\\\\python\\\\rapa\\\\2일차-3.ipynb', 'c:\\\\python\\\\rapa\\\\2일차.ipynb', 'c:\\\\python\\\\rapa\\\\3일차 군집 자료형.ipynb', 'c:\\\\python\\\\rapa\\\\3일차-2.ipynb', 'c:\\\\python\\\\rapa\\\\3일차-3.ipynb', 'c:\\\\python\\\\rapa\\\\3일차.ipynb', 'c:\\\\python\\\\rapa\\\\4일차-1.ipynb', 'c:\\\\python\\\\rapa\\\\4일차-2.ipynb', 'c:\\\\python\\\\rapa\\\\numpy배포', 'c:\\\\python\\\\rapa\\\\pp.ipynb', 'c:\\\\python\\\\rapa\\\\Untitled.ipynb', 'c:\\\\python\\\\rapa\\\\Untitled1.ipynb', 'c:\\\\python\\\\rapa\\\\Untitled10.ipynb', 'c:\\\\python\\\\rapa\\\\Untitled11.ipynb', 'c:\\\\python\\\\rapa\\\\Untitled12.ipynb', 'c:\\\\python\\\\rapa\\\\Untitled13.ipynb', 'c:\\\\python\\\\rapa\\\\Untitled14.ipynb', 'c:\\\\python\\\\rapa\\\\Untitled15.ipynb', 'c:\\\\python\\\\rapa\\\\Untitled16.ipynb', 'c:\\\\python\\\\rapa\\\\Untitled17.ipynb', 'c:\\\\python\\\\rapa\\\\Untitled18.ipynb', 'c:\\\\python\\\\rapa\\\\Untitled19.ipynb', 'c:\\\\python\\\\rapa\\\\Untitled2.ipynb', 'c:\\\\python\\\\rapa\\\\Untitled20.ipynb', 'c:\\\\python\\\\rapa\\\\Untitled21.ipynb', 'c:\\\\python\\\\rapa\\\\Untitled22.ipynb', 'c:\\\\python\\\\rapa\\\\Untitled3.ipynb', 'c:\\\\python\\\\rapa\\\\Untitled4.ipynb', 'c:\\\\python\\\\rapa\\\\Untitled5.ipynb', 'c:\\\\python\\\\rapa\\\\Untitled6.ipynb', 'c:\\\\python\\\\rapa\\\\Untitled7.ipynb', 'c:\\\\python\\\\rapa\\\\Untitled8.ipynb', 'c:\\\\python\\\\rapa\\\\Untitled9.ipynb', 'c:\\\\python\\\\rapa\\\\함수 모듈 패키지 클래스.ipynb']\n",
      "현재디렉토리 :  c:\\python\n",
      "------------------------------\n",
      "['python38', 'rapa']\n"
     ]
    }
   ],
   "source": [
    "def getDirList(dirname, printOptin = False):\n",
    "  os.chdir(dirname)\n",
    "  path = os.getcwd()\n",
    "  print('현재디렉토리 : ', path)\n",
    "  print('-'*30)\n",
    "  \n",
    "  return [path+'\\\\'+i if printOptin == True else i for i in os.listdir(path)]\n",
    "\n",
    "print (getDirList('./'))\n",
    "print (getDirList('c:/python/rapa', True))\n",
    "print (getDirList('../', False))\n",
    "\n"
   ]
  },
  {
   "cell_type": "code",
   "execution_count": 71,
   "id": "83cd27c3",
   "metadata": {},
   "outputs": [],
   "source": [
    "f=open('새파일.txt','w')\n"
   ]
  },
  {
   "cell_type": "code",
   "execution_count": 91,
   "id": "5338bd6a",
   "metadata": {},
   "outputs": [],
   "source": [
    "f = open('c:/python/새파일.txt', 'w')\n",
    "for i in range(1,21):\n",
    "    data = '%d 번째 줄입니다.\\n' %i #\\n 줄바꿈\n",
    "    b = '배고파'\n",
    "    f.write(data)\n",
    "f.write(b)\n",
    "f.close()"
   ]
  },
  {
   "cell_type": "code",
   "execution_count": 92,
   "id": "19d682aa",
   "metadata": {},
   "outputs": [
    {
     "name": "stdout",
     "output_type": "stream",
     "text": [
      "1 번째 줄입니다.\n",
      "\n",
      "2 번째 줄입니다.\n",
      "\n",
      "3 번째 줄입니다.\n",
      "\n",
      "4 번째 줄입니다.\n",
      "\n",
      "5 번째 줄입니다.\n",
      "\n",
      "6 번째 줄입니다.\n",
      "\n",
      "7 번째 줄입니다.\n",
      "\n",
      "8 번째 줄입니다.\n",
      "\n",
      "9 번째 줄입니다.\n",
      "\n",
      "10 번째 줄입니다.\n",
      "\n",
      "11 번째 줄입니다.\n",
      "\n",
      "12 번째 줄입니다.\n",
      "\n",
      "13 번째 줄입니다.\n",
      "\n",
      "14 번째 줄입니다.\n",
      "\n",
      "15 번째 줄입니다.\n",
      "\n",
      "16 번째 줄입니다.\n",
      "\n",
      "17 번째 줄입니다.\n",
      "\n",
      "18 번째 줄입니다.\n",
      "\n",
      "19 번째 줄입니다.\n",
      "\n",
      "20 번째 줄입니다.\n",
      "\n",
      "배고파\n"
     ]
    }
   ],
   "source": [
    "f = open('c:/python/새파일.txt', 'r')\n",
    "lines = f.readlines()\n",
    "for line in lines:\n",
    "    print(line)\n",
    "f.close()"
   ]
  },
  {
   "cell_type": "code",
   "execution_count": 93,
   "id": "6b961d02",
   "metadata": {},
   "outputs": [
    {
     "name": "stdout",
     "output_type": "stream",
     "text": [
      "1 번째 줄입니다.\n",
      "\n"
     ]
    }
   ],
   "source": [
    "f = open('c:/python/새파일.txt', 'r')\n",
    "line = f.readline()\n",
    "print(line)\n",
    "f.close()"
   ]
  },
  {
   "cell_type": "code",
   "execution_count": 94,
   "id": "d5458bb7",
   "metadata": {},
   "outputs": [
    {
     "name": "stdout",
     "output_type": "stream",
     "text": [
      "1 번째 줄입니다.\n",
      "\n",
      "2 번째 줄입니다.\n",
      "\n",
      "3 번째 줄입니다.\n",
      "\n",
      "4 번째 줄입니다.\n",
      "\n",
      "5 번째 줄입니다.\n",
      "\n",
      "6 번째 줄입니다.\n",
      "\n",
      "7 번째 줄입니다.\n",
      "\n",
      "8 번째 줄입니다.\n",
      "\n",
      "9 번째 줄입니다.\n",
      "\n",
      "10 번째 줄입니다.\n",
      "\n",
      "11 번째 줄입니다.\n",
      "\n",
      "12 번째 줄입니다.\n",
      "\n",
      "13 번째 줄입니다.\n",
      "\n",
      "14 번째 줄입니다.\n",
      "\n",
      "15 번째 줄입니다.\n",
      "\n",
      "16 번째 줄입니다.\n",
      "\n",
      "17 번째 줄입니다.\n",
      "\n",
      "18 번째 줄입니다.\n",
      "\n",
      "19 번째 줄입니다.\n",
      "\n",
      "20 번째 줄입니다.\n",
      "\n",
      "배고파\n"
     ]
    }
   ],
   "source": [
    "f = open('c:/python/새파일.txt', 'r')\n",
    "while True : \n",
    "    line = f.readline()\n",
    "    if not line : break\n",
    "    print(line)\n",
    "f.close()"
   ]
  },
  {
   "cell_type": "code",
   "execution_count": 95,
   "id": "1b43d1e3",
   "metadata": {},
   "outputs": [
    {
     "name": "stdout",
     "output_type": "stream",
     "text": [
      "1 번째 줄입니다.\n",
      "2 번째 줄입니다.\n",
      "3 번째 줄입니다.\n",
      "4 번째 줄입니다.\n",
      "5 번째 줄입니다.\n",
      "6 번째 줄입니다.\n",
      "7 번째 줄입니다.\n",
      "8 번째 줄입니다.\n",
      "9 번째 줄입니다.\n",
      "10 번째 줄입니다.\n",
      "11 번째 줄입니다.\n",
      "12 번째 줄입니다.\n",
      "13 번째 줄입니다.\n",
      "14 번째 줄입니다.\n",
      "15 번째 줄입니다.\n",
      "16 번째 줄입니다.\n",
      "17 번째 줄입니다.\n",
      "18 번째 줄입니다.\n",
      "19 번째 줄입니다.\n",
      "20 번째 줄입니다.\n",
      "배고파\n"
     ]
    }
   ],
   "source": [
    "f = open('c:/python/새파일.txt', 'r')\n",
    "data = f.read()\n",
    "print(data)\n",
    "f.close()"
   ]
  },
  {
   "cell_type": "code",
   "execution_count": 99,
   "id": "c29a153a",
   "metadata": {},
   "outputs": [
    {
     "name": "stdout",
     "output_type": "stream",
     "text": [
      "1 번째 줄입니다.\n",
      "\n",
      "2 번째 줄입니다.\n",
      "\n",
      "3 번째 줄입니다.\n",
      "\n",
      "4 번째 줄입니다.\n",
      "\n",
      "5 번째 줄입니다.\n",
      "\n",
      "6 번째 줄입니다.\n",
      "\n",
      "7 번째 줄입니다.\n",
      "\n",
      "8 번째 줄입니다.\n",
      "\n",
      "9 번째 줄입니다.\n",
      "\n",
      "10 번째 줄입니다.\n",
      "\n",
      "11 번째 줄입니다.\n",
      "\n",
      "12 번째 줄입니다.\n",
      "\n",
      "13 번째 줄입니다.\n",
      "\n",
      "14 번째 줄입니다.\n",
      "\n",
      "15 번째 줄입니다.\n",
      "\n",
      "16 번째 줄입니다.\n",
      "\n",
      "17 번째 줄입니다.\n",
      "\n",
      "18 번째 줄입니다.\n",
      "\n",
      "19 번째 줄입니다.\n",
      "\n",
      "20 번째 줄입니다.\n",
      "\n",
      "배고파\n"
     ]
    }
   ],
   "source": [
    "f = open('c:/python/새파일.txt', 'r')\n",
    "for i in f.readlines():\n",
    "    print(i)\n",
    "f.close()"
   ]
  },
  {
   "cell_type": "code",
   "execution_count": 100,
   "id": "ca5a9d6f",
   "metadata": {},
   "outputs": [],
   "source": [
    "f = open('c:/python/새파일.txt' ,'a')\n",
    "for i in range(21,31) : \n",
    "    data = '%d 번째 줄입니다.\\n' %i\n",
    "    f.write(data)\n",
    "f.close()"
   ]
  },
  {
   "cell_type": "code",
   "execution_count": 101,
   "id": "c9739904",
   "metadata": {},
   "outputs": [],
   "source": [
    "with open('c:/python/새파일.txt' ,'w') as f:\n",
    "    f.write('배고파')\n",
    "    \n",
    "    "
   ]
  },
  {
   "cell_type": "code",
   "execution_count": 105,
   "id": "4651561d",
   "metadata": {},
   "outputs": [],
   "source": [
    "with open('c:/python/새파일.txt' ,'w') as f:\n",
    "    for i in range(1,11) : \n",
    "        data = '%d 번째 줄입니다.\\n' %i\n",
    "        f.write(data)"
   ]
  },
  {
   "cell_type": "code",
   "execution_count": 106,
   "id": "dade11f2",
   "metadata": {},
   "outputs": [
    {
     "data": {
      "text/plain": [
       "'c:/python/새파일 copy.txt'"
      ]
     },
     "execution_count": 106,
     "metadata": {},
     "output_type": "execute_result"
    }
   ],
   "source": [
    "import sh"
   ]
  },
  {
   "cell_type": "code",
   "execution_count": 4,
   "id": "7d7c4588",
   "metadata": {},
   "outputs": [
    {
     "ename": "AttributeError",
     "evalue": "module 'random' has no attribute 'randrang'",
     "output_type": "error",
     "traceback": [
      "\u001b[1;31m---------------------------------------------------------------------------\u001b[0m",
      "\u001b[1;31mAttributeError\u001b[0m                            Traceback (most recent call last)",
      "\u001b[1;32m~\\AppData\\Local\\Temp/ipykernel_13272/4101253617.py\u001b[0m in \u001b[0;36m<module>\u001b[1;34m\u001b[0m\n\u001b[0;32m      2\u001b[0m \u001b[1;32mwith\u001b[0m \u001b[0mopen\u001b[0m\u001b[1;33m(\u001b[0m\u001b[1;34m'c:/python/sample.txt'\u001b[0m \u001b[1;33m,\u001b[0m\u001b[1;34m'w'\u001b[0m\u001b[1;33m)\u001b[0m \u001b[1;32mas\u001b[0m \u001b[0mf\u001b[0m \u001b[1;33m:\u001b[0m\u001b[1;33m\u001b[0m\u001b[1;33m\u001b[0m\u001b[0m\n\u001b[0;32m      3\u001b[0m     \u001b[1;32mfor\u001b[0m \u001b[0mi\u001b[0m \u001b[1;32min\u001b[0m \u001b[0mrange\u001b[0m\u001b[1;33m(\u001b[0m\u001b[1;36m1\u001b[0m\u001b[1;33m,\u001b[0m\u001b[1;36m10\u001b[0m\u001b[1;33m)\u001b[0m\u001b[1;33m:\u001b[0m\u001b[1;33m\u001b[0m\u001b[1;33m\u001b[0m\u001b[0m\n\u001b[1;32m----> 4\u001b[1;33m         \u001b[0mi\u001b[0m \u001b[1;33m=\u001b[0m \u001b[0mrandom\u001b[0m\u001b[1;33m.\u001b[0m\u001b[0mrandrang\u001b[0m\u001b[1;33m(\u001b[0m\u001b[1;36m1\u001b[0m\u001b[1;33m,\u001b[0m\u001b[1;36m101\u001b[0m\u001b[1;33m)\u001b[0m\u001b[1;33m\u001b[0m\u001b[1;33m\u001b[0m\u001b[0m\n\u001b[0m\u001b[0;32m      5\u001b[0m         \u001b[0mf\u001b[0m\u001b[1;33m.\u001b[0m\u001b[0mwrite\u001b[0m\u001b[1;33m(\u001b[0m\u001b[0mi\u001b[0m\u001b[1;33m)\u001b[0m\u001b[1;33m\u001b[0m\u001b[1;33m\u001b[0m\u001b[0m\n",
      "\u001b[1;31mAttributeError\u001b[0m: module 'random' has no attribute 'randrang'"
     ]
    }
   ],
   "source": [
    "import random\n",
    "with open('c:/python/sample.txt' ,'w') as f : \n",
    "    for i in range(1,10):\n",
    "        i = random.randrang(1,101)\n",
    "        f.write(i)"
   ]
  },
  {
   "cell_type": "raw",
   "id": "7940d4d2",
   "metadata": {},
   "source": [
    "import random\n",
    "with open('c:/python/sample.txt' ,'w') as f : \n",
    "    for i in range(1,10):\n",
    "        i = str(random.randrange(1,101))\n",
    "        f.write(i)\n",
    "        \n",
    "\n",
    "    \n",
    "    "
   ]
  },
  {
   "cell_type": "code",
   "execution_count": 130,
   "id": "a7e5225c",
   "metadata": {},
   "outputs": [],
   "source": [
    "import random\n",
    "with open('c:/python/sample.txt' ,'w') as f : \n",
    "        for i in range(10):\n",
    "            x = random.randint(1,101)\n",
    "            f.write('%d\\n'%x)\n"
   ]
  },
  {
   "cell_type": "code",
   "execution_count": 131,
   "id": "851a8f3b",
   "metadata": {},
   "outputs": [
    {
     "name": "stdout",
     "output_type": "stream",
     "text": [
      "49\n",
      "68\n",
      "10\n",
      "26\n",
      "68\n",
      "91\n",
      "67\n",
      "3\n",
      "96\n",
      "64\n",
      "\n"
     ]
    }
   ],
   "source": [
    "f = open('c:/python/sample.txt', 'r')\n",
    "data = f.read()\n",
    "print(data)\n",
    "\n",
    "\n",
    "\n",
    "\n",
    "\n",
    "\n",
    "\n",
    "f.close()"
   ]
  },
  {
   "cell_type": "code",
   "execution_count": 132,
   "id": "b094e250",
   "metadata": {},
   "outputs": [
    {
     "name": "stdout",
     "output_type": "stream",
     "text": [
      "[49, 68, 10, 26, 68, 91, 67, 3, 96, 64]의\n",
      " 총합은 542입니다.  \n",
      " 평균은 54.2입니다.\n"
     ]
    }
   ],
   "source": [
    "import numpy as np\n",
    "with open(\"c:/python/sample.txt\", 'r') as f:\n",
    "    lines = f.readlines()\n",
    "    nums = list()\n",
    "    for line in lines:\n",
    "        nums.append(int(line))\n",
    "    hap = np.sum(nums)\n",
    "    mean = np.mean(nums)\n",
    "    msg = str(nums)+f\"의\\n 총합은 {hap}입니다.  \\n 평균은 {mean}입니다.\"\n",
    "    print(msg)\n",
    "with open(\"./result.txt\" , 'w', encoding='utf8') as f:\n",
    "    f.write(msg)"
   ]
  },
  {
   "cell_type": "code",
   "execution_count": 141,
   "id": "d1265098",
   "metadata": {},
   "outputs": [
    {
     "name": "stdout",
     "output_type": "stream",
     "text": [
      "[49, 68, 10, 26, 68, 91, 67, 3, 96, 64]의\n",
      " 총합은 542입니다.  \n",
      " 평균은 54.2입니다.\n"
     ]
    }
   ],
   "source": [
    "f = open('c:/python/sample.txt', 'r')\n",
    "l = f.readlines()\n",
    "nums = []\n",
    "for line in l:\n",
    "    nums.append(int(line))\n",
    "hap=np.sum(nums)\n",
    "mean=np.mean(nums)\n",
    "msg= str(nums)+f\"의\\n 총합은 {hap}입니다.  \\n 평균은 {mean}입니다.\"\n",
    "print(msg)\n",
    "f.close()\n",
    "\n",
    "with open('c:/python/sa.txt', 'w') as f:\n",
    "    f.write(msg)"
   ]
  },
  {
   "cell_type": "code",
   "execution_count": 155,
   "id": "36088457",
   "metadata": {},
   "outputs": [
    {
     "ename": "TypeError",
     "evalue": "'int' object is not iterable",
     "output_type": "error",
     "traceback": [
      "\u001b[1;31m---------------------------------------------------------------------------\u001b[0m",
      "\u001b[1;31mTypeError\u001b[0m                                 Traceback (most recent call last)",
      "\u001b[1;32m~\\AppData\\Local\\Temp/ipykernel_13112/3359586384.py\u001b[0m in \u001b[0;36m<module>\u001b[1;34m\u001b[0m\n\u001b[1;32m----> 1\u001b[1;33m \u001b[0mx\u001b[0m\u001b[1;33m=\u001b[0m \u001b[1;33m[\u001b[0m\u001b[0ml\u001b[0m \u001b[1;32mfor\u001b[0m \u001b[0mx\u001b[0m \u001b[1;32min\u001b[0m \u001b[0mlen\u001b[0m\u001b[1;33m(\u001b[0m\u001b[0mx\u001b[0m\u001b[1;33m)\u001b[0m\u001b[1;33m]\u001b[0m\u001b[1;33m\u001b[0m\u001b[1;33m\u001b[0m\u001b[0m\n\u001b[0m\u001b[0;32m      2\u001b[0m \u001b[0mx\u001b[0m\u001b[1;33m\u001b[0m\u001b[1;33m\u001b[0m\u001b[0m\n",
      "\u001b[1;31mTypeError\u001b[0m: 'int' object is not iterable"
     ]
    }
   ],
   "source": [
    "x= [l for x in len(x)]\n",
    "x"
   ]
  },
  {
   "cell_type": "code",
   "execution_count": 125,
   "id": "dbbb518f",
   "metadata": {},
   "outputs": [
    {
     "name": "stdout",
     "output_type": "stream",
     "text": [
      "[43, 85, 33, 53, 46, 83, 97, 76, 49, 63]의 \n",
      "총합은 628 입니다.\n",
      "평균은 62.8 입니다.\n"
     ]
    }
   ],
   "source": [
    "hap, avg = 0, 0\n",
    "with open(\"c:/python/sample.txt\", 'r') as f1:\n",
    "    data = [int(line) for line in f1.readlines()]\n",
    "    hap = sum(data)\n",
    "    avg = hap/len(data)\n",
    "context = f'{data}의 \\n총합은 {hap} 입니다.\\n평균은 {avg} 입니다.'\n",
    "print(context)\n",
    "with open(\"./result.txt\", 'w') as f2:\n",
    "    f2.write(context)"
   ]
  },
  {
   "cell_type": "code",
   "execution_count": 106,
   "id": "1954d07b",
   "metadata": {},
   "outputs": [
    {
     "name": "stdout",
     "output_type": "stream",
     "text": [
      "[39, 93, 39, 97, 52, 92, 57, 91, 86, 46]의\n",
      " 총합은 692입니다.  \n",
      " 평균은 69.2입니다.\n"
     ]
    }
   ],
   "source": [
    "import numpy as np\n",
    "with open(\"./sample.txt\", 'r') as f:\n",
    "    lines = f.readlines()\n",
    "    nums = list()\n",
    "    for line in lines:\n",
    "        nums.append(int(line))\n",
    "    hap = np.sum(nums)\n",
    "    mean = np.mean(nums)\n",
    "    msg = str(nums)+f\"의\\n 총합은 {hap}입니다.  \\n 평균은 {mean}입니다.\"\n",
    "    print(msg)\n",
    "with open(\"./result.txt\" , 'w', encoding='utf8') as f:\n",
    "    f.write(msg)"
   ]
  },
  {
   "cell_type": "code",
   "execution_count": 158,
   "id": "d7d2fb98",
   "metadata": {},
   "outputs": [],
   "source": [
    "dicText = {'13':'20','토트넘':'맨체스터시티', '해리 케인':'김덕배', '손흥민':'스털링','무사 시소코':'필 포덴'}\n",
    "with open('c:/python/article.txt', 'r', encoding='utf8') as f:\n",
    "    data = f.read()\n",
    "    for key, value in dicText.items():    \n",
    "        \n",
    "        data = data.replace(key, value)    \n",
    "with open('c:/python/saaa.txt', 'w',encoding='utf8') as f :\n",
    "    f.write(data)"
   ]
  },
  {
   "cell_type": "code",
   "execution_count": 159,
   "id": "9b98e63f",
   "metadata": {},
   "outputs": [],
   "source": [
    "import pandas as pd"
   ]
  },
  {
   "cell_type": "code",
   "execution_count": 160,
   "id": "9ae8df67",
   "metadata": {},
   "outputs": [],
   "source": [
    "df = pd.read_csv('c:/python/korea-star.csv')"
   ]
  },
  {
   "cell_type": "code",
   "execution_count": 163,
   "id": "98a60264",
   "metadata": {},
   "outputs": [
    {
     "name": "stdout",
     "output_type": "stream",
     "text": [
      "    이름     그룹   소속사  성별        생년월일      키 혈액형     인기지수\n",
      "0  아이린   레드벨벳    SM  여자  1991-03-29  160.0   A  8256324\n",
      "1  차은우   아스트로  판타지오  남자  1997-03-30  183.0   B  3506027\n",
      "2    뷔  방탄소년단   빅히트  남자  1995-12-30  178.0  AB  8073501\n"
     ]
    }
   ],
   "source": [
    "print(df.head(3))"
   ]
  },
  {
   "cell_type": "code",
   "execution_count": null,
   "id": "f66eb725",
   "metadata": {},
   "outputs": [],
   "source": []
  }
 ],
 "metadata": {
  "kernelspec": {
   "display_name": "Python 3 (ipykernel)",
   "language": "python",
   "name": "python3"
  },
  "language_info": {
   "codemirror_mode": {
    "name": "ipython",
    "version": 3
   },
   "file_extension": ".py",
   "mimetype": "text/x-python",
   "name": "python",
   "nbconvert_exporter": "python",
   "pygments_lexer": "ipython3",
   "version": "3.8.10"
  }
 },
 "nbformat": 4,
 "nbformat_minor": 5
}
