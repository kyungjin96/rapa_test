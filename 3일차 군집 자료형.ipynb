{
 "cells": [
  {
   "cell_type": "code",
   "execution_count": 10,
   "id": "007e5248",
   "metadata": {},
   "outputs": [
    {
     "name": "stdout",
     "output_type": "stream",
     "text": [
      "[1, 4, 7, 10, 13, 16, 19, 22, 25]\n"
     ]
    }
   ],
   "source": [
    "a= list() #[]\n",
    "\n",
    "for i in range(1,26,3) :\n",
    "    a.append(i)  #리스트에 데이터 넣기\n",
    "print(a)"
   ]
  },
  {
   "cell_type": "code",
   "execution_count": 3,
   "id": "8b4c69cb",
   "metadata": {},
   "outputs": [
    {
     "name": "stdout",
     "output_type": "stream",
     "text": [
      "[1, 3, 5, 7, 9]\n"
     ]
    }
   ],
   "source": [
    "a = list(range(1,11,2))\n",
    "print(a)"
   ]
  },
  {
   "cell_type": "code",
   "execution_count": 4,
   "id": "5b822bdb",
   "metadata": {},
   "outputs": [
    {
     "name": "stdout",
     "output_type": "stream",
     "text": [
      "[range(1, 11, 2)]\n"
     ]
    }
   ],
   "source": [
    "a = [range(1,11,2)]\n",
    "print(a)"
   ]
  },
  {
   "cell_type": "code",
   "execution_count": 10,
   "id": "f50578df",
   "metadata": {},
   "outputs": [
    {
     "name": "stdout",
     "output_type": "stream",
     "text": [
      "red\n",
      "['blue', 'black']\n"
     ]
    }
   ],
   "source": [
    "colors = ['red', 'blue','black','white']\n",
    "\n",
    "print(colors[0])\n",
    "print(colors[1:3])"
   ]
  },
  {
   "cell_type": "code",
   "execution_count": 18,
   "id": "1fe20117",
   "metadata": {},
   "outputs": [
    {
     "name": "stdout",
     "output_type": "stream",
     "text": [
      "나는 red.\n",
      "나는 blue.\n",
      "나는 black.\n",
      "나는 white.\n"
     ]
    }
   ],
   "source": []
  },
  {
   "cell_type": "code",
   "execution_count": 50,
   "id": "9e863d36",
   "metadata": {},
   "outputs": [
    {
     "name": "stdout",
     "output_type": "stream",
     "text": [
      "[1, 2, 3, 4, 5, 6, 7]\n",
      "[10, 7, 6, 5, 4, 3, 2, 1]\n",
      "1\n",
      "[10, 7, 6, 5, 4, 3, 2]\n",
      "[100, 10, 7, 6, 5, 4, 3, 2]\n",
      "1\n"
     ]
    }
   ],
   "source": [
    "a = [1,2,3]\n",
    "b = [4,5,6,7]\n",
    "c = a+b\n",
    "print(c)\n",
    "\n",
    "c[2] = 10\n",
    "c.append(3)\n",
    "c.sort()\n",
    "c.reverse()\n",
    "\n",
    "print(c)\n",
    "print(c.pop())\n",
    "print(c)\n",
    "c.insert(0,100)\n",
    "print(c)\n",
    "print(c.count(6))"
   ]
  },
  {
   "cell_type": "code",
   "execution_count": 83,
   "id": "d507b3bb",
   "metadata": {},
   "outputs": [
    {
     "name": "stdout",
     "output_type": "stream",
     "text": [
      "   1    2    3    4 \n",
      "   5    6    7    8 \n",
      "   9   10   11   12 \n"
     ]
    }
   ],
   "source": [
    "a = [[1,2,3,4],[5,6,7,8],[9,10,11,12]]\n",
    "for i in range(3) :\n",
    "    for j in range(4) :\n",
    "        print (f'{a[i][j]:4}',end=' ')\n",
    "    print()\n",
    "\n",
    "\n",
    "    "
   ]
  },
  {
   "cell_type": "code",
   "execution_count": 97,
   "id": "e60bb227",
   "metadata": {},
   "outputs": [
    {
     "name": "stdout",
     "output_type": "stream",
     "text": [
      "    1     2     3     4 \n",
      "    5     6     7     8 \n",
      "    9    10    11    12 \n"
     ]
    }
   ],
   "source": [
    "num = [[1,2,3,4],[5,6,7,8],[9,10,11,12]]\n",
    "for i in range(3) :\n",
    "    for j in range (4) :\n",
    "        print (f\"{num[i][j]:5}\",end=' ')\n",
    "    print()"
   ]
  },
  {
   "cell_type": "code",
   "execution_count": 110,
   "id": "31691a68",
   "metadata": {},
   "outputs": [
    {
     "name": "stdout",
     "output_type": "stream",
     "text": [
      "1~200중 3의 배수는 : [3, 6, 9, 12, 15, 18, 21, 24, 27, 30, 33, 36, 39, 42, 45, 48, 51, 54, 57, 60, 63, 66, 69, 72, 75, 78, 81, 84, 87, 90, 93, 96, 99, 102, 105, 108, 111, 114, 117, 120, 123, 126, 129, 132, 135, 138, 141, 144, 147, 150, 153, 156, 159, 162, 165, 168, 171, 174, 177, 180, 183, 186, 189, 192, 195, 198]\n"
     ]
    }
   ],
   "source": [
    "a = list()\n",
    "for i in range(0,201,3) :\n",
    "    a.append(i)\n",
    "a.remove(0)\n",
    "print(f'1~200중 3의 배수는 : {a}')"
   ]
  },
  {
   "cell_type": "code",
   "execution_count": 4,
   "id": "cd1b0ce1",
   "metadata": {},
   "outputs": [
    {
     "name": "stdout",
     "output_type": "stream",
     "text": [
      "1~200중 3의 배수는 : [3, 6, 9, 12, 15, 18, 21, 24, 27, 30, 33, 36, 39, 42, 45, 48, 51, 54, 57, 60, 63, 66, 69, 72, 75, 78, 81, 84, 87, 90, 93, 96, 99, 102, 105, 108, 111, 114, 117, 120, 123, 126, 129, 132, 135, 138, 141, 144, 147, 150, 153, 156, 159, 162, 165, 168, 171, 174, 177, 180, 183, 186, 189, 192, 195, 198]\n"
     ]
    }
   ],
   "source": [
    "a = list()\n",
    "for i in range(1,201) :\n",
    "    if i % 3 == 0:\n",
    "        a.append(i)\n",
    "print(f'1~200중 3의 배수는 : {a}')\n"
   ]
  },
  {
   "cell_type": "code",
   "execution_count": 5,
   "id": "f7099716",
   "metadata": {},
   "outputs": [
    {
     "name": "stdout",
     "output_type": "stream",
     "text": [
      "1~200중 3의 배수는 : [3, 6, 9, 12, 15, 18, 21, 24, 27, 30, 33, 36, 39, 42, 45, 48, 51, 54, 57, 60, 63, 66, 69, 72, 75, 78, 81, 84, 87, 90, 93, 96, 99, 102, 105, 108, 111, 114, 117, 120, 123, 126, 129, 132, 135, 138, 141, 144, 147, 150, 153, 156, 159, 162, 165, 168, 171, 174, 177, 180, 183, 186, 189, 192, 195, 198]\n"
     ]
    }
   ],
   "source": [
    "a= [i for i in range(1,201) if i % 3 == 0]\n",
    "print(f'1~200중 3의 배수는 : {a}')"
   ]
  },
  {
   "cell_type": "code",
   "execution_count": 1,
   "id": "2a137fc8",
   "metadata": {},
   "outputs": [
    {
     "name": "stdout",
     "output_type": "stream",
     "text": [
      "BTS 의 성적 입력 : 100\n",
      "트와이스 의 성적 입력 : 50\n",
      "블랙핑크 의 성적 입력 : 90\n",
      "뉴이스트 의 성적 입력 : 80\n",
      "------------------------------\n",
      "아이돌 성적 결과\n",
      "------------------------------\n",
      "0의 성적은 100 점 : 수료\n",
      "1의 성적은 50 점 : 미수료\n",
      "2의 성적은 90 점 : 수료\n",
      "3의 성적은 80 점 : 수료\n"
     ]
    }
   ],
   "source": [
    "a = ['BTS','트와이스','블랙핑크','뉴이스트']\n",
    "s = []\n",
    "\n",
    "for idx,value in enumerate(a) :\n",
    "    tmp = int(input(f'{value} 의 성적 입력 : '))\n",
    "    s.append(tmp)\n",
    "     성적 결과')\n",
    "print('-'*30)\n",
    "\n",
    "result = ''\n",
    "print('-'*30)\n",
    "print('아이돌\n",
    "for i in range(len(a)) :\n",
    "    if s[i] >= 80: result = '수료'\n",
    "    else : result = '미수료'\n",
    "        \n",
    "    print(f'{i}의 성적은 {s[i]} 점 : {result}')\n",
    "    "
   ]
  },
  {
   "cell_type": "code",
   "execution_count": 4,
   "id": "e28cbc76",
   "metadata": {},
   "outputs": [
    {
     "ename": "SyntaxError",
     "evalue": "invalid syntax (Temp/ipykernel_10296/3096296755.py, line 12)",
     "output_type": "error",
     "traceback": [
      "\u001b[1;36m  File \u001b[1;32m\"C:\\Users\\PC021\\AppData\\Local\\Temp/ipykernel_10296/3096296755.py\"\u001b[1;36m, line \u001b[1;32m12\u001b[0m\n\u001b[1;33m    result = [ for i in range(len(a)) if s[i] >= 80 else = '수료' else : result = '미수료']\u001b[0m\n\u001b[1;37m               ^\u001b[0m\n\u001b[1;31mSyntaxError\u001b[0m\u001b[1;31m:\u001b[0m invalid syntax\n"
     ]
    }
   ],
   "source": [
    "a = ['BTS','트와이스','블랙핑크','뉴이스트']\n",
    "s = []\n",
    "\n",
    "for idx,value in enumerate(a) :\n",
    "    tmp = int(input(f'{value} 의 성적 입력 : '))\n",
    "    s.append(tmp)\n",
    "    \n",
    "print('-'*30)\n",
    "print('아이돌 성적 결과')\n",
    "print('-'*30)\n",
    "\n",
    "result = [ for i in range(len(a)) if s[i] >= 80 else = '수료' else : result = '미수료']\n",
    "\n",
    "\n",
    "    print(f'{i}의 성적은 {s[i]} 점 : {result}')\n",
    "    "
   ]
  },
  {
   "cell_type": "code",
   "execution_count": 8,
   "id": "80c5b6a4",
   "metadata": {},
   "outputs": [
    {
     "name": "stdout",
     "output_type": "stream",
     "text": [
      "0\n",
      "1\n",
      "2\n",
      "3\n",
      "YYYYMMDD : {}\n",
      "------------------------------\n"
     ]
    }
   ],
   "source": [
    "# 윤년 : year % 400 == 0 or (year % 100 != and year % 4 == 0)\n",
    "\n",
    "\n",
    "\n",
    "\n",
    "dates = [31,28,31,30,31,30,31,31,30,31,30,31]\n",
    "\n",
    "for idx,val in enumerate(a) :\n",
    "    print()\n",
    "    \n",
    "\n",
    "\n",
    "\n",
    "print('YYYYMMDD : {}')\n",
    "print('-'*30)\n"
   ]
  },
  {
   "cell_type": "code",
   "execution_count": null,
   "id": "30fb3d28",
   "metadata": {},
   "outputs": [],
   "source": []
  }
 ],
 "metadata": {
  "kernelspec": {
   "display_name": "Python 3 (ipykernel)",
   "language": "python",
   "name": "python3"
  },
  "language_info": {
   "codemirror_mode": {
    "name": "ipython",
    "version": 3
   },
   "file_extension": ".py",
   "mimetype": "text/x-python",
   "name": "python",
   "nbconvert_exporter": "python",
   "pygments_lexer": "ipython3",
   "version": "3.8.10"
  }
 },
 "nbformat": 4,
 "nbformat_minor": 5
}
