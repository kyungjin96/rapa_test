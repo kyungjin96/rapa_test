{
 "cells": [
  {
   "cell_type": "code",
   "execution_count": 13,
   "id": "9662b369",
   "metadata": {},
   "outputs": [
    {
     "name": "stdout",
     "output_type": "stream",
     "text": [
      "성적을 입력해 주세요:50\n",
      "성적: 50 는 D 등급 입니다.\n"
     ]
    }
   ],
   "source": [
    "x = int(input('성적을 입력해 주세요:' ))\n",
    "\n",
    "grade = ''\n",
    "\n",
    "if x > 89 :\n",
    "   grade = 'A'\n",
    "elif :\n",
    "    if  80 <= x < 90 :\n",
    "        print('성적:',x, '는 B 등급 입니다.')\n",
    "    else :\n",
    "        if  70 <= x < 80 :\n",
    "                print('성적:',x, '는 C 등급 입니다.')\n",
    "        else  : \n",
    "           if x < 70 :\n",
    "                print('성적:',x, '는 D 등급 입니다.')\n",
    "        "
   ]
  },
  {
   "cell_type": "code",
   "execution_count": null,
   "id": "7300fbe8",
   "metadata": {},
   "outputs": [],
   "source": []
  },
  {
   "cell_type": "code",
   "execution_count": null,
   "id": "b6bef485",
   "metadata": {},
   "outputs": [],
   "source": []
  },
  {
   "cell_type": "code",
   "execution_count": null,
   "id": "f069dba9",
   "metadata": {},
   "outputs": [],
   "source": []
  },
  {
   "cell_type": "code",
   "execution_count": null,
   "id": "c1037c52",
   "metadata": {},
   "outputs": [],
   "source": []
  },
  {
   "cell_type": "code",
   "execution_count": null,
   "id": "31a7cffc",
   "metadata": {},
   "outputs": [],
   "source": []
  }
 ],
 "metadata": {
  "kernelspec": {
   "display_name": "Python 3 (ipykernel)",
   "language": "python",
   "name": "python3"
  },
  "language_info": {
   "codemirror_mode": {
    "name": "ipython",
    "version": 3
   },
   "file_extension": ".py",
   "mimetype": "text/x-python",
   "name": "python",
   "nbconvert_exporter": "python",
   "pygments_lexer": "ipython3",
   "version": "3.8.10"
  }
 },
 "nbformat": 4,
 "nbformat_minor": 5
}
