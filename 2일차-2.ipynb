{
 "cells": [
  {
   "cell_type": "code",
   "execution_count": 27,
   "id": "2eb08891",
   "metadata": {},
   "outputs": [
    {
     "name": "stdout",
     "output_type": "stream",
     "text": [
      "2021-08-24 11:05:56.514371\n",
      "지금 시각은 2021 년 08 월 24 일 11 시 05 분 56 초 입니다\n"
     ]
    }
   ],
   "source": [
    "#라이브러리 실습문제\n",
    "\n",
    "import datetime\n",
    "a = str(datetime.datetime.now())\n",
    "print(a)\n",
    "\n",
    "b = a[0:4]\n",
    "c = a[5:7]\n",
    "e = a[8:10]\n",
    "f = a[11:13]\n",
    "g = a[14:16]\n",
    "h = a[17:19]\n",
    "print('지금 시각은', b, \"년\",c, \"월\", e, \"일\", f,\"시\", g,\"분\", h,\"초 입니다\" )\n",
    "\n",
    "\n",
    "\n"
   ]
  },
  {
   "cell_type": "code",
   "execution_count": 29,
   "id": "ea5b362c",
   "metadata": {},
   "outputs": [
    {
     "name": "stdout",
     "output_type": "stream",
     "text": [
      "2021-08-24 11:07:54.767178\n",
      "지금 시간은 2021년08월24일 11시07분54초입니다.\n"
     ]
    }
   ],
   "source": [
    "import datetime\n",
    "datetime.datetime.now()\n",
    "now = str(datetime.datetime.now())\n",
    "print(now)\n",
    "year = now[0:4]\n",
    "month = now[5:7]\n",
    "day = now[8:10]\n",
    "hour = now[11:13]\n",
    "min = now[14:16]\n",
    "sec = now[17:19]\n",
    "print(f'지금 시간은 {year}년{month}월{day}일 {hour}시{min}분{sec}초입니다.')"
   ]
  },
  {
   "cell_type": "code",
   "execution_count": 33,
   "id": "9cd9fe97",
   "metadata": {},
   "outputs": [
    {
     "name": "stdout",
     "output_type": "stream",
     "text": [
      "List is too long (26 elements, expected <= 10)\n"
     ]
    }
   ],
   "source": [
    "import datetime\n",
    "if (n := len(a)) > 10:\n",
    "    print(f\"List is too long ({n} elements, expected <= 10)\")"
   ]
  },
  {
   "cell_type": "code",
   "execution_count": 35,
   "id": "cb5ddfc1",
   "metadata": {},
   "outputs": [
    {
     "name": "stdout",
     "output_type": "stream",
     "text": [
      "지금 시각은 2021년 08월 24일 11시 16분 05초 입니다.\n"
     ]
    }
   ],
   "source": [
    "\n",
    "import datetime\n",
    "a = str(datetime.datetime.now())\n",
    "a = a.split()\n",
    "\n",
    "yy,mm,dd=str(a[0]).split('-')\n",
    "hh,min,sec=str(a[1]).split(':')\n",
    "sec = sec[:2]\n",
    "print(f\"지금 시각은 {yy}년 {mm}월 {dd}일 {hh}시 {min}분 {sec}초 입니다.\")"
   ]
  },
  {
   "cell_type": "code",
   "execution_count": 40,
   "id": "c6893a0a",
   "metadata": {},
   "outputs": [
    {
     "name": "stdout",
     "output_type": "stream",
     "text": [
      "2021년08월24일 11시18분30초\n"
     ]
    }
   ],
   "source": [
    "now = datetime.datetime.now()\n",
    "a = now.strftime('%Y년%m월%d일 %H시%M분%S초')\n",
    "print(a)"
   ]
  },
  {
   "cell_type": "code",
   "execution_count": 4,
   "id": "4ee3cdb5",
   "metadata": {},
   "outputs": [
    {
     "name": "stdout",
     "output_type": "stream",
     "text": [
      "[환율정보 불러오기]\n",
      "-환율기준시간: 2021.09.09 15:42\n",
      "-달러: 1,169.30\n",
      "-위안: 181.05\n",
      "-유로: 1,382.46\n",
      "-엔화: 1,062.18\n",
      "-엔화: 1,062.18\n",
      "-영국: 1,610.59\n",
      "-캐나다: 920.20\n"
     ]
    }
   ],
   "source": [
    "import urllib.request\n",
    "import ssl\n",
    "context = ssl._create_unverified_context()\n",
    "#환율정보 페이지 불러오기\n",
    "print(\"[환율정보 불러오기]\")\n",
    "URL = \"https://search.naver.com/search.naver?where=nexearch&sm=top_hty&fbm=1&ie=utf8&query=%ED%99%98%EC%9C%A8\"\n",
    "page = urllib.request.urlopen(URL, context=context)\n",
    "text = page.read().decode(\"utf8\")  # 해당 페이지의 소스코드\n",
    "\n",
    "\n",
    "\n",
    "\n",
    "\n",
    "\n",
    "#환율정보 가져오기: 기준시간\n",
    "searchText = 'class=\"grp_info\"> <em>'\n",
    "where      = text.find(searchText)  #소스코드에서 해당 문자열의 시작위치\n",
    "targetInfo = text[where+len(searchText):where+len(searchText)+16]\n",
    "print(f'-환율기준시간: {targetInfo}')\n",
    "#환율정보 가져오기: 달러\n",
    "searchText = '<span>미국 <em>USD</em></span></a></th> <td><span>'\n",
    "where      = text.find(searchText)\n",
    "targetInfo = text[where+len(searchText):where+len(searchText)+8]\n",
    "print(f'-달러: {targetInfo}')\n",
    "#환율정보 가져오기: 위안\n",
    "searchText = '<span>중국 <em>CNY</em></span></a></th> <td><span>'\n",
    "where      = text.find(searchText)\n",
    "targetInfo = text[where+len(searchText):where+len(searchText)+6]\n",
    "print(f'-위안: {targetInfo}')\n",
    "#환율정보 가져오기:유로화\n",
    "searchText = '<span>유럽연합 <em>EUR</em></span></a></th> <td><span>'\n",
    "where      = text.find(searchText)\n",
    "targetInfo = text[where+len(searchText):where+len(searchText)+8]\n",
    "print(f'-유로: {targetInfo}')\n",
    "\n",
    "searchText = '<span>일본 <em>JPY 100</em></span></a></th> <td><span>'\n",
    "where      = text.find(searchText)\n",
    "targetInfo = text[where+len(searchText):where+len(searchText)+8]\n",
    "print(f'-엔화: {targetInfo}')\n",
    "\n",
    "searchText = '<span>일본 <em>JPY 100</em></span></a></th> <td><span>'\n",
    "where      = text.find(searchText)\n",
    "targetInfo = text[where+len(searchText):where+len(searchText)+8]\n",
    "print(f'-엔화: {targetInfo}')\n",
    "\n",
    "searchText = '<span>영국 <em>GBP</em></span></a></th> <td><span>'\n",
    "where      = text.find(searchText)\n",
    "targetInfo = text[where+len(searchText):where+len(searchText)+8]\n",
    "print(f'-영국: {targetInfo}')\n",
    "\n",
    "searchText = '<span>캐나다 <em>CAD</em></span></a></th> <td><span>'\n",
    "where      = text.find(searchText)\n",
    "targetInfo = text[where+len(searchText):where+len(searchText)+6]\n",
    "print(f'-캐나다: {targetInfo}')\n",
    "\n"
   ]
  },
  {
   "cell_type": "code",
   "execution_count": 3,
   "id": "55a5be96",
   "metadata": {},
   "outputs": [
    {
     "name": "stdout",
     "output_type": "stream",
     "text": [
      "[나스닥]\n",
      "-나스닥 종합: f-8\"> <me\n",
      "-다우존스: 35,031.07\n",
      "-다우운송: 14,597.43\n"
     ]
    }
   ],
   "source": [
    "import urllib.request\n",
    "import ssl\n",
    "context = ssl._create_unverified_context()\n",
    "#환율정보 페이지 불러오기\n",
    "print(\"[나스닥]\")\n",
    "URL = \"https://search.naver.com/search.naver?sm=tab_hty.top&where=nexearch&query=%EB%82%98%EC%8A%A4%EB%8B%A5&oquery=%ED%99%98%EC%9C%A8&tqi=hfeitlp0JXVssDN9ExCssssstW8-357863\"\n",
    "page = urllib.request.urlopen(URL, context=context)\n",
    "text = page.read().decode(\"utf8\")  # 해당 페이지의 소스코드\n",
    "\n",
    "\n",
    "#나스닥 종합\n",
    "searchText = 'class=\"spt_con up\"> <span class=\"blind\">지수</span> <strong>'\n",
    "where      = text.find(searchText)  #소스코드에서 해당 문자열의 시작위치\n",
    "targetInfo = text[where+len(searchText):where+len(searchText)+9]\n",
    "print(f'-나스닥 종합: {targetInfo}')\n",
    "\n",
    "#다우존스\n",
    "searchText = '다우존스</a></th> <td>'\n",
    "where      = text.find(searchText)  #소스코드에서 해당 문자열의 시작위치\n",
    "targetInfo = text[where+len(searchText):where+len(searchText)+9]\n",
    "print(f'-다우존스: {targetInfo}')\n",
    "\n",
    "#다우존스\n",
    "searchText = '다우운송</a></th> <td>'\n",
    "where      = text.find(searchText)  #소스코드에서 해당 문자열의 시작위치\n",
    "targetInfo = text[where+len(searchText):where+len(searchText)+9]\n",
    "print(f'-다우운송: {targetInfo}')\n",
    "\n",
    "\n",
    "\n"
   ]
  },
  {
   "cell_type": "code",
   "execution_count": 100,
   "id": "dc077c7b",
   "metadata": {},
   "outputs": [
    {
     "name": "stdout",
     "output_type": "stream",
     "text": [
      "시프트할 숫자는?: 200\n",
      "출력할 횟수는?: 5\n",
      "200 << 1 = 400\n",
      "200 << 2 = 800\n",
      "200 << 3 = 1600\n",
      "200 << 4 = 3200\n",
      "200 << 5 = 6400\n",
      "200 >> 1 = 100\n",
      "200 >> 2 = 50\n",
      "200 >> 3 = 25\n",
      "200 >> 4 = 12\n",
      "200 >> 5 = 6\n"
     ]
    }
   ],
   "source": [
    "a = int(input(\"시프트할 숫자는?: \"))\n",
    "loop = int(input(\"출력할 횟수는?: \"))\n",
    "\n",
    "for i in range(loop) :\n",
    "    print(\"%d << %d = %d\" % (a, i+1, a << i+1))\n",
    "\n",
    "for i in range(loop) :\n",
    "    print(\"%d >> %d = %d\" % (a, i+1, a >> i+1))"
   ]
  },
  {
   "cell_type": "code",
   "execution_count": 107,
   "id": "22aab4d2",
   "metadata": {},
   "outputs": [
    {
     "name": "stdout",
     "output_type": "stream",
     "text": [
      "40 200\n"
     ]
    }
   ],
   "source": [
    "a = int(10)\n",
    "b = int(50)\n",
    "print(a+10 << 1, b <<2 )"
   ]
  },
  {
   "cell_type": "code",
   "execution_count": 117,
   "id": "a1cff66e",
   "metadata": {},
   "outputs": [
    {
     "name": "stdout",
     "output_type": "stream",
     "text": [
      "동전으로 교환할 금액을 입력하세요: 431\n",
      "500원짜리 ==> 0 개\n",
      "100원짜리 ==> 4 개\n",
      "100원짜리 ==> 0 개\n",
      "100원짜리 ==> 3 개\n",
      "100원짜리 ==> 1 개\n"
     ]
    }
   ],
   "source": [
    "a = int(input('동전으로 교환할 금액을 입력하세요: '))\n",
    "a_1 = a//500\n",
    "b = a%500\n",
    "b_1 = a//100\n",
    "c = a%100\n",
    "c_1 = c//50\n",
    "d = c%50\n",
    "d_1 = d//10\n",
    "f = d%10\n",
    "f_1 = f//1\n",
    "print('500원짜리 ==>', a_1,'개')\n",
    "print('100원짜리 ==>', b_1,'개')\n",
    "print('100원짜리 ==>', c_1, '개')\n",
    "print('100원짜리 ==>', d_1, '개')\n",
    "print('100원짜리 ==>', f_1, '개')"
   ]
  },
  {
   "cell_type": "code",
   "execution_count": 118,
   "id": "5224a2ea",
   "metadata": {},
   "outputs": [
    {
     "name": "stdout",
     "output_type": "stream",
     "text": [
      "동전으로 교환할 금액을 입력하세요4321\n",
      "500원짜리 ==> 8\n",
      "100원짜리 ==> 3\n",
      "50원짜리 ==> 0\n",
      "10원짜리 ==> 2\n",
      "1원짜리 ==> 1\n"
     ]
    }
   ],
   "source": [
    "m = int(input(\"동전으로 교환할 금액을 입력하세요\"))\n",
    "print(f\"500원짜리 ==> {m//500}\")\n",
    "print(f\"100원짜리 ==> {(m%500)//100}\")\n",
    "print(f\"50원짜리 ==> {(m%100)//50}\")\n",
    "print(f\"10원짜리 ==> {(m%50)//10}\")\n",
    "print(f\"1원짜리 ==> {(m%10)}\")\n"
   ]
  },
  {
   "cell_type": "code",
   "execution_count": 119,
   "id": "88b4f5f4",
   "metadata": {},
   "outputs": [
    {
     "name": "stdout",
     "output_type": "stream",
     "text": [
      "동전으로 교환할 금액을 입력하세요:4321\n",
      "500원:8\n",
      "100원:3\n",
      "50원:0\n",
      "10원:2\n",
      "잔돈:1\n"
     ]
    }
   ],
   "source": [
    "money = int(input(\"동전으로 교환할 금액을 입력하세요:\"))\n",
    "오백원 = money//500\n",
    "백원 = (money%500)//100\n",
    "오십원 = (money%100)//50\n",
    "\n",
    "십원 = (money%50)//10\n",
    "잔돈 = money%10\n",
    "print(f'500원:{오백원}\\n100원:{백원}\\n50원:{오십원}\\n10원:{십원}\\n잔돈:{잔돈}')\n",
    "\n"
   ]
  },
  {
   "cell_type": "code",
   "execution_count": 126,
   "id": "46dd6269",
   "metadata": {},
   "outputs": [
    {
     "name": "stdout",
     "output_type": "stream",
     "text": [
      "1000\n",
      "100보다 크다\n"
     ]
    }
   ],
   "source": [
    "a = int(input())\n",
    "if a < 100:\n",
    "    print(\"100보다 작다\")\n",
    "else : \n",
    "    print('100보다 크다')\n",
    "    "
   ]
  },
  {
   "cell_type": "code",
   "execution_count": null,
   "id": "4feb8c17",
   "metadata": {},
   "outputs": [],
   "source": [
    "x = int(input('숫자를 입력해 주세요: '))\n",
    "if x%2 == 1 :\n",
    "    print('입력된 수 : ',x, '==> 홀수')\n",
    "\n",
    "else :\n",
    "    print('입력된 수 :',x, '==> 짝수')\n",
    "    "
   ]
  },
  {
   "cell_type": "code",
   "execution_count": null,
   "id": "466660fc",
   "metadata": {},
   "outputs": [],
   "source": [
    "x = int(input('성적을 입력해 주세요:' ))\n",
    "if x > 89 :\n",
    "    print('A')\n",
    "else :\n",
    "    if  80 >= x > 90 :\n",
    "        print('B')\n",
    "    else :\n",
    "        if  70 >= x > 80 :\n",
    "            print('c')\n",
    "        "
   ]
  },
  {
   "cell_type": "code",
   "execution_count": null,
   "id": "9bc06c88",
   "metadata": {},
   "outputs": [],
   "source": [
    "x = int(input('성적을 입력해 주세요:' ))\n",
    "if x > 89 :\n",
    "    print('A')\n",
    "else :\n",
    "    if  80 >= x > 90 :\n",
    "        print('B')\n",
    "    else :\n",
    "        if  70 >= x > 80 :\n",
    "            print('c')\n",
    "        "
   ]
  },
  {
   "cell_type": "code",
   "execution_count": 5,
   "id": "13babc6a",
   "metadata": {},
   "outputs": [
    {
     "name": "stdout",
     "output_type": "stream",
     "text": [
      "[나스닥]\n",
      "-나스닥 종합: f-8\"> <me\n",
      "-다우존스: 35,031.07\n",
      "-다우운송: 14,597.43\n"
     ]
    }
   ],
   "source": [
    "#코인정보\n",
    "\n",
    "\n",
    "\n",
    "\n",
    "#코인 검색하기import urllib.request\n",
    "import ssl\n",
    "context = ssl._create_unverified_context()\n",
    "#환율정보 페이지 불러오기\n",
    "print(\"[나스닥]\")\n",
    "URL = \"https://search.naver.com/search.naver?sm=tab_hty.top&where=nexearch&query=%EB%82%98%EC%8A%A4%EB%8B%A5&oquery=%ED%99%98%EC%9C%A8&tqi=hfeitlp0JXVssDN9ExCssssstW8-357863\"\n",
    "page = urllib.request.urlopen(URL, context=context)\n",
    "text = page.read().decode(\"utf8\")  # 해당 페이지의 소스코드\n",
    "\n",
    "\n",
    "#나스닥 종합\n",
    "searchText = 'class=\"spt_con up\"> <span class=\"blind\">지수</span> <strong>'\n",
    "where      = text.find(searchText)  #소스코드에서 해당 문자열의 시작위치\n",
    "targetInfo = text[where+len(searchText):where+len(searchText)+9]\n",
    "print(f'-나스닥 종합: {targetInfo}')\n",
    "\n",
    "#다우존스\n",
    "searchText = '다우존스</a></th> <td>'\n",
    "where      = text.find(searchText)  #소스코드에서 해당 문자열의 시작위치\n",
    "targetInfo = text[where+len(searchText):where+len(searchText)+9]\n",
    "print(f'-다우존스: {targetInfo}')\n",
    "\n",
    "#다우존스\n",
    "searchText = '다우운송</a></th> <td>'\n",
    "where      = text.find(searchText)  #소스코드에서 해당 문자열의 시작위치\n",
    "targetInfo = text[where+len(searchText):where+len(searchText)+9]\n",
    "print(f'-다우운송: {targetInfo}')\n",
    "\n"
   ]
  },
  {
   "cell_type": "code",
   "execution_count": 12,
   "id": "f9697aa6",
   "metadata": {},
   "outputs": [
    {
     "name": "stdout",
     "output_type": "stream",
     "text": [
      "비트코인\n",
      "-나스닥 종합: \n"
     ]
    }
   ],
   "source": [
    "import urllib.request\n",
    "import ssl\n",
    "\n",
    "context = ssl._create_unverified_context()\n",
    "#환율정보 페이지 불러오기\n",
    "\n",
    "print(\"비트코인\")\n",
    "URL = \"https://upbit.com/exchange?code=CRIX.UPBIT.KRW-BTC\"\n",
    "page = urllib.request.urlopen(URL, context=context)\n",
    "text = page.read().decode(\"utf8\")  # 해당 페이지의 소스코드\n",
    "\n",
    "searchText = '<strong class=\"up\">'\n",
    "where      = text.find(searchText)  #소스코드에서 해당 문자열의 시작위치\n",
    "targetInfo = text[where+len(searchText):where+len(searchText)+9]\n",
    "print(f'-나스닥 종합: {targetInfo}')\n",
    "\n"
   ]
  },
  {
   "cell_type": "code",
   "execution_count": null,
   "id": "6cb1499a",
   "metadata": {},
   "outputs": [],
   "source": []
  }
 ],
 "metadata": {
  "kernelspec": {
   "display_name": "Python 3 (ipykernel)",
   "language": "python",
   "name": "python3"
  },
  "language_info": {
   "codemirror_mode": {
    "name": "ipython",
    "version": 3
   },
   "file_extension": ".py",
   "mimetype": "text/x-python",
   "name": "python",
   "nbconvert_exporter": "python",
   "pygments_lexer": "ipython3",
   "version": "3.8.10"
  }
 },
 "nbformat": 4,
 "nbformat_minor": 5
}
