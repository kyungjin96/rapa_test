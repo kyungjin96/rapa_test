{
 "cells": [
  {
   "cell_type": "markdown",
   "metadata": {},
   "source": [
    "# 8.네이버 오픈API 사용하기"
   ]
  },
  {
   "cell_type": "markdown",
   "metadata": {},
   "source": [
    "### 책 검색\n",
    " - 책검색 https://book.naver.com/\n",
    " - 네이버오픈API https://developers.naver.com/products/intro/plan/ \n",
    " - API사용신청 https://developers.naver.com/apps/#/register \n"
   ]
  },
  {
   "cell_type": "code",
   "execution_count": 1,
   "metadata": {},
   "outputs": [
    {
     "name": "stdout",
     "output_type": "stream",
     "text": [
      "검색 도서명: 고구려\n",
      "\n",
      "제목: <b>고구려</b> 6 (한의 바다)\n",
      "저자: 김진명\n",
      "설명: 고대사부터 고조선, <b>고구려</b>까지\n",
      "몽땅 중국의 역사로 쓸어 담는 동북공정!\n",
      "그 허구를 깨는 웅혼한 <b>고구려</b>의 역사가 되살아난다.대한민국 역사소설의... 이례적인 베스트셀러 작가 김진명 필생의 역작 『<b>고구려</b>』의 개정판과 신작이 동시에 묶여 출간된다. 기존 출시되어있는 여섯 권(1~6권)의 개정판에, 소수림왕... \n",
      "url: http://book.naver.com/bookdb/book_detail.php?bid=20580173\n",
      "\n",
      "\n",
      "\n",
      "제목: <b>고구려</b> 1~7 세트 - 전7권 (김진명 역사소설)\n",
      "저자: 김진명\n",
      "설명: 고대사부터 고조선, <b>고구려</b>까지\n",
      "몽땅 중국의 역사로 쓸어 담는 동북공정!\n",
      "그 허구를 깨는 웅혼한 <b>고구려</b>의 역사가 되살아난다.대한민국 역사소설의... 이례적인 베스트셀러 작가 김진명 필생의 역작 『<b>고구려</b>』의 개정판과 신작이 동시에 묶여 출간된다. 기존 출시되어있는 여섯 권(1~6권)의 개정판에, 소수림왕... \n",
      "url: http://book.naver.com/bookdb/book_detail.php?bid=20580175\n",
      "\n",
      "\n",
      "\n",
      "제목: <b>고구려</b> 1 (떠돌이 을불)\n",
      "저자: 김진명\n",
      "설명: 고대사부터 고조선, <b>고구려</b>까지\n",
      "몽땅 중국의 역사로 쓸어 담는 동북공정!\n",
      "그 허구를 깨는 웅혼한 <b>고구려</b>의 역사가 되살아난다.대한민국 역사소설의... 이례적인 베스트셀러 작가 김진명 필생의 역작 『<b>고구려</b>』의 개정판과 신작이 동시에 묶여 출간된다. 기존 출시되어있는 여섯 권(1~6권)의 개정판에, 소수림왕... \n",
      "url: http://book.naver.com/bookdb/book_detail.php?bid=20580168\n",
      "\n",
      "\n"
     ]
    }
   ],
   "source": [
    "import urllib.request\n",
    "import json\n",
    "\n",
    "#------------------------------------\n",
    "# 네이버 애플리케이션 등록 정보\n",
    "#------------------------------------\n",
    "Client_ID = \"WlIpA7IkqcaBRP6XKyUk\"  # 자신의 client id \n",
    "Client_Secret = \"pIew6Mp_Fr\"    # 자신의 client secret\n",
    "\n",
    "#------------------------------------\n",
    "#  검색어 입력받아 네이버검색 url 설정\n",
    "#------------------------------------\n",
    "# 검색어 입력\n",
    "title = input(\"검색 도서명: \")\n",
    "\n",
    "# url설정\n",
    "url = \"https://openapi.naver.com/v1/search/book.json\"\n",
    "option = \"&display=3&sort=count\"    \n",
    "query = \"?query=\"+urllib.parse.quote(title)\n",
    "url_query = url + query + option\n",
    "    \n",
    "#Open API 검색 요청 개체 설정\n",
    "request = urllib.request.Request(url_query)\n",
    "request.add_header(\"X-Naver-Client-Id\", Client_ID)\n",
    "request.add_header(\"X-Naver-Client-Secret\", Client_Secret)\n",
    "\n",
    "#------------------------------------\n",
    "# 검색 요청 및 처리\n",
    "#------------------------------------\n",
    "response = urllib.request.urlopen(request)\n",
    "rescode = response.getcode()\n",
    "if(rescode == 200):\n",
    "    result = response.read().decode('utf-8')\n",
    "    #print(result) # result에 어떤 값이 들어 있는지 확인해 보기\n",
    "else:\n",
    "    print(\"검색에 실패하였습니다.\")\n",
    "    exit()\n",
    "\n",
    "#------------------------------------\n",
    "# 검색 결과 parsing 해서 보기좋게 출력하기\n",
    "#------------------------------------\n",
    "j_result = json.loads(result)   #검색 결과를 json타입으로 보여주기\n",
    "if j_result == None:\n",
    "    print(\"json.loads 실패하였습니다.\")\n",
    "    exit()\n",
    "#print(j_result) # j_result에 어떤 값이 들어 있는지 확인해 보기\n",
    " \n",
    "# j_result의 결과 중 도서 정보가 담긴 items 항목의 내용을 parsing한다.\n",
    "for item in j_result['items']:\n",
    "    print(\"\\n제목: \" + item['title'])\n",
    "    print(\"저자: \" + item['author'])\n",
    "    print(\"설명: \" + item['description'])\n",
    "    print(\"url: \" + item['link'])\n",
    "    print(\"\\n\")\n"
   ]
  },
  {
   "cell_type": "code",
   "execution_count": null,
   "metadata": {},
   "outputs": [],
   "source": []
  }
 ],
 "metadata": {
  "kernelspec": {
   "display_name": "Python 3 (ipykernel)",
   "language": "python",
   "name": "python3"
  },
  "language_info": {
   "codemirror_mode": {
    "name": "ipython",
    "version": 3
   },
   "file_extension": ".py",
   "mimetype": "text/x-python",
   "name": "python",
   "nbconvert_exporter": "python",
   "pygments_lexer": "ipython3",
   "version": "3.8.10"
  }
 },
 "nbformat": 4,
 "nbformat_minor": 4
}
