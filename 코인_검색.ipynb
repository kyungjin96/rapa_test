{
 "cells": [
  {
   "cell_type": "code",
   "execution_count": null,
   "metadata": {
    "colab": {
     "base_uri": "https://localhost:8080/"
    },
    "executionInfo": {
     "elapsed": 4769,
     "status": "ok",
     "timestamp": 1631493724790,
     "user": {
      "displayName": "전경진",
      "photoUrl": "https://lh3.googleusercontent.com/a/default-user=s64",
      "userId": "05339145657507229382"
     },
     "user_tz": -540
    },
    "id": "dZMve6FzoMTP",
    "outputId": "20b8bed9-68f5-4254-cff8-bcfc1aebc3e2"
   },
   "outputs": [
    {
     "name": "stdout",
     "output_type": "stream",
     "text": [
      "Collecting pyupbit\n",
      "  Downloading pyupbit-0.2.19-py3-none-any.whl (19 kB)\n",
      "Requirement already satisfied: requests in /usr/local/lib/python3.7/dist-packages (from pyupbit) (2.23.0)\n",
      "Collecting websockets\n",
      "  Downloading websockets-10.0-cp37-cp37m-manylinux2010_x86_64.whl (108 kB)\n",
      "\u001b[K     |████████████████████████████████| 108 kB 6.5 MB/s \n",
      "\u001b[?25hCollecting pyjwt>=2.0.0\n",
      "  Downloading PyJWT-2.1.0-py3-none-any.whl (16 kB)\n",
      "Requirement already satisfied: pandas in /usr/local/lib/python3.7/dist-packages (from pyupbit) (1.1.5)\n",
      "Requirement already satisfied: python-dateutil>=2.7.3 in /usr/local/lib/python3.7/dist-packages (from pandas->pyupbit) (2.8.2)\n",
      "Requirement already satisfied: numpy>=1.15.4 in /usr/local/lib/python3.7/dist-packages (from pandas->pyupbit) (1.19.5)\n",
      "Requirement already satisfied: pytz>=2017.2 in /usr/local/lib/python3.7/dist-packages (from pandas->pyupbit) (2018.9)\n",
      "Requirement already satisfied: six>=1.5 in /usr/local/lib/python3.7/dist-packages (from python-dateutil>=2.7.3->pandas->pyupbit) (1.15.0)\n",
      "Requirement already satisfied: certifi>=2017.4.17 in /usr/local/lib/python3.7/dist-packages (from requests->pyupbit) (2021.5.30)\n",
      "Requirement already satisfied: idna<3,>=2.5 in /usr/local/lib/python3.7/dist-packages (from requests->pyupbit) (2.10)\n",
      "Requirement already satisfied: chardet<4,>=3.0.2 in /usr/local/lib/python3.7/dist-packages (from requests->pyupbit) (3.0.4)\n",
      "Requirement already satisfied: urllib3!=1.25.0,!=1.25.1,<1.26,>=1.21.1 in /usr/local/lib/python3.7/dist-packages (from requests->pyupbit) (1.24.3)\n",
      "Installing collected packages: websockets, pyjwt, pyupbit\n",
      "Successfully installed pyjwt-2.1.0 pyupbit-0.2.19 websockets-10.0\n"
     ]
    }
   ],
   "source": [
    "pip install pyupbit #업비트 api"
   ]
  },
  {
   "cell_type": "code",
   "execution_count": null,
   "metadata": {
    "colab": {
     "base_uri": "https://localhost:8080/",
     "height": 666
    },
    "executionInfo": {
     "elapsed": 13509,
     "status": "error",
     "timestamp": 1631493850055,
     "user": {
      "displayName": "전경진",
      "photoUrl": "https://lh3.googleusercontent.com/a/default-user=s64",
      "userId": "05339145657507229382"
     },
     "user_tz": -540
    },
    "id": "D7t-waOFn_2C",
    "outputId": "d17dc396-fab3-4827-8a2b-f76942339cd5"
   },
   "outputs": [
    {
     "name": "stdout",
     "output_type": "stream",
     "text": [
      "코인 목록 : 비트코인, 이더리움, 네오, 리플, 라이트코인\n",
      "\n",
      "\n",
      "<class 'dict'>\n",
      "검색할 코인을 입력하세요 : 에이다\n",
      "다시 입력하세요\n"
     ]
    },
    {
     "ename": "KeyboardInterrupt",
     "evalue": "ignored",
     "output_type": "error",
     "traceback": [
      "\u001b[0;31m---------------------------------------------------------------------------\u001b[0m",
      "\u001b[0;31mKeyboardInterrupt\u001b[0m                         Traceback (most recent call last)",
      "\u001b[0;32m/usr/local/lib/python3.7/dist-packages/ipykernel/kernelbase.py\u001b[0m in \u001b[0;36m_input_request\u001b[0;34m(self, prompt, ident, parent, password)\u001b[0m\n\u001b[1;32m    728\u001b[0m             \u001b[0;32mtry\u001b[0m\u001b[0;34m:\u001b[0m\u001b[0;34m\u001b[0m\u001b[0;34m\u001b[0m\u001b[0m\n\u001b[0;32m--> 729\u001b[0;31m                 \u001b[0mident\u001b[0m\u001b[0;34m,\u001b[0m \u001b[0mreply\u001b[0m \u001b[0;34m=\u001b[0m \u001b[0mself\u001b[0m\u001b[0;34m.\u001b[0m\u001b[0msession\u001b[0m\u001b[0;34m.\u001b[0m\u001b[0mrecv\u001b[0m\u001b[0;34m(\u001b[0m\u001b[0mself\u001b[0m\u001b[0;34m.\u001b[0m\u001b[0mstdin_socket\u001b[0m\u001b[0;34m,\u001b[0m \u001b[0;36m0\u001b[0m\u001b[0;34m)\u001b[0m\u001b[0;34m\u001b[0m\u001b[0;34m\u001b[0m\u001b[0m\n\u001b[0m\u001b[1;32m    730\u001b[0m             \u001b[0;32mexcept\u001b[0m \u001b[0mException\u001b[0m\u001b[0;34m:\u001b[0m\u001b[0;34m\u001b[0m\u001b[0;34m\u001b[0m\u001b[0m\n",
      "\u001b[0;32m/usr/local/lib/python3.7/dist-packages/jupyter_client/session.py\u001b[0m in \u001b[0;36mrecv\u001b[0;34m(self, socket, mode, content, copy)\u001b[0m\n\u001b[1;32m    802\u001b[0m         \u001b[0;32mtry\u001b[0m\u001b[0;34m:\u001b[0m\u001b[0;34m\u001b[0m\u001b[0;34m\u001b[0m\u001b[0m\n\u001b[0;32m--> 803\u001b[0;31m             \u001b[0mmsg_list\u001b[0m \u001b[0;34m=\u001b[0m \u001b[0msocket\u001b[0m\u001b[0;34m.\u001b[0m\u001b[0mrecv_multipart\u001b[0m\u001b[0;34m(\u001b[0m\u001b[0mmode\u001b[0m\u001b[0;34m,\u001b[0m \u001b[0mcopy\u001b[0m\u001b[0;34m=\u001b[0m\u001b[0mcopy\u001b[0m\u001b[0;34m)\u001b[0m\u001b[0;34m\u001b[0m\u001b[0;34m\u001b[0m\u001b[0m\n\u001b[0m\u001b[1;32m    804\u001b[0m         \u001b[0;32mexcept\u001b[0m \u001b[0mzmq\u001b[0m\u001b[0;34m.\u001b[0m\u001b[0mZMQError\u001b[0m \u001b[0;32mas\u001b[0m \u001b[0me\u001b[0m\u001b[0;34m:\u001b[0m\u001b[0;34m\u001b[0m\u001b[0;34m\u001b[0m\u001b[0m\n",
      "\u001b[0;32m/usr/local/lib/python3.7/dist-packages/zmq/sugar/socket.py\u001b[0m in \u001b[0;36mrecv_multipart\u001b[0;34m(self, flags, copy, track)\u001b[0m\n\u001b[1;32m    618\u001b[0m         \"\"\"\n\u001b[0;32m--> 619\u001b[0;31m         \u001b[0mparts\u001b[0m \u001b[0;34m=\u001b[0m \u001b[0;34m[\u001b[0m\u001b[0mself\u001b[0m\u001b[0;34m.\u001b[0m\u001b[0mrecv\u001b[0m\u001b[0;34m(\u001b[0m\u001b[0mflags\u001b[0m\u001b[0;34m,\u001b[0m \u001b[0mcopy\u001b[0m\u001b[0;34m=\u001b[0m\u001b[0mcopy\u001b[0m\u001b[0;34m,\u001b[0m \u001b[0mtrack\u001b[0m\u001b[0;34m=\u001b[0m\u001b[0mtrack\u001b[0m\u001b[0;34m)\u001b[0m\u001b[0;34m]\u001b[0m\u001b[0;34m\u001b[0m\u001b[0;34m\u001b[0m\u001b[0m\n\u001b[0m\u001b[1;32m    620\u001b[0m         \u001b[0;31m# have first part already, only loop while more to receive\u001b[0m\u001b[0;34m\u001b[0m\u001b[0;34m\u001b[0m\u001b[0;34m\u001b[0m\u001b[0m\n",
      "\u001b[0;32mzmq/backend/cython/socket.pyx\u001b[0m in \u001b[0;36mzmq.backend.cython.socket.Socket.recv\u001b[0;34m()\u001b[0m\n",
      "\u001b[0;32mzmq/backend/cython/socket.pyx\u001b[0m in \u001b[0;36mzmq.backend.cython.socket.Socket.recv\u001b[0;34m()\u001b[0m\n",
      "\u001b[0;32mzmq/backend/cython/socket.pyx\u001b[0m in \u001b[0;36mzmq.backend.cython.socket._recv_copy\u001b[0;34m()\u001b[0m\n",
      "\u001b[0;32m/usr/local/lib/python3.7/dist-packages/zmq/backend/cython/checkrc.pxd\u001b[0m in \u001b[0;36mzmq.backend.cython.checkrc._check_rc\u001b[0;34m()\u001b[0m\n",
      "\u001b[0;31mKeyboardInterrupt\u001b[0m: ",
      "\nDuring handling of the above exception, another exception occurred:\n",
      "\u001b[0;31mKeyboardInterrupt\u001b[0m                         Traceback (most recent call last)",
      "\u001b[0;32m<ipython-input-6-0f9cc1643d11>\u001b[0m in \u001b[0;36m<module>\u001b[0;34m()\u001b[0m\n\u001b[1;32m     22\u001b[0m \u001b[0mprint\u001b[0m\u001b[0;34m(\u001b[0m\u001b[0mtype\u001b[0m\u001b[0;34m(\u001b[0m\u001b[0mprice\u001b[0m\u001b[0;34m)\u001b[0m\u001b[0;34m)\u001b[0m\u001b[0;34m\u001b[0m\u001b[0;34m\u001b[0m\u001b[0m\n\u001b[1;32m     23\u001b[0m \u001b[0;32mwhile\u001b[0m \u001b[0;32mTrue\u001b[0m \u001b[0;34m:\u001b[0m\u001b[0;34m\u001b[0m\u001b[0;34m\u001b[0m\u001b[0m\n\u001b[0;32m---> 24\u001b[0;31m   \u001b[0mx\u001b[0m \u001b[0;34m=\u001b[0m \u001b[0minput\u001b[0m\u001b[0;34m(\u001b[0m\u001b[0;34m'검색할 코인을 입력하세요 : '\u001b[0m\u001b[0;34m)\u001b[0m\u001b[0;34m\u001b[0m\u001b[0;34m\u001b[0m\u001b[0m\n\u001b[0m\u001b[1;32m     25\u001b[0m   \u001b[0;32mif\u001b[0m \u001b[0mx\u001b[0m \u001b[0;34m==\u001b[0m \u001b[0;34m\"비트코인\"\u001b[0m \u001b[0;34m:\u001b[0m\u001b[0;34m\u001b[0m\u001b[0;34m\u001b[0m\u001b[0m\n\u001b[1;32m     26\u001b[0m     \u001b[0mprint\u001b[0m\u001b[0;34m(\u001b[0m\u001b[0;34m'비트코인 : '\u001b[0m\u001b[0;34m,\u001b[0m\u001b[0mint\u001b[0m\u001b[0;34m(\u001b[0m\u001b[0mprice\u001b[0m\u001b[0;34m.\u001b[0m\u001b[0mget\u001b[0m\u001b[0;34m(\u001b[0m\u001b[0;34m'KRW-BTC'\u001b[0m\u001b[0;34m)\u001b[0m\u001b[0;34m)\u001b[0m\u001b[0;34m,\u001b[0m \u001b[0;34m'원'\u001b[0m\u001b[0;34m)\u001b[0m \u001b[0;31m# 키에 대응하는 벨류를 가져옴\u001b[0m\u001b[0;34m\u001b[0m\u001b[0;34m\u001b[0m\u001b[0m\n",
      "\u001b[0;32m/usr/local/lib/python3.7/dist-packages/ipykernel/kernelbase.py\u001b[0m in \u001b[0;36mraw_input\u001b[0;34m(self, prompt)\u001b[0m\n\u001b[1;32m    702\u001b[0m             \u001b[0mself\u001b[0m\u001b[0;34m.\u001b[0m\u001b[0m_parent_ident\u001b[0m\u001b[0;34m,\u001b[0m\u001b[0;34m\u001b[0m\u001b[0;34m\u001b[0m\u001b[0m\n\u001b[1;32m    703\u001b[0m             \u001b[0mself\u001b[0m\u001b[0;34m.\u001b[0m\u001b[0m_parent_header\u001b[0m\u001b[0;34m,\u001b[0m\u001b[0;34m\u001b[0m\u001b[0;34m\u001b[0m\u001b[0m\n\u001b[0;32m--> 704\u001b[0;31m             \u001b[0mpassword\u001b[0m\u001b[0;34m=\u001b[0m\u001b[0;32mFalse\u001b[0m\u001b[0;34m,\u001b[0m\u001b[0;34m\u001b[0m\u001b[0;34m\u001b[0m\u001b[0m\n\u001b[0m\u001b[1;32m    705\u001b[0m         )\n\u001b[1;32m    706\u001b[0m \u001b[0;34m\u001b[0m\u001b[0m\n",
      "\u001b[0;32m/usr/local/lib/python3.7/dist-packages/ipykernel/kernelbase.py\u001b[0m in \u001b[0;36m_input_request\u001b[0;34m(self, prompt, ident, parent, password)\u001b[0m\n\u001b[1;32m    732\u001b[0m             \u001b[0;32mexcept\u001b[0m \u001b[0mKeyboardInterrupt\u001b[0m\u001b[0;34m:\u001b[0m\u001b[0;34m\u001b[0m\u001b[0;34m\u001b[0m\u001b[0m\n\u001b[1;32m    733\u001b[0m                 \u001b[0;31m# re-raise KeyboardInterrupt, to truncate traceback\u001b[0m\u001b[0;34m\u001b[0m\u001b[0;34m\u001b[0m\u001b[0;34m\u001b[0m\u001b[0m\n\u001b[0;32m--> 734\u001b[0;31m                 \u001b[0;32mraise\u001b[0m \u001b[0mKeyboardInterrupt\u001b[0m\u001b[0;34m\u001b[0m\u001b[0;34m\u001b[0m\u001b[0m\n\u001b[0m\u001b[1;32m    735\u001b[0m             \u001b[0;32melse\u001b[0m\u001b[0;34m:\u001b[0m\u001b[0;34m\u001b[0m\u001b[0;34m\u001b[0m\u001b[0m\n\u001b[1;32m    736\u001b[0m                 \u001b[0;32mbreak\u001b[0m\u001b[0;34m\u001b[0m\u001b[0;34m\u001b[0m\u001b[0m\n",
      "\u001b[0;31mKeyboardInterrupt\u001b[0m: "
     ]
    }
   ],
   "source": [
    "import matplotlib as mpl\n",
    "import numpy as np\n",
    "import matplotlib.pyplot as plt\n",
    "import pyupbit\n",
    "\n",
    "main ='''코인 목록 : 비트코인, 이더리움, 네오, 리플, 라이트코인\n",
    "\n",
    "'''\n",
    "print(main)\n",
    "\n",
    "\n",
    "plt.rcParams[\"figure.figsize\"] = (10,8)                     # 그래프 그리기\n",
    "plt.rcParams[\"axes.formatter.limits\"] = -10000, 10000\n",
    "\n",
    "\n",
    "#c = pyupbit.get_tickers(fiat=\"KRW\") #원화 코인 목록 \n",
    "\n",
    "price = pyupbit.get_current_price(['KRW-BTC', 'KRW-ETH', 'KRW-NEO', 'KRW-MTL', 'KRW-LTC', 'KRW-XRP', 'KRW-ETC', \n",
    "                                    'KRW-OMG', 'KRW-SNT', 'KRW-WAVES', 'KRW-XEM', 'KRW-QTUM', 'KRW-LSK', 'KRW-STEEM'  ])\n",
    "\n",
    "#print(price) #딕셔너리 타입 \n",
    "print(type(price))\n",
    "while True :\n",
    "  x = input('검색할 코인을 입력하세요 : ')\n",
    "  if x == \"비트코인\" :\n",
    "    print('비트코인 : ',int(price.get('KRW-BTC')), '원') # 키에 대응하는 벨류를 가져옴\n",
    "    BTC = pyupbit.get_ohlcv(\"KRW-BTC\", interval='day', count=100) # 100일간 데이터\n",
    "    BTC[[\"close\", \"volume\"]].plot(secondary_y=[\"volume\"]) #마감 금액, 거래량\n",
    "    plt.show()\n",
    "    break\n",
    "\n",
    "  elif x =='이더리움' :\n",
    "    print('이더리움 :',int(price.get('KRW-ETH')),'원')\n",
    "    ETH = pyupbit.get_ohlcv(\"KRW-ETH\", interval='day', count=100) \n",
    "    ETH[[\"close\", \"volume\"]].plot(secondary_y=[\"volume\"])\n",
    "    plt.show()\n",
    "    break\n",
    "\n",
    "  elif x =='네오' :\n",
    "    print('네오 :',int(price.get('KRW-NEO')),'원')\n",
    "    NEO = pyupbit.get_ohlcv(\"KRW-NEO\", interval='day', count=100) \n",
    "    NEO[[\"close\", \"volume\"]].plot(secondary_y=[\"volume\"])\n",
    "    plt.show()\n",
    "    break\n",
    "\n",
    "  elif x =='리플' :\n",
    "    print('리플 :',int(price.get('KRW-XRP')),'원')\n",
    "    XRP = pyupbit.get_ohlcv(\"KRW-XRP\", interval='day', count=100) \n",
    "    XRP[[\"close\", \"volume\"]].plot(secondary_y=[\"volume\"])\n",
    "    plt.show()\n",
    "    break\n",
    "\n",
    "  elif x =='라이트코인' :\n",
    "    print('라이트코인 :',int(price.get('KRW-LTC')),'원')\n",
    "    LTC = pyupbit.get_ohlcv(\"KRW-LTC\", interval='day', count=100) \n",
    "    LTC[[\"close\", \"volume\"]].plot(secondary_y=[\"volume\"])\n",
    "    plt.show()\n",
    "    break\n",
    "\n",
    "  else : print('다시 입력하세요')\n",
    "  continue \n",
    "  \n",
    "\n",
    "  \n",
    " "
   ]
  },
  {
   "cell_type": "code",
   "execution_count": null,
   "metadata": {
    "id": "BQFHWcaozruG"
   },
   "outputs": [],
   "source": [
    "from bs4 import BeautifulSoup as bs\n",
    "from urllib.request import urlopen\n",
    "from urllib.parse import quote_plus\n",
    "\n"
   ]
  },
  {
   "cell_type": "code",
   "execution_count": null,
   "metadata": {
    "colab": {
     "base_uri": "https://localhost:8080/"
    },
    "id": "7Mhc-YkN-euY",
    "outputId": "ae37e5c5-031a-4b6a-9f03-2097974fbd8d"
   },
   "outputs": [
    {
     "name": "stdout",
     "output_type": "stream",
     "text": [
      "['DP_data.region.push(\"1674\")', 'DP_data.region.push(\"1775\")', 'DP_data.region.push(\"1461\")', 'DP_data.region.push(\"1351\")', 'DP_data.region.push(\"1563\")', 'DP_data.region.push(\"2012\")', 'DP_data.region.push(\"2018\")']\n"
     ]
    }
   ],
   "source": [
    "from bs4 import BeautifulSoup as bs\n",
    "import requests\n",
    "\n",
    "URL = 'http://ncov.mohw.go.kr/bdBoardList_Real.do?brdId=1&brdGubun=11&ncvContSeq=&contSeq=&board_id=&gubun='\n",
    "req = requests.get(URL)\n",
    "html = req.text\n",
    "soup = bs(html, 'html.parser')\n",
    "scripts = soup.select('script')\n",
    "for script in scripts:\n",
    "    if 'Chart' in script.text:\n",
    "        chartScript = script\n",
    "        break\n",
    "chartScriptData = [line.replace('\\t', '').strip() for line in chartScript.text.split('\\n')]\n",
    "print([data for data in chartScriptData if 'DP_data.region' in data])"
   ]
  },
  {
   "cell_type": "code",
   "execution_count": 7,
   "metadata": {
    "colab": {
     "base_uri": "https://localhost:8080/",
     "height": 353
    },
    "executionInfo": {
     "elapsed": 402,
     "status": "error",
     "timestamp": 1631494035012,
     "user": {
      "displayName": "전경진",
      "photoUrl": "https://lh3.googleusercontent.com/a/default-user=s64",
      "userId": "05339145657507229382"
     },
     "user_tz": -540
    },
    "id": "gdq3xCqCEzWN",
    "outputId": "5681b1d2-2dbd-47e0-d752-efc66696f8d7"
   },
   "outputs": [
    {
     "ename": "SyntaxError",
     "evalue": "ignored",
     "output_type": "error",
     "traceback": [
      "\u001b[0;36m  File \u001b[0;32m\"<ipython-input-7-4d2a781b54d9>\"\u001b[0;36m, line \u001b[0;32m9\u001b[0m\n\u001b[0;31m    print(<div class=\"chart-wrapper\" style=\"\"><img class=\"watermark \" src=\"https://s2.coinmarketcap.com/static/cloud/img/chart/watermark.svg\"><div class=\"axis-label left-axis-label\" style=\"left: 29px;\">KRW</div><div class=\"chart\"><div class=\"tv-lightweight-charts\" style=\"overflow: hidden; width: 713px; height: 400px; user-select: none; -webkit-tap-highlight-color: transparent;\"><table cellspacing=\"0\" style=\"height: 400px; width: 713px;\"><tr><td style=\"padding: 0px;\"><div style=\"height: 374px; overflow: hidden; width: 58px; left: 0px; position: relative; min-width: 58px;\"><canvas width=\"72\" height=\"467\" style=\"width: 58px; height: 374px; position: absolute; z-index: 1; left: 0px; top: 0px;\"></canvas><canvas width=\"72\" height=\"467\" style=\"width: 58px; height: 374px; position: absolute; z-index: 2; left: 0px; top: 0px;\"></canvas></div></td><td style=\"padding: 0px; position: relative; width: 655px; height: 374px;\"><div style=\"width: 100%; height: 100%; position: relative; overflow: hidden;\"><canvas width=\"818\" height=\"467\" style=\"width: 655px; height: 374px; position: absolute; z-index: 1; left: 0px; top: 0px;\"></canvas><canvas width=\"818\" height=\"467\" style=\"width: 655px; height: 374px; position: absolute; z-index: 2; left: 0px; top: 0px;\"></canvas></div></td><td style=\"padding: 0px;\"></td></tr><tr><td style=\"padding: 0px;\"><div style=\"width: 58px; height: 26px; overflow: hidden; min-width: 58px;\"><canvas width=\"72\" height=\"32\" style=\"width: 58px; height: 26px;\"></canv...\n\u001b[0m          ^\u001b[0m\n\u001b[0;31mSyntaxError\u001b[0m\u001b[0;31m:\u001b[0m invalid syntax\n"
     ]
    }
   ],
   "source": [
    "import urllib.request\n",
    "import ssl\n",
    "context = ssl._create_unverified_context()\n",
    "#환율정보 페이지 불러오기\n",
    "print(\"[나스닥]\")\n",
    "URL = \"https://coinmarketcap.com/ko/currencies/bitcoin/?period=7d\"\n",
    "page = urllib.request.urlopen(URL, context=context)\n",
    "text = page.read().decode(\"utf8\")  # 해당 페이지의 소스코드\n",
    "print(<div class=\"chart-wrapper\" style=\"\"><img class=\"watermark \" src=\"https://s2.coinmarketcap.com/static/cloud/img/chart/watermark.svg\"><div class=\"axis-label left-axis-label\" style=\"left: 29px;\">KRW</div><div class=\"chart\"><div class=\"tv-lightweight-charts\" style=\"overflow: hidden; width: 713px; height: 400px; user-select: none; -webkit-tap-highlight-color: transparent;\"><table cellspacing=\"0\" style=\"height: 400px; width: 713px;\"><tr><td style=\"padding: 0px;\"><div style=\"height: 374px; overflow: hidden; width: 58px; left: 0px; position: relative; min-width: 58px;\"><canvas width=\"72\" height=\"467\" style=\"width: 58px; height: 374px; position: absolute; z-index: 1; left: 0px; top: 0px;\"></canvas><canvas width=\"72\" height=\"467\" style=\"width: 58px; height: 374px; position: absolute; z-index: 2; left: 0px; top: 0px;\"></canvas></div></td><td style=\"padding: 0px; position: relative; width: 655px; height: 374px;\"><div style=\"width: 100%; height: 100%; position: relative; overflow: hidden;\"><canvas width=\"818\" height=\"467\" style=\"width: 655px; height: 374px; position: absolute; z-index: 1; left: 0px; top: 0px;\"></canvas><canvas width=\"818\" height=\"467\" style=\"width: 655px; height: 374px; position: absolute; z-index: 2; left: 0px; top: 0px;\"></canvas></div></td><td style=\"padding: 0px;\"></td></tr><tr><td style=\"padding: 0px;\"><div style=\"width: 58px; height: 26px; overflow: hidden; min-width: 58px;\"><canvas width=\"72\" height=\"32\" style=\"width: 58px; height: 26px;\"></canvas></div></td><td style=\"height: 26px; padding: 0px; width: 655px; cursor: default;\"><div style=\"width: 100%; height: 100%; position: relative; overflow: hidden;\"><canvas width=\"818\" height=\"32\" style=\"width: 655px; height: 26px; position: absolute; z-index: 1; left: 0px; top: 0px;\"></canvas><canvas width=\"818\" height=\"32\" style=\"width: 655px; height: 26px; position: absolute; z-index: 2; left: 0px; top: 0px;\"></canvas></div></td><td style=\"padding: 0px;\"></td></tr></table></div></div></div>)\n",
    "\n",
    "\n",
    "\n"
   ]
  },
  {
   "cell_type": "code",
   "execution_count": 8,
   "metadata": {
    "colab": {
     "base_uri": "https://localhost:8080/",
     "height": 234
    },
    "executionInfo": {
     "elapsed": 13,
     "status": "error",
     "timestamp": 1631494038156,
     "user": {
      "displayName": "전경진",
      "photoUrl": "https://lh3.googleusercontent.com/a/default-user=s64",
      "userId": "05339145657507229382"
     },
     "user_tz": -540
    },
    "id": "dY5PCsqpK9L4",
    "outputId": "eefcf4e9-38d6-4631-cac6-c933199013bc"
   },
   "outputs": [
    {
     "ename": "NameError",
     "evalue": "ignored",
     "output_type": "error",
     "traceback": [
      "\u001b[0;31m---------------------------------------------------------------------------\u001b[0m",
      "\u001b[0;31mNameError\u001b[0m                                 Traceback (most recent call last)",
      "\u001b[0;32m<ipython-input-8-aa3b8f104665>\u001b[0m in \u001b[0;36m<module>\u001b[0;34m()\u001b[0m\n\u001b[1;32m      1\u001b[0m \u001b[0;31m#다우존스\u001b[0m\u001b[0;34m\u001b[0m\u001b[0;34m\u001b[0m\u001b[0;34m\u001b[0m\u001b[0m\n\u001b[1;32m      2\u001b[0m \u001b[0msearchText\u001b[0m \u001b[0;34m=\u001b[0m \u001b[0;34m'다우존스</a></th> <td>'\u001b[0m\u001b[0;34m\u001b[0m\u001b[0;34m\u001b[0m\u001b[0m\n\u001b[0;32m----> 3\u001b[0;31m \u001b[0mwhere\u001b[0m      \u001b[0;34m=\u001b[0m \u001b[0mtext\u001b[0m\u001b[0;34m.\u001b[0m\u001b[0mfind\u001b[0m\u001b[0;34m(\u001b[0m\u001b[0msearchText\u001b[0m\u001b[0;34m)\u001b[0m  \u001b[0;31m#소스코드에서 해당 문자열의 시작위치\u001b[0m\u001b[0;34m\u001b[0m\u001b[0;34m\u001b[0m\u001b[0m\n\u001b[0m\u001b[1;32m      4\u001b[0m \u001b[0mtargetInfo\u001b[0m \u001b[0;34m=\u001b[0m \u001b[0mtext\u001b[0m\u001b[0;34m[\u001b[0m\u001b[0mwhere\u001b[0m\u001b[0;34m+\u001b[0m\u001b[0mlen\u001b[0m\u001b[0;34m(\u001b[0m\u001b[0msearchText\u001b[0m\u001b[0;34m)\u001b[0m\u001b[0;34m:\u001b[0m\u001b[0mwhere\u001b[0m\u001b[0;34m+\u001b[0m\u001b[0mlen\u001b[0m\u001b[0;34m(\u001b[0m\u001b[0msearchText\u001b[0m\u001b[0;34m)\u001b[0m\u001b[0;34m+\u001b[0m\u001b[0;36m9\u001b[0m\u001b[0;34m]\u001b[0m\u001b[0;34m\u001b[0m\u001b[0;34m\u001b[0m\u001b[0m\n\u001b[1;32m      5\u001b[0m \u001b[0mprint\u001b[0m\u001b[0;34m(\u001b[0m\u001b[0;34mf'-다우존스: {targetInfo}'\u001b[0m\u001b[0;34m)\u001b[0m\u001b[0;34m\u001b[0m\u001b[0;34m\u001b[0m\u001b[0m\n",
      "\u001b[0;31mNameError\u001b[0m: name 'text' is not defined"
     ]
    }
   ],
   "source": [
    "#다우존스\n",
    "searchText = '다우존스</a></th> <td>'\n",
    "where      = text.find(searchText)  #소스코드에서 해당 문자열의 시작위치\n",
    "targetInfo = text[where+len(searchText):where+len(searchText)+9]\n",
    "print(f'-다우존스: {targetInfo}')\n"
   ]
  }
 ],
 "metadata": {
  "colab": {
   "collapsed_sections": [],
   "name": "코인_검색.ipynb",
   "provenance": []
  },
  "kernelspec": {
   "display_name": "Python 3",
   "name": "python3"
  },
  "language_info": {
   "name": "python"
  }
 },
 "nbformat": 4,
 "nbformat_minor": 0
}
