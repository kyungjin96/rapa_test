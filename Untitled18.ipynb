{
 "cells": [
  {
   "cell_type": "code",
   "execution_count": 1,
   "id": "b067af97",
   "metadata": {},
   "outputs": [
    {
     "name": "stdout",
     "output_type": "stream",
     "text": [
      "[환율정보 불러오기]\n",
      "-환율기준시간: 2021.08.26 15:34\n",
      "-달러: 1,170.00\n",
      "-위안: 180.44\n",
      "-유로: 1,376.10\n"
     ]
    }
   ],
   "source": [
    "import urllib.request\n",
    "import ssl\n",
    "\n",
    "context = ssl._create_unverified_context()\n",
    "\n",
    "#환율정보 페이지 불러오기\n",
    "print(\"[환율정보 불러오기]\")\n",
    "URL = \"https://search.naver.com/search.naver?where=nexearch&sm=top_hty&fbm=1&ie=utf8&query=%ED%99%98%EC%9C%A8\"\n",
    "page = urllib.request.urlopen(URL, context=context)                              \n",
    "text = page.read().decode(\"utf8\")  # 해당 페이지의 소스코드\n",
    "#print(text)\n",
    "\n"
   ]
  },
  {
   "cell_type": "code",
   "execution_count": 2,
   "id": "93946876",
   "metadata": {},
   "outputs": [
    {
     "name": "stdout",
     "output_type": "stream",
     "text": [
      "-환율기준시간: 2021.08.26 15:34\n",
      "-달러: 1,170.00\n",
      "-위안: 180.44\n",
      "-유로: 1,376.10\n"
     ]
    }
   ],
   "source": [
    "#환율정보 가져오기: 기준시간 \n",
    "searchText = 'class=\"grp_info\"> <em>'\n",
    "where      = text.find(searchText)  #소스코드에서 해당 문자열의 시작위치\n",
    "targetInfo = text[where+len(searchText):where+len(searchText)+16]\n",
    "print(f'-환율기준시간: {targetInfo}')\n",
    "\n",
    "#환율정보 가져오기: 달러\n",
    "searchText = '<span>미국 <em>USD</em></span></a></th> <td><span>'\n",
    "where      = text.find(searchText)\n",
    "targetInfo = text[where+len(searchText):where+len(searchText)+8] \n",
    "print(f'-달러: {targetInfo}')\n",
    "\n",
    "#환율정보 가져오기: 위안\n",
    "searchText = '<span>중국 <em>CNY</em></span></a></th> <td><span>'\n",
    "where      = text.find(searchText)\n",
    "targetInfo = text[where+len(searchText):where+len(searchText)+6] \n",
    "print(f'-위안: {targetInfo}')\n",
    "\n",
    "#환율정보 가져오기:유로화\n",
    "searchText = '<span>유럽연합 <em>EUR</em></span></a></th> <td><span>'\n",
    "where      = text.find(searchText)\n",
    "targetInfo = text[where+len(searchText):where+len(searchText)+8] \n",
    "print(f'-유로: {targetInfo}')\n",
    "\n",
    "\n",
    "\n",
    "\n"
   ]
  },
  {
   "cell_type": "code",
   "execution_count": 18,
   "id": "6c08cdde",
   "metadata": {},
   "outputs": [
    {
     "name": "stdout",
     "output_type": "stream",
     "text": [
      "['class=\"grp_info\"> <em>', 16]\n",
      "-환율기준시간  : 2021.08.26 15:34\n",
      "['<span>미국 <em>USD</em></span></a></th> <td><span>', 8]\n",
      "-달러 : 1,170.00\n",
      "['<span>중국 <em>CNY</em></span></a></th> <td><span>', 6]\n",
      "-위안 : 180.44\n"
     ]
    }
   ],
   "source": [
    "def target(searchText,x) :\n",
    "    where      = text.find(searchText)\n",
    "    targetInfo = text[where+len(searchText):where+len(searchText) + x]\n",
    "    return targetInfo\n",
    "                      \n",
    "                      \n",
    "                      \n",
    "info = {'환율기준시간 ' : ['class=\"grp_info\"> <em>',16],\n",
    "       '달러' : ['<span>미국 <em>USD</em></span></a></th> <td><span>',8],\n",
    "       '위안' : ['<span>중국 <em>CNY</em></span></a></th> <td><span>',6]}\n",
    "                      \n",
    "                      \n",
    "for k in info : \n",
    "    v=info[k]\n",
    "    print(v)\n",
    "    print(f'-{k} : {target(v[0],v[1])}')"
   ]
  },
  {
   "cell_type": "code",
   "execution_count": 20,
   "id": "da431c2b",
   "metadata": {},
   "outputs": [
    {
     "name": "stdout",
     "output_type": "stream",
     "text": [
      "30\n"
     ]
    }
   ],
   "source": [
    "#lambda\n",
    "\n",
    "def hap(n1,n2) : \n",
    "    return n1 +n2\n",
    "print(hap(10,20))\n",
    "\n"
   ]
  },
  {
   "cell_type": "code",
   "execution_count": 21,
   "id": "d690dd44",
   "metadata": {},
   "outputs": [
    {
     "name": "stdout",
     "output_type": "stream",
     "text": [
      "30\n"
     ]
    }
   ],
   "source": [
    "hap = lambda n1,n2 : n1+n2\n",
    "print(hap(10,20))"
   ]
  },
  {
   "cell_type": "code",
   "execution_count": 23,
   "id": "b10ab53c",
   "metadata": {},
   "outputs": [
    {
     "name": "stdout",
     "output_type": "stream",
     "text": [
      "[11, 12, 13, 14, 15]\n"
     ]
    }
   ],
   "source": [
    "mylist = [1,2,3,4,5]\n",
    "\n",
    "def add10(num) :\n",
    "    return num+10\n",
    "\n",
    "for idx,val in enumerate(mylist) : \n",
    "    mylist[idx] = add10(val)\n",
    "print(mylist)\n"
   ]
  },
  {
   "cell_type": "code",
   "execution_count": 26,
   "id": "4fa81cdb",
   "metadata": {},
   "outputs": [
    {
     "name": "stdout",
     "output_type": "stream",
     "text": [
      "[11, 12, 13, 14, 15]\n"
     ]
    }
   ],
   "source": [
    "mylist = [1,2,3,4,5]\n",
    "\n",
    "#add10 = lambda num : num+10\n",
    "\n",
    "mylist = list(map(lambda num : num+10,mylist))\n",
    "print(mylist)"
   ]
  },
  {
   "cell_type": "code",
   "execution_count": null,
   "id": "4f0a6165",
   "metadata": {},
   "outputs": [],
   "source": [
    "myList = [1, 2, 3, 4, 5, 6, 7, 8, 9, 10]\n",
    "\n",
    "myList = list(map(lambda num : num))"
   ]
  }
 ],
 "metadata": {
  "kernelspec": {
   "display_name": "Python 3 (ipykernel)",
   "language": "python",
   "name": "python3"
  },
  "language_info": {
   "codemirror_mode": {
    "name": "ipython",
    "version": 3
   },
   "file_extension": ".py",
   "mimetype": "text/x-python",
   "name": "python",
   "nbconvert_exporter": "python",
   "pygments_lexer": "ipython3",
   "version": "3.8.10"
  }
 },
 "nbformat": 4,
 "nbformat_minor": 5
}
