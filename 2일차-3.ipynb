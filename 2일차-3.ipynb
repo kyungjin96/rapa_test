{
 "cells": [
  {
   "cell_type": "code",
   "execution_count": 13,
   "id": "622ff2dd",
   "metadata": {},
   "outputs": [
    {
     "name": "stdout",
     "output_type": "stream",
     "text": [
      "성적을 입력해 주세요:50\n",
      "성적: 50 는 D 등급 입니다.\n"
     ]
    }
   ],
   "source": [
    "x = int(input('성적을 입력해 주세요:' ))\n",
    "\n",
    "\n",
    "if x > 89 :\n",
    "    print('성적:',x, '는 A 등급 입니다.')\n",
    "else :\n",
    "    if  80 <= x < 90 :\n",
    "        print('성적:',x, '는 B 등급 입니다.')\n",
    "    else :\n",
    "        if  70 <= x < 80 :\n",
    "                print('성적:',x, '는 C 등급 입니다.')\n",
    "        else  : \n",
    "           if x < 70 :\n",
    "                print('성적:',x, '는 D 등급 입니다.')\n",
    "        "
   ]
  },
  {
   "cell_type": "code",
   "execution_count": 16,
   "id": "fe940207",
   "metadata": {},
   "outputs": [
    {
     "name": "stdout",
     "output_type": "stream",
     "text": [
      "주민번호 : 1111111111111111111\n",
      "1911년 11월 11일,2021세,남성\n"
     ]
    }
   ],
   "source": [
    "import datetime\n",
    "now = datetime.datetime.now()\n",
    "\n",
    "c_y = now.year\n",
    "\n",
    "x = input('주민번호 : ')\n",
    "\n",
    "\n",
    "g = x[7]\n",
    "if g == '1' :\n",
    "    ge = '남성'\n",
    "    ss = 1900 + int(y)\n",
    "elif g == '2' :\n",
    "    ge = '여성'\n",
    "    ss = 1900 + int(y)\n",
    "elif g == '3' :\n",
    "    ge = '남성'\n",
    "    ss = 2000 + int(y)\n",
    "else :\n",
    "    ge = '여성'\n",
    "    ss = 2000 + int(y)\n",
    "        \n",
    "y = x[0:2]\n",
    "a = x[2:4]\n",
    "b = x[4:6]\n",
    "print(f'{ss}년 {a}월 {b}일,{int(c_y)}세,{ge}')\n",
    "\n",
    "\n",
    "\n",
    "\n",
    "\n",
    "\n",
    "\n"
   ]
  },
  {
   "cell_type": "code",
   "execution_count": 4,
   "id": "a7dd235a",
   "metadata": {},
   "outputs": [
    {
     "name": "stdout",
     "output_type": "stream",
     "text": [
      "괄호 : ()))))\n",
      "['(', ')', ')', ')', ')', ')']\n",
      "결과 : True\n"
     ]
    }
   ],
   "source": [
    "a = list(input('괄호 : '))\n",
    "\n",
    "if a[0] == ')' :\n",
    "    print('결과 : False')\n",
    "elif a[-1] == '(' :\n",
    "    print('결과 : False')\n",
    "elif len(a)%2 ==1 :\n",
    "    print('결과 : False')\n",
    "elif len(a)%2 ==0 :\n",
    "    print(a)\n",
    "    print('결과 : True')\n",
    "else : \n",
    "    print('False')\n",
    "\n"
   ]
  },
  {
   "cell_type": "code",
   "execution_count": 7,
   "id": "112fd28e",
   "metadata": {},
   "outputs": [
    {
     "name": "stdout",
     "output_type": "stream",
     "text": [
      "괄호 : ()))))\n",
      "['(', ')', ')', ')', ')', ')']\n",
      "F\n"
     ]
    }
   ],
   "source": [
    "a = list(input('괄호 : '))\n",
    "print(a)\n",
    "\n",
    "t = 0\n",
    "for i in a:\n",
    "    if i == '(' :\n",
    "        t +=1\n",
    "    elif i == ')' :\n",
    "        t -=1\n",
    "    if t<0 :\n",
    "        break\n",
    "if t==0:\n",
    "    print('True')\n",
    "else :\n",
    "    print('F')"
   ]
  },
  {
   "cell_type": "code",
   "execution_count": 6,
   "id": "3f8f391d",
   "metadata": {},
   "outputs": [
    {
     "name": "stdout",
     "output_type": "stream",
     "text": [
      "[카페 자동주문 머신 메뉴]\n",
      "____________________________________\n",
      "-아메리카노는 2500원\n",
      "-카페라떼는 3000원\n",
      "-카푸치노는 3000원\n",
      "입니다. 원하시는 커피 종류와 잔수를 입력하세요.\n",
      "____________________________________\n",
      "아메리카노 몇잔?:5555\n",
      "카페라떼 몇잔?:112\n",
      "카푸치노 몇잔?:555\n",
      "지불할 총 금액은 15888500원 입니다\n",
      "돈을 넣어주세요 :15950000\n",
      "거스름돈은 61500 원 입니다\n"
     ]
    }
   ],
   "source": [
    "menu = '''[카페 자동주문 머신 메뉴]\n",
    "____________________________________\n",
    "-아메리카노는 2500원\n",
    "-카페라떼는 3000원\n",
    "-카푸치노는 3000원\n",
    "입니다. 원하시는 커피 종류와 잔수를 입력하세요.\n",
    "____________________________________\n",
    "'''\n",
    "c1 = int(input(menu+ '아메리카노 몇잔?:'))\n",
    "c2 = int(input( '카페라떼 몇잔?:'))\n",
    "c3 = int(input( '카푸치노 몇잔?:'))\n",
    "\n",
    "t = c1*2500 + (c2+ c3)*3000\n",
    "print(f'지불할 총 금액은 {t}원 입니다')\n",
    "\n",
    "m = int(input('돈을 넣어주세요 :'))\n",
    "if m >= t :\n",
    "    print(f'거스름돈은 {m-t} 원 입니다')\n",
    "else :\n",
    "    print(f'금액이 부족합니다. {t-m}원을 더 넣어주세요')"
   ]
  },
  {
   "cell_type": "code",
   "execution_count": 27,
   "id": "b3c0d0e8",
   "metadata": {},
   "outputs": [
    {
     "name": "stdout",
     "output_type": "stream",
     "text": [
      "1\n",
      "10\n",
      "5\n"
     ]
    }
   ],
   "source": [
    "#난수 : random\n",
    "\n",
    "import random\n",
    "\n",
    "x = int(input())\n",
    "y = int(input())\n",
    "a = random.randint(x,y)\n",
    "print(a)\n",
    "\n",
    "\n",
    "\n"
   ]
  },
  {
   "cell_type": "code",
   "execution_count": 36,
   "id": "2c781fcb",
   "metadata": {},
   "outputs": [
    {
     "name": "stdout",
     "output_type": "stream",
     "text": [
      "주사위를 던집니다!\n",
      "___________________________\n",
      "A의 숫자는 1입니다\n",
      "B의 숫자는 1입니다\n",
      "___________________________\n",
      "무승부\n"
     ]
    }
   ],
   "source": [
    "import random\n",
    "\n",
    "print('주사위를 던집니다!\\n___________________________') \n",
    "a = random.randint(1,6)\n",
    "b = random.randint(1,6)\n",
    "print(f'A의 숫자는 {a}입니다')\n",
    "print(f'B의 숫자는 {b}입니다')\n",
    "\n",
    "print('___________________________')\n",
    "if a==b :\n",
    "    print('무승부')\n",
    "elif a > b :\n",
    "    print('A가 이겼습니다.')\n",
    "elif a < b :\n",
    "    print('B가 이겼습니다.')\n",
    "    \n",
    "    \n",
    "\n",
    "\n"
   ]
  },
  {
   "cell_type": "code",
   "execution_count": 115,
   "id": "b0efb7d8",
   "metadata": {},
   "outputs": [
    {
     "name": "stdout",
     "output_type": "stream",
     "text": [
      "합계를 구할 숫자 입력 : 100\n",
      "1 ~ 100까지의 합은: 5050\n"
     ]
    }
   ],
   "source": [
    "n = int(input('합계를 구할 숫자 입력 : '))\n",
    "\n",
    "a = 0\n",
    "for i in range(1, n+1,1) :\n",
    "    a += i\n",
    "print(f'1 ~ {n}까지의 합은: {a}')\n"
   ]
  },
  {
   "cell_type": "code",
   "execution_count": 87,
   "id": "cae2d33a",
   "metadata": {},
   "outputs": [
    {
     "name": "stdout",
     "output_type": "stream",
     "text": [
      "55\n"
     ]
    }
   ],
   "source": [
    "hap = 0\n",
    "for i in range(1,11,1):\n",
    "    hap += i\n",
    "print(hap)"
   ]
  },
  {
   "cell_type": "code",
   "execution_count": 113,
   "id": "a48fcd28",
   "metadata": {},
   "outputs": [
    {
     "name": "stdout",
     "output_type": "stream",
     "text": [
      "[70, 60, 55, 75, 95, 90, 80, 80, 85, 100] 안의 모든 합은 : 790\n"
     ]
    }
   ],
   "source": [
    "a = [70, 60, 55, 75, 95, 90, 80, 80, 85, 100]\n",
    "x=0\n",
    "for i in a :\n",
    "    x+=i\n",
    "print(f'{a} 안의 모든 합은 : {x}')"
   ]
  },
  {
   "cell_type": "code",
   "execution_count": 140,
   "id": "e70c7f9f",
   "metadata": {},
   "outputs": [
    {
     "name": "stdout",
     "output_type": "stream",
     "text": [
      "합계를 구할 숫자 입력 : 10\n",
      "1 ~ 10까지 짝수를 제외한 합은: 25\n"
     ]
    }
   ],
   "source": [
    "n = int(input('합계를 구할 숫자 입력 : '))\n",
    "\n",
    "a = 0\n",
    "for i in range(1, n+1,1) :\n",
    "    if i%2 == 1:\n",
    "        a += i\n",
    "print(f'1 ~ {n}까지 짝수를 제외한 합은: {a}')\n",
    "    \n"
   ]
  },
  {
   "cell_type": "code",
   "execution_count": 133,
   "id": "23c228d6",
   "metadata": {},
   "outputs": [
    {
     "name": "stdout",
     "output_type": "stream",
     "text": [
      "합계를 구할 숫자 입력 :10\n",
      "1~10까지의 홀수의 합은 25\n"
     ]
    }
   ],
   "source": [
    "n = int(input(\"합계를 구할 숫자 입력 :\"))\n",
    "sum = 0\n",
    "for i in range(n):\n",
    "    if i%2 == 1:\n",
    "        sum += i\n",
    "print(f\"1~{n}까지의 홀수의 합은 {sum}\")"
   ]
  },
  {
   "cell_type": "code",
   "execution_count": 7,
   "id": "84dfd762",
   "metadata": {},
   "outputs": [
    {
     "name": "stdout",
     "output_type": "stream",
     "text": [
      "2x2=4\n",
      "2x3=6\n",
      "2x4=8\n",
      "2x5=10\n",
      "2x6=12\n",
      "2x7=14\n",
      "2x8=16\n",
      "2x9=18\n",
      "\n",
      "3x2=6\n",
      "3x3=9\n",
      "3x4=12\n",
      "3x5=15\n",
      "3x6=18\n",
      "3x7=21\n",
      "3x8=24\n",
      "3x9=27\n",
      "\n",
      "4x2=8\n",
      "4x3=12\n",
      "4x4=16\n",
      "4x5=20\n",
      "4x6=24\n",
      "4x7=28\n",
      "4x8=32\n",
      "4x9=36\n",
      "\n",
      "5x2=10\n",
      "5x3=15\n",
      "5x4=20\n",
      "5x5=25\n",
      "5x6=30\n",
      "5x7=35\n",
      "5x8=40\n",
      "5x9=45\n",
      "\n",
      "6x2=12\n",
      "6x3=18\n",
      "6x4=24\n",
      "6x5=30\n",
      "6x6=36\n",
      "6x7=42\n",
      "6x8=48\n",
      "6x9=54\n",
      "\n",
      "7x2=14\n",
      "7x3=21\n",
      "7x4=28\n",
      "7x5=35\n",
      "7x6=42\n",
      "7x7=49\n",
      "7x8=56\n",
      "7x9=63\n",
      "\n",
      "8x2=16\n",
      "8x3=24\n",
      "8x4=32\n",
      "8x5=40\n",
      "8x6=48\n",
      "8x7=56\n",
      "8x8=64\n",
      "8x9=72\n",
      "\n",
      "9x2=18\n",
      "9x3=27\n",
      "9x4=36\n",
      "9x5=45\n",
      "9x6=54\n",
      "9x7=63\n",
      "9x8=72\n",
      "9x9=81\n",
      "\n"
     ]
    }
   ],
   "source": [
    "\n",
    "for i in range(2,10,1):\n",
    "    for j in range(2,10,1):\n",
    "        a=i*j\n",
    "        print(f'{i}x{j}={a}')\n",
    "    print()"
   ]
  },
  {
   "cell_type": "code",
   "execution_count": 144,
   "id": "511af694",
   "metadata": {},
   "outputs": [
    {
     "name": "stdout",
     "output_type": "stream",
     "text": [
      "몇 단을 출력할까요?10\n",
      "10 x 1 = 10\n",
      "10 x 2 = 20\n",
      "10 x 3 = 30\n",
      "10 x 4 = 40\n",
      "10 x 5 = 50\n",
      "10 x 6 = 60\n",
      "10 x 7 = 70\n",
      "10 x 8 = 80\n",
      "10 x 9 = 90\n"
     ]
    }
   ],
   "source": [
    "n = int(input('몇 단을 출력할까요?'))\n",
    "for i in range(1,10):\n",
    "    a = i * n\n",
    "    print(f'{n} x {i} = {a}')"
   ]
  },
  {
   "cell_type": "code",
   "execution_count": 154,
   "id": "c31b761d",
   "metadata": {},
   "outputs": [
    {
     "name": "stdout",
     "output_type": "stream",
     "text": [
      "2x1= 2 3x1= 3 4x1= 4 5x1= 5 6x1= 6 7x1= 7 8x1= 8 9x1= 9 \n",
      "2x2= 4 3x2= 6 4x2= 8 5x2=10 6x2=12 7x2=14 8x2=16 9x2=18 \n",
      "2x3= 6 3x3= 9 4x3=12 5x3=15 6x3=18 7x3=21 8x3=24 9x3=27 \n",
      "2x4= 8 3x4=12 4x4=16 5x4=20 6x4=24 7x4=28 8x4=32 9x4=36 \n",
      "2x5=10 3x5=15 4x5=20 5x5=25 6x5=30 7x5=35 8x5=40 9x5=45 \n",
      "2x6=12 3x6=18 4x6=24 5x6=30 6x6=36 7x6=42 8x6=48 9x6=54 \n",
      "2x7=14 3x7=21 4x7=28 5x7=35 6x7=42 7x7=49 8x7=56 9x7=63 \n",
      "2x8=16 3x8=24 4x8=32 5x8=40 6x8=48 7x8=56 8x8=64 9x8=72 \n",
      "2x9=18 3x9=27 4x9=36 5x9=45 6x9=54 7x9=63 8x9=72 9x9=81 \n"
     ]
    }
   ],
   "source": [
    "for j in range(1,10):\n",
    "    for i in range(2,10):\n",
    "        print('%dx%d=%2d'%(i,j,i*j), end=' ')\n",
    "    print()"
   ]
  },
  {
   "cell_type": "code",
   "execution_count": null,
   "id": "7723b86f",
   "metadata": {},
   "outputs": [],
   "source": []
  }
 ],
 "metadata": {
  "kernelspec": {
   "display_name": "Python 3 (ipykernel)",
   "language": "python",
   "name": "python3"
  },
  "language_info": {
   "codemirror_mode": {
    "name": "ipython",
    "version": 3
   },
   "file_extension": ".py",
   "mimetype": "text/x-python",
   "name": "python",
   "nbconvert_exporter": "python",
   "pygments_lexer": "ipython3",
   "version": "3.8.10"
  }
 },
 "nbformat": 4,
 "nbformat_minor": 5
}
