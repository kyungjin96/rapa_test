{
 "cells": [
  {
   "cell_type": "code",
   "execution_count": 1,
   "id": "8e13ca9c",
   "metadata": {},
   "outputs": [
    {
     "ename": "IndentationError",
     "evalue": "expected an indented block (Temp/ipykernel_12908/62692188.py, line 5)",
     "output_type": "error",
     "traceback": [
      "\u001b[1;36m  File \u001b[1;32m\"C:\\Users\\PC021\\AppData\\Local\\Temp/ipykernel_12908/62692188.py\"\u001b[1;36m, line \u001b[1;32m5\u001b[0m\n\u001b[1;33m    n1 = int(input('첫번째 숫자 : '))\u001b[0m\n\u001b[1;37m                                ^\u001b[0m\n\u001b[1;31mIndentationError\u001b[0m\u001b[1;31m:\u001b[0m expected an indented block\n"
     ]
    }
   ],
   "source": [
    "def calc(n1, n2, op) :\n",
    "    if '+' == n1+n2 : \n",
    "        \n",
    "        \n",
    "n1 = int(input('첫번째 숫자 : '))\n",
    "n2 = int(input('첫번째 숫자 : '))\n",
    "op = input('연산기호 : ')\n",
    "\n",
    "print(f'결과 : {calc}')\n",
    "        \n"
   ]
  },
  {
   "cell_type": "code",
   "execution_count": null,
   "id": "50d86592",
   "metadata": {},
   "outputs": [],
   "source": []
  }
 ],
 "metadata": {
  "kernelspec": {
   "display_name": "Python 3 (ipykernel)",
   "language": "python",
   "name": "python3"
  },
  "language_info": {
   "codemirror_mode": {
    "name": "ipython",
    "version": 3
   },
   "file_extension": ".py",
   "mimetype": "text/x-python",
   "name": "python",
   "nbconvert_exporter": "python",
   "pygments_lexer": "ipython3",
   "version": "3.8.10"
  }
 },
 "nbformat": 4,
 "nbformat_minor": 5
}
