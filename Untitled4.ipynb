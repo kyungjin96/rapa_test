{
 "cells": [
  {
   "cell_type": "code",
   "execution_count": 1,
   "id": "fa1cec59",
   "metadata": {},
   "outputs": [],
   "source": [
    "# 제목"
   ]
  },
  {
   "cell_type": "code",
   "execution_count": 2,
   "id": "94c9a05f",
   "metadata": {},
   "outputs": [
    {
     "ename": "ModuleNotFoundError",
     "evalue": "No module named 'sample'",
     "output_type": "error",
     "traceback": [
      "\u001b[1;31m---------------------------------------------------------------------------\u001b[0m",
      "\u001b[1;31mModuleNotFoundError\u001b[0m                       Traceback (most recent call last)",
      "\u001b[1;32m~\\AppData\\Local\\Temp/ipykernel_7380/2160077242.py\u001b[0m in \u001b[0;36m<module>\u001b[1;34m\u001b[0m\n\u001b[1;32m----> 1\u001b[1;33m \u001b[1;32mimport\u001b[0m \u001b[0msample\u001b[0m\u001b[1;33m\u001b[0m\u001b[1;33m\u001b[0m\u001b[0m\n\u001b[0m",
      "\u001b[1;31mModuleNotFoundError\u001b[0m: No module named 'sample'"
     ]
    }
   ],
   "source": [
    "import sample"
   ]
  },
  {
   "cell_type": "code",
   "execution_count": 3,
   "id": "c7a176af",
   "metadata": {},
   "outputs": [
    {
     "data": {
      "text/plain": [
       "int"
      ]
     },
     "execution_count": 3,
     "metadata": {},
     "output_type": "execute_result"
    }
   ],
   "source": [
    "v = 5\n",
    "type(v)"
   ]
  },
  {
   "cell_type": "code",
   "execution_count": 4,
   "id": "ca3d6841",
   "metadata": {},
   "outputs": [
    {
     "data": {
      "text/plain": [
       "float"
      ]
     },
     "execution_count": 4,
     "metadata": {},
     "output_type": "execute_result"
    }
   ],
   "source": [
    "v = 3.14\n",
    "type(v)"
   ]
  },
  {
   "cell_type": "code",
   "execution_count": 5,
   "id": "b8e38e04",
   "metadata": {},
   "outputs": [
    {
     "data": {
      "text/plain": [
       "int"
      ]
     },
     "execution_count": 5,
     "metadata": {},
     "output_type": "execute_result"
    }
   ],
   "source": [
    "v = 0x3d\n",
    "type(v)"
   ]
  },
  {
   "cell_type": "code",
   "execution_count": 7,
   "id": "830c00ee",
   "metadata": {},
   "outputs": [
    {
     "data": {
      "text/plain": [
       "str"
      ]
     },
     "execution_count": 7,
     "metadata": {},
     "output_type": "execute_result"
    }
   ],
   "source": [
    "v = '사랑'*3\n",
    "type(v)"
   ]
  },
  {
   "cell_type": "code",
   "execution_count": 8,
   "id": "b9503e47",
   "metadata": {},
   "outputs": [
    {
     "name": "stdout",
     "output_type": "stream",
     "text": [
      "5.0\n"
     ]
    }
   ],
   "source": [
    "print(10/2)"
   ]
  },
  {
   "cell_type": "code",
   "execution_count": 9,
   "id": "5ae63814",
   "metadata": {},
   "outputs": [
    {
     "name": "stdout",
     "output_type": "stream",
     "text": [
      "20.0\n"
     ]
    }
   ],
   "source": [
    "print(10.00*2)"
   ]
  },
  {
   "cell_type": "code",
   "execution_count": 12,
   "id": "dc26b544",
   "metadata": {},
   "outputs": [
    {
     "name": "stdout",
     "output_type": "stream",
     "text": [
      "0b1100100\n"
     ]
    }
   ],
   "source": [
    "b2 = bin(100)\n",
    "print(b2)"
   ]
  },
  {
   "cell_type": "code",
   "execution_count": 13,
   "id": "77db931e",
   "metadata": {},
   "outputs": [
    {
     "name": "stdout",
     "output_type": "stream",
     "text": [
      "0o144\n"
     ]
    }
   ],
   "source": [
    "o2 = oct(100)\n",
    "print(o2)"
   ]
  },
  {
   "cell_type": "code",
   "execution_count": 19,
   "id": "e12a0cdd",
   "metadata": {},
   "outputs": [
    {
     "name": "stdout",
     "output_type": "stream",
     "text": [
      "0x64\n",
      "0o144\n",
      "0b1100100\n",
      "<class 'str'>\n",
      "0b11001000x64\n"
     ]
    }
   ],
   "source": [
    "h2 = hex(100)\n",
    "print(h2)\n",
    "print(o2)\n",
    "print(b2)\n",
    "print(type(b2))\n",
    "print(b2+h2)\n"
   ]
  },
  {
   "cell_type": "code",
   "execution_count": 20,
   "id": "1b5c608d",
   "metadata": {},
   "outputs": [
    {
     "name": "stdout",
     "output_type": "stream",
     "text": [
      "30\n"
     ]
    }
   ],
   "source": [
    "a = 50-5*4\n",
    "print(a)"
   ]
  },
  {
   "cell_type": "code",
   "execution_count": 21,
   "id": "4d1f97a5",
   "metadata": {},
   "outputs": [
    {
     "data": {
      "text/plain": [
       "7"
      ]
     },
     "execution_count": 21,
     "metadata": {},
     "output_type": "execute_result"
    }
   ],
   "source": [
    "7%10"
   ]
  },
  {
   "cell_type": "code",
   "execution_count": 22,
   "id": "bce452a2",
   "metadata": {},
   "outputs": [
    {
     "name": "stdout",
     "output_type": "stream",
     "text": [
      "6\n"
     ]
    }
   ],
   "source": [
    "a=3\n",
    "b=20\n",
    "c=b//a\n",
    "print(c)"
   ]
  },
  {
   "cell_type": "code",
   "execution_count": 31,
   "id": "7dfceec4",
   "metadata": {},
   "outputs": [
    {
     "name": "stdout",
     "output_type": "stream",
     "text": [
      "s\n"
     ]
    }
   ],
   "source": [
    "a = '''s'''\n",
    "print(a)"
   ]
  },
  {
   "cell_type": "code",
   "execution_count": 35,
   "id": "042d8b80",
   "metadata": {},
   "outputs": [
    {
     "name": "stdout",
     "output_type": "stream",
     "text": [
      "출력할 내용\n",
      "\n",
      "출력할 내용\n"
     ]
    }
   ],
   "source": [
    "print('출력할 내용')\n",
    "print()\n",
    "print('출력할 내용')"
   ]
  },
  {
   "cell_type": "code",
   "execution_count": 37,
   "id": "b65db65a",
   "metadata": {},
   "outputs": [],
   "source": [
    "###사칙연산"
   ]
  },
  {
   "cell_type": "code",
   "execution_count": 63,
   "id": "d4aa5610",
   "metadata": {},
   "outputs": [
    {
     "name": "stdout",
     "output_type": "stream",
     "text": [
      "첫번째 숫자 : 50\n",
      "두번째 숫자 : 3\n",
      "50 3\n",
      "덧셈 :  50 + 3 = 53 \n",
      "뺄셈 :  50 - 3 = 47 \n",
      "곱셈 :  50 * 3 = 150 \n",
      "몫 :  50 // 3 = 16 \n",
      "나머지 :  50  %  3 = 2 \n"
     ]
    }
   ],
   "source": [
    "num1 = int(input('첫번째 숫자 : '))\n",
    "num2 = int(input('두번째 숫자 : '))\n",
    "\n",
    "print(num1, num2)\n",
    "\n",
    "\n",
    "print('덧셈 : ', \"%d + %d = %d \" % (num1,num2 , (num1 + num2)))\n",
    "print('뺄셈 : ', \"%d - %d = %d \" % (num1,num2 , (num1 - num2)))\n",
    "print('곱셈 : ', \"%d * %d = %d \" % (num1,num2 , (num1 * num2)))\n",
    "print('몫 : '  , \"%d // %d = %d \" % (num1,num2 , (num1 // num2)))\n",
    "print('나머지 : ',\"%d  %%  %d = %d \" % (num1,num2 , (num1 % num2)))\n",
    "\n",
    "\n"
   ]
  },
  {
   "cell_type": "code",
   "execution_count": 68,
   "id": "41ea03b1",
   "metadata": {},
   "outputs": [
    {
     "name": "stdout",
     "output_type": "stream",
     "text": [
      "속도를 입력해 주세요 : 200\n",
      "거리를 입력해 주세요 : 50\n",
      "속도 :  200\n",
      "거리 :  50\n",
      "시간 :  0\n"
     ]
    }
   ],
   "source": [
    "num1 = int(input('속도를 입력해 주세요 : '))\n",
    "num2 = int(input('거리를 입력해 주세요 : '))\n",
    "\n",
    "\n",
    "\n",
    "\n",
    "print('속도 : ', num1)\n",
    "print('거리 : ', num2)\n",
    "print('시간 : ', num2//num1)"
   ]
  },
  {
   "cell_type": "code",
   "execution_count": 78,
   "id": "43a9d742",
   "metadata": {},
   "outputs": [
    {
     "name": "stdout",
     "output_type": "stream",
     "text": [
      "정수를 입력하세요: 7\n",
      "7 + 77 + 777 = 861\n"
     ]
    }
   ],
   "source": [
    "a = int(input('정수를 입력하세요: '))\n",
    "\n",
    "\n",
    "b = int(a*11)\n",
    "c = int(a*111)\n",
    "\n",
    "\n",
    "print('%d + %d + %d = %d' % (a,b,c, (a+b+c)))"
   ]
  },
  {
   "cell_type": "code",
   "execution_count": 80,
   "id": "0ef52611",
   "metadata": {},
   "outputs": [
    {
     "name": "stdout",
     "output_type": "stream",
     "text": [
      "[0, 1, 16, 81]\n"
     ]
    }
   ],
   "source": [
    "x=[x**4 for x in range(4)]\n",
    "print(x)"
   ]
  },
  {
   "cell_type": "code",
   "execution_count": 82,
   "id": "a4ab15a1",
   "metadata": {},
   "outputs": [
    {
     "name": "stdout",
     "output_type": "stream",
     "text": [
      "1 3 5\n"
     ]
    }
   ],
   "source": [
    "a = []\n",
    "for k in range(1,7,2):\n",
    "    a.append(k)\n",
    "print(a[0],a[1],a[2])"
   ]
  },
  {
   "cell_type": "code",
   "execution_count": null,
   "id": "ddccf5bf",
   "metadata": {},
   "outputs": [],
   "source": []
  }
 ],
 "metadata": {
  "kernelspec": {
   "display_name": "Python 3 (ipykernel)",
   "language": "python",
   "name": "python3"
  },
  "language_info": {
   "codemirror_mode": {
    "name": "ipython",
    "version": 3
   },
   "file_extension": ".py",
   "mimetype": "text/x-python",
   "name": "python",
   "nbconvert_exporter": "python",
   "pygments_lexer": "ipython3",
   "version": "3.8.10"
  }
 },
 "nbformat": 4,
 "nbformat_minor": 5
}
