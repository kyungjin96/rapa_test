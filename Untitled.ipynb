{
 "cells": [
  {
   "cell_type": "code",
   "execution_count": null,
   "id": "f3a50abe",
   "metadata": {},
   "outputs": [],
   "source": [
    "hap =0\n",
    "\n",
    "for i in range(1,11,2):\n",
    "    hap = hap +i\n",
    "\n",
    "print(f'합계 : {hap}')"
   ]
  },
  {
   "cell_type": "code",
   "execution_count": null,
   "id": "601c8096",
   "metadata": {},
   "outputs": [],
   "source": [
    "import sys\n",
    "\n",
    "sys.exectable"
   ]
  },
  {
   "cell_type": "code",
   "execution_count": null,
   "id": "acd1c839",
   "metadata": {},
   "outputs": [],
   "source": [
    "sys.path"
   ]
  },
  {
   "cell_type": "code",
   "execution_count": null,
   "id": "056424bd",
   "metadata": {},
   "outputs": [],
   "source": [
    "print('hello')"
   ]
  },
  {
   "cell_type": "code",
   "execution_count": null,
   "id": "10dc929e",
   "metadata": {},
   "outputs": [],
   "source": [
    "pip list"
   ]
  },
  {
   "cell_type": "code",
   "execution_count": null,
   "id": "c9802191",
   "metadata": {},
   "outputs": [],
   "source": [
    "pip show numpy"
   ]
  },
  {
   "cell_type": "code",
   "execution_count": 1,
   "id": "f6dbed73",
   "metadata": {},
   "outputs": [
    {
     "name": "stdout",
     "output_type": "stream",
     "text": [
      "Note: you may need to restart the kernel to use updated packages.\n"
     ]
    },
    {
     "name": "stderr",
     "output_type": "stream",
     "text": [
      "파일 이름, 디렉터리 이름 또는 볼륨 레이블 구문이 잘못되었습니다.\n"
     ]
    }
   ],
   "source": [
    " pip show jupyter"
   ]
  },
  {
   "cell_type": "code",
   "execution_count": null,
   "id": "0c8d7730",
   "metadata": {},
   "outputs": [],
   "source": []
  }
 ],
 "metadata": {
  "kernelspec": {
   "display_name": "Python 3 (ipykernel)",
   "language": "python",
   "name": "python3"
  },
  "language_info": {
   "codemirror_mode": {
    "name": "ipython",
    "version": 3
   },
   "file_extension": ".py",
   "mimetype": "text/x-python",
   "name": "python",
   "nbconvert_exporter": "python",
   "pygments_lexer": "ipython3",
   "version": "3.8.10"
  }
 },
 "nbformat": 4,
 "nbformat_minor": 5
}
