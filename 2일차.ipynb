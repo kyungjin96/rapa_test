{
 "cells": [
  {
   "cell_type": "code",
   "execution_count": 16,
   "id": "4ae47a42",
   "metadata": {},
   "outputs": [
    {
     "name": "stdout",
     "output_type": "stream",
     "text": [
      "제 이름은 홍길동 이고 , 나이는 10, 키는 110.4 입니다\n"
     ]
    }
   ],
   "source": [
    "name = '홍길동'\n",
    "age = 10\n",
    "i = 110.4\n",
    "\n",
    "ad = f'제 이름은 {name} 이고 , 나이는 {age}, 키는 {i} 입니다'\n",
    "print(ad)"
   ]
  },
  {
   "cell_type": "code",
   "execution_count": 13,
   "id": "9980748f",
   "metadata": {},
   "outputs": [
    {
     "name": "stdout",
     "output_type": "stream",
     "text": [
      "사\n",
      "!\n",
      "해\n"
     ]
    },
    {
     "data": {
      "text/plain": [
       "'사랑해'"
      ]
     },
     "execution_count": 13,
     "metadata": {},
     "output_type": "execute_result"
    }
   ],
   "source": [
    "a= \"사랑해요, 파이썬!\"\n",
    "print(a[0])\n",
    "print(a[-1])\n",
    "print(a[2])\n",
    "a[0:3]"
   ]
  },
  {
   "cell_type": "code",
   "execution_count": 15,
   "id": "b3259cd8",
   "metadata": {},
   "outputs": [
    {
     "data": {
      "text/plain": [
       "','"
      ]
     },
     "execution_count": 15,
     "metadata": {},
     "output_type": "execute_result"
    }
   ],
   "source": [
    "a[4]"
   ]
  },
  {
   "cell_type": "code",
   "execution_count": 23,
   "id": "b9003c3c",
   "metadata": {},
   "outputs": [
    {
     "data": {
      "text/plain": [
       "'pyhon'"
      ]
     },
     "execution_count": 23,
     "metadata": {},
     "output_type": "execute_result"
    }
   ],
   "source": [
    "\"%s\" % \"pyhon\""
   ]
  },
  {
   "cell_type": "code",
   "execution_count": 21,
   "id": "19ee355e",
   "metadata": {},
   "outputs": [
    {
     "data": {
      "text/plain": [
       "'pyhon     파이썬'"
      ]
     },
     "execution_count": 21,
     "metadata": {},
     "output_type": "execute_result"
    }
   ],
   "source": [
    "\"%-10s파이썬\" % \"pyhon\""
   ]
  },
  {
   "cell_type": "code",
   "execution_count": 30,
   "id": "ae1f6ae6",
   "metadata": {},
   "outputs": [
    {
     "data": {
      "text/plain": [
       "'i eat5 apples. no8'"
      ]
     },
     "execution_count": 30,
     "metadata": {},
     "output_type": "execute_result"
    }
   ],
   "source": [
    "\"i eat{} apples. no{}\".format(5,8)"
   ]
  },
  {
   "cell_type": "code",
   "execution_count": 31,
   "id": "3e57dc55",
   "metadata": {},
   "outputs": [
    {
     "data": {
      "text/plain": [
       "'$$$$찐찐$$$$'"
      ]
     },
     "execution_count": 31,
     "metadata": {},
     "output_type": "execute_result"
    }
   ],
   "source": [
    "\"{0:$^10}\".format(\"찐찐\")"
   ]
  },
  {
   "cell_type": "code",
   "execution_count": 34,
   "id": "f682904c",
   "metadata": {},
   "outputs": [
    {
     "name": "stdout",
     "output_type": "stream",
     "text": [
      "0\n",
      "3\n"
     ]
    }
   ],
   "source": [
    "#ccount - count()\n",
    "\n",
    "a = \"kyinggg\"\n",
    "print(a.count('a'))\n",
    "print(a.count('g'))"
   ]
  },
  {
   "cell_type": "code",
   "execution_count": 38,
   "id": "54ce0bdc",
   "metadata": {},
   "outputs": [
    {
     "name": "stdout",
     "output_type": "stream",
     "text": [
      "1\n"
     ]
    },
    {
     "data": {
      "text/plain": [
       "-1"
      ]
     },
     "execution_count": 38,
     "metadata": {},
     "output_type": "execute_result"
    }
   ],
   "source": [
    "# find() 없을때 -1 위치 알려주기  index() 없을때 오류\n",
    "\n",
    "a = \"python\"\n",
    "print(a.find('y'))\n",
    "a.find('k')\n",
    "\n",
    "\n",
    "\n"
   ]
  },
  {
   "cell_type": "code",
   "execution_count": 39,
   "id": "13567e3d",
   "metadata": {},
   "outputs": [
    {
     "data": {
      "text/plain": [
       "'a,b,c,d'"
      ]
     },
     "execution_count": 39,
     "metadata": {},
     "output_type": "execute_result"
    }
   ],
   "source": [
    "#join 문자열 삽입\n",
    "a=','\n",
    "a.join('abcd')\n"
   ]
  },
  {
   "cell_type": "code",
   "execution_count": 40,
   "id": "25e98c46",
   "metadata": {},
   "outputs": [],
   "source": [
    "#strip 공백지우기 lstrip 왼공 rstrip 오공\n",
    "#split 문자열 나누기 (리스트형태)\n",
    "\n",
    "\n"
   ]
  },
  {
   "cell_type": "code",
   "execution_count": 42,
   "id": "81616b95",
   "metadata": {},
   "outputs": [
    {
     "name": "stdout",
     "output_type": "stream",
     "text": [
      "\u0001\n"
     ]
    }
   ],
   "source": [
    "print(chr(1))"
   ]
  },
  {
   "cell_type": "code",
   "execution_count": 48,
   "id": "3b00e054",
   "metadata": {},
   "outputs": [
    {
     "name": "stdout",
     "output_type": "stream",
     "text": [
      "문자열을 입력하세요: 문자열\n",
      "열자문\n"
     ]
    }
   ],
   "source": []
  },
  {
   "cell_type": "code",
   "execution_count": 64,
   "id": "396a513e",
   "metadata": {},
   "outputs": [
    {
     "name": "stdout",
     "output_type": "stream",
     "text": [
      "파일을 입력하세요: tsy.py\n",
      "파일: tsy.py\n",
      "파일명: tsy, 확장자: py\n"
     ]
    }
   ],
   "source": [
    "a = input(\"파일을 입력하세요: \")\n",
    "i, j = a.split(\".\")\n",
    "print(\"파일: %s\" %a)\n",
    "print(\"파일명: %s, 확장자: %s\"%(i, j))"
   ]
  },
  {
   "cell_type": "code",
   "execution_count": 74,
   "id": "151a96b6",
   "metadata": {},
   "outputs": [
    {
     "name": "stdout",
     "output_type": "stream",
     "text": [
      "<module 'datetime' from 'c:\\\\python\\\\python38\\\\lib\\\\datetime.py'>\n"
     ]
    }
   ],
   "source": [
    "import datetime\n",
    "datetime.datetime.now()\n",
    "datetime.datetime(2021, 7, 21, 13, 7, 57, 958242)\n",
    "print(datetime)"
   ]
  },
  {
   "cell_type": "code",
   "execution_count": null,
   "id": "36afcb44",
   "metadata": {},
   "outputs": [],
   "source": []
  }
 ],
 "metadata": {
  "kernelspec": {
   "display_name": "Python 3 (ipykernel)",
   "language": "python",
   "name": "python3"
  },
  "language_info": {
   "codemirror_mode": {
    "name": "ipython",
    "version": 3
   },
   "file_extension": ".py",
   "mimetype": "text/x-python",
   "name": "python",
   "nbconvert_exporter": "python",
   "pygments_lexer": "ipython3",
   "version": "3.8.10"
  }
 },
 "nbformat": 4,
 "nbformat_minor": 5
}
