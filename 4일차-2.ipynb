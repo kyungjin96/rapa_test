{
 "cells": [
  {
   "cell_type": "code",
   "execution_count": 1,
   "id": "d3c7385a",
   "metadata": {},
   "outputs": [
    {
     "name": "stdout",
     "output_type": "stream",
     "text": [
      "[환율정보 불러오기]\n",
      "-환율기준시간: 2021.08.26 15:34\n",
      "-달러: 1,170.00\n",
      "-위안: 180.44\n",
      "-유로: 1,376.10\n"
     ]
    }
   ],
   "source": [
    "import urllib.request\n",
    "import ssl\n",
    "\n",
    "context = ssl._create_unverified_context()\n",
    "\n",
    "#환율정보 페이지 불러오기\n",
    "print(\"[환율정보 불러오기]\")\n",
    "URL = \"https://search.naver.com/search.naver?where=nexearch&sm=top_hty&fbm=1&ie=utf8&query=%ED%99%98%EC%9C%A8\"\n",
    "page = urllib.request.urlopen(URL, context=context)                              \n",
    "text = page.read().decode(\"utf8\")  # 해당 페이지의 소스코드\n",
    "#print(text)\n",
    "\n"
   ]
  },
  {
   "cell_type": "code",
   "execution_count": 2,
   "id": "ff08115e",
   "metadata": {},
   "outputs": [
    {
     "name": "stdout",
     "output_type": "stream",
     "text": [
      "-환율기준시간: 2021.08.26 15:34\n",
      "-달러: 1,170.00\n",
      "-위안: 180.44\n",
      "-유로: 1,376.10\n"
     ]
    }
   ],
   "source": [
    "#환율정보 가져오기: 기준시간 \n",
    "searchText = 'class=\"grp_info\"> <em>'\n",
    "where      = text.find(searchText)  #소스코드에서 해당 문자열의 시작위치\n",
    "targetInfo = text[where+len(searchText):where+len(searchText)+16]\n",
    "print(f'-환율기준시간: {targetInfo}')\n",
    "\n",
    "#환율정보 가져오기: 달러\n",
    "searchText = '<span>미국 <em>USD</em></span></a></th> <td><span>'\n",
    "where      = text.find(searchText)\n",
    "targetInfo = text[where+len(searchText):where+len(searchText)+8] \n",
    "print(f'-달러: {targetInfo}')\n",
    "\n",
    "#환율정보 가져오기: 위안\n",
    "searchText = '<span>중국 <em>CNY</em></span></a></th> <td><span>'\n",
    "where      = text.find(searchText)\n",
    "targetInfo = text[where+len(searchText):where+len(searchText)+6] \n",
    "print(f'-위안: {targetInfo}')\n",
    "\n",
    "#환율정보 가져오기:유로화\n",
    "searchText = '<span>유럽연합 <em>EUR</em></span></a></th> <td><span>'\n",
    "where      = text.find(searchText)\n",
    "targetInfo = text[where+len(searchText):where+len(searchText)+8] \n",
    "print(f'-유로: {targetInfo}')\n",
    "\n",
    "\n",
    "\n",
    "\n"
   ]
  },
  {
   "cell_type": "code",
   "execution_count": 18,
   "id": "d985f2cb",
   "metadata": {},
   "outputs": [
    {
     "name": "stdout",
     "output_type": "stream",
     "text": [
      "['class=\"grp_info\"> <em>', 16]\n",
      "-환율기준시간  : 2021.08.26 15:34\n",
      "['<span>미국 <em>USD</em></span></a></th> <td><span>', 8]\n",
      "-달러 : 1,170.00\n",
      "['<span>중국 <em>CNY</em></span></a></th> <td><span>', 6]\n",
      "-위안 : 180.44\n"
     ]
    }
   ],
   "source": [
    "def target(searchText,x) :\n",
    "    where      = text.find(searchText)\n",
    "    targetInfo = text[where+len(searchText):where+len(searchText) + x]\n",
    "    return targetInfo\n",
    "                      \n",
    "                      \n",
    "                      \n",
    "info = {'환율기준시간 ' : ['class=\"grp_info\"> <em>',16],\n",
    "       '달러' : ['<span>미국 <em>USD</em></span></a></th> <td><span>',8],\n",
    "       '위안' : ['<span>중국 <em>CNY</em></span></a></th> <td><span>',6]}\n",
    "                      \n",
    "                      \n",
    "for k in info : \n",
    "    v=info[k]\n",
    "    print(v)\n",
    "    print(f'-{k} : {target(v[0],v[1])}')"
   ]
  },
  {
   "cell_type": "code",
   "execution_count": 20,
   "id": "0d0d8ba2",
   "metadata": {},
   "outputs": [
    {
     "name": "stdout",
     "output_type": "stream",
     "text": [
      "30\n"
     ]
    }
   ],
   "source": [
    "#lambda\n",
    "\n",
    "def hap(n1,n2) : \n",
    "    return n1 +n2\n",
    "print(hap(10,20))\n",
    "\n"
   ]
  },
  {
   "cell_type": "code",
   "execution_count": 21,
   "id": "2aa030a0",
   "metadata": {},
   "outputs": [
    {
     "name": "stdout",
     "output_type": "stream",
     "text": [
      "30\n"
     ]
    }
   ],
   "source": [
    "hap = lambda n1,n2 : n1+n2\n",
    "print(hap(10,20))"
   ]
  },
  {
   "cell_type": "code",
   "execution_count": 31,
   "id": "b063d97a",
   "metadata": {},
   "outputs": [
    {
     "ename": "SyntaxError",
     "evalue": "invalid syntax (Temp/ipykernel_6384/2604795916.py, line 3)",
     "output_type": "error",
     "traceback": [
      "\u001b[1;36m  File \u001b[1;32m\"C:\\Users\\PC021\\AppData\\Local\\Temp/ipykernel_6384/2604795916.py\"\u001b[1;36m, line \u001b[1;32m3\u001b[0m\n\u001b[1;33m    def add10(num)\u001b[0m\n\u001b[1;37m                  ^\u001b[0m\n\u001b[1;31mSyntaxError\u001b[0m\u001b[1;31m:\u001b[0m invalid syntax\n"
     ]
    }
   ],
   "source": [
    "mylist = [1,2,3,4,5]\n",
    "\n",
    "def add10(num)\n",
    "    return num+10\n",
    "\n",
    "for idx,val in enumerate(mylist) : \n",
    "    mylist[idx] = add10(val)\n",
    "print(mylist)\n"
   ]
  },
  {
   "cell_type": "code",
   "execution_count": 36,
   "id": "7432791d",
   "metadata": {},
   "outputs": [
    {
     "name": "stdout",
     "output_type": "stream",
     "text": [
      "[41, 42, 43, 44, 45]\n"
     ]
    }
   ],
   "source": [
    "\n",
    "\n",
    "#add10 = lambdamylist = [1,2,3,4 num : num+10\n",
    "\n",
    "mylist = list(map(lambda num : num+10,mylist))\n",
    "print(mylist)"
   ]
  },
  {
   "cell_type": "code",
   "execution_count": 41,
   "id": "29d7f5d8",
   "metadata": {},
   "outputs": [
    {
     "name": "stdout",
     "output_type": "stream",
     "text": [
      "[1, 2, '3', 4, 5, '6', 7, 8, '9', 10]\n"
     ]
    }
   ],
   "source": [
    "myList = [1, 2, 3, 4, 5, 6, 7, 8, 9, 10]\n",
    "\n",
    "A = lambda x : str(x) if x%3 == 0 else x  # : 앞에는 변수 \n",
    "\n",
    "myList = list(map(A,myList))\n",
    "print(myList)"
   ]
  },
  {
   "cell_type": "code",
   "execution_count": 48,
   "id": "17d29b37",
   "metadata": {},
   "outputs": [
    {
     "ename": "TypeError",
     "evalue": "'function' object is not iterable",
     "output_type": "error",
     "traceback": [
      "\u001b[1;31m---------------------------------------------------------------------------\u001b[0m",
      "\u001b[1;31mTypeError\u001b[0m                                 Traceback (most recent call last)",
      "\u001b[1;32m~\\AppData\\Local\\Temp/ipykernel_6384/730577765.py\u001b[0m in \u001b[0;36m<module>\u001b[1;34m\u001b[0m\n\u001b[0;32m      7\u001b[0m \u001b[1;33m\u001b[0m\u001b[0m\n\u001b[0;32m      8\u001b[0m \u001b[1;33m\u001b[0m\u001b[0m\n\u001b[1;32m----> 9\u001b[1;33m \u001b[0mprint\u001b[0m\u001b[1;33m(\u001b[0m\u001b[0mlist\u001b[0m\u001b[1;33m(\u001b[0m\u001b[0mC\u001b[0m\u001b[1;33m)\u001b[0m\u001b[1;33m)\u001b[0m\u001b[1;33m\u001b[0m\u001b[1;33m\u001b[0m\u001b[0m\n\u001b[0m",
      "\u001b[1;31mTypeError\u001b[0m: 'function' object is not iterable"
     ]
    }
   ],
   "source": [
    "myList = [1, 2, 3, 4, 5, 6, 7, 8, 9, 10]\n",
    "\n",
    "def C(x) :\n",
    "    if i%3 == 0 : return srt(x)\n",
    "    else : return x\n",
    "        \n",
    "\n",
    "\n",
    "print(list(C))"
   ]
  },
  {
   "cell_type": "code",
   "execution_count": 44,
   "id": "7cb699aa",
   "metadata": {},
   "outputs": [
    {
     "name": "stdout",
     "output_type": "stream",
     "text": [
      "[1, 2, '3', 4, 5, '6', 7, 8, '9', 10]\n"
     ]
    }
   ],
   "source": [
    "myList = [1, 2, 3, 4, 5, 6, 7, 8, 9, 10]\n",
    "myList = [str(x) if x%3==0 else x for x in myList]\n",
    "print(myList)"
   ]
  },
  {
   "cell_type": "code",
   "execution_count": null,
   "id": "0bb9bea4",
   "metadata": {},
   "outputs": [],
   "source": [
    "myList1 = [1, 2, 3, 4, 5]\n",
    "myList2 = [2, 4, 6, 8, 10]\n",
    "\n",
    "A = lambda x"
   ]
  }
 ],
 "metadata": {
  "kernelspec": {
   "display_name": "Python 3 (ipykernel)",
   "language": "python",
   "name": "python3"
  },
  "language_info": {
   "codemirror_mode": {
    "name": "ipython",
    "version": 3
   },
   "file_extension": ".py",
   "mimetype": "text/x-python",
   "name": "python",
   "nbconvert_exporter": "python",
   "pygments_lexer": "ipython3",
   "version": "3.8.10"
  }
 },
 "nbformat": 4,
 "nbformat_minor": 5
}
